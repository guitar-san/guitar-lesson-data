{
 "cells": [
  {
   "cell_type": "code",
   "execution_count": 1,
   "id": "7c1f3832",
   "metadata": {
    "scrolled": true
   },
   "outputs": [
    {
     "name": "stdout",
     "output_type": "stream",
     "text": [
      "Requirement already satisfied: nlplot in /Users/iinonami/anaconda3/lib/python3.11/site-packages (1.6.0)\n",
      "Requirement already satisfied: pandas in /Users/iinonami/anaconda3/lib/python3.11/site-packages (from nlplot) (2.0.3)\n",
      "Requirement already satisfied: numpy in /Users/iinonami/anaconda3/lib/python3.11/site-packages (from nlplot) (1.24.3)\n",
      "Requirement already satisfied: tqdm in /Users/iinonami/anaconda3/lib/python3.11/site-packages (from nlplot) (4.65.0)\n",
      "Requirement already satisfied: seaborn in /Users/iinonami/anaconda3/lib/python3.11/site-packages (from nlplot) (0.12.2)\n",
      "Requirement already satisfied: plotly>=4.12.0 in /Users/iinonami/anaconda3/lib/python3.11/site-packages (from nlplot) (5.9.0)\n",
      "Requirement already satisfied: matplotlib in /Users/iinonami/anaconda3/lib/python3.11/site-packages (from nlplot) (3.7.2)\n",
      "Requirement already satisfied: wordcloud in /Users/iinonami/anaconda3/lib/python3.11/site-packages (from nlplot) (1.9.2)\n",
      "Requirement already satisfied: pillow in /Users/iinonami/anaconda3/lib/python3.11/site-packages (from nlplot) (9.4.0)\n",
      "Requirement already satisfied: networkx in /Users/iinonami/anaconda3/lib/python3.11/site-packages (from nlplot) (3.1)\n",
      "Requirement already satisfied: ipython in /Users/iinonami/anaconda3/lib/python3.11/site-packages (from nlplot) (8.15.0)\n",
      "Requirement already satisfied: scikit-learn in /Users/iinonami/anaconda3/lib/python3.11/site-packages (from nlplot) (1.3.0)\n",
      "Requirement already satisfied: tenacity>=6.2.0 in /Users/iinonami/anaconda3/lib/python3.11/site-packages (from plotly>=4.12.0->nlplot) (8.2.2)\n",
      "Requirement already satisfied: backcall in /Users/iinonami/anaconda3/lib/python3.11/site-packages (from ipython->nlplot) (0.2.0)\n",
      "Requirement already satisfied: decorator in /Users/iinonami/anaconda3/lib/python3.11/site-packages (from ipython->nlplot) (5.1.1)\n",
      "Requirement already satisfied: jedi>=0.16 in /Users/iinonami/anaconda3/lib/python3.11/site-packages (from ipython->nlplot) (0.18.1)\n",
      "Requirement already satisfied: matplotlib-inline in /Users/iinonami/anaconda3/lib/python3.11/site-packages (from ipython->nlplot) (0.1.6)\n",
      "Requirement already satisfied: pickleshare in /Users/iinonami/anaconda3/lib/python3.11/site-packages (from ipython->nlplot) (0.7.5)\n",
      "Requirement already satisfied: prompt-toolkit!=3.0.37,<3.1.0,>=3.0.30 in /Users/iinonami/anaconda3/lib/python3.11/site-packages (from ipython->nlplot) (3.0.36)\n",
      "Requirement already satisfied: pygments>=2.4.0 in /Users/iinonami/anaconda3/lib/python3.11/site-packages (from ipython->nlplot) (2.15.1)\n",
      "Requirement already satisfied: stack-data in /Users/iinonami/anaconda3/lib/python3.11/site-packages (from ipython->nlplot) (0.2.0)\n",
      "Requirement already satisfied: traitlets>=5 in /Users/iinonami/anaconda3/lib/python3.11/site-packages (from ipython->nlplot) (5.7.1)\n",
      "Requirement already satisfied: pexpect>4.3 in /Users/iinonami/anaconda3/lib/python3.11/site-packages (from ipython->nlplot) (4.8.0)\n",
      "Requirement already satisfied: appnope in /Users/iinonami/anaconda3/lib/python3.11/site-packages (from ipython->nlplot) (0.1.2)\n",
      "Requirement already satisfied: contourpy>=1.0.1 in /Users/iinonami/anaconda3/lib/python3.11/site-packages (from matplotlib->nlplot) (1.0.5)\n",
      "Requirement already satisfied: cycler>=0.10 in /Users/iinonami/anaconda3/lib/python3.11/site-packages (from matplotlib->nlplot) (0.11.0)\n",
      "Requirement already satisfied: fonttools>=4.22.0 in /Users/iinonami/anaconda3/lib/python3.11/site-packages (from matplotlib->nlplot) (4.25.0)\n",
      "Requirement already satisfied: kiwisolver>=1.0.1 in /Users/iinonami/anaconda3/lib/python3.11/site-packages (from matplotlib->nlplot) (1.4.4)\n",
      "Requirement already satisfied: packaging>=20.0 in /Users/iinonami/anaconda3/lib/python3.11/site-packages (from matplotlib->nlplot) (23.1)\n",
      "Requirement already satisfied: pyparsing<3.1,>=2.3.1 in /Users/iinonami/anaconda3/lib/python3.11/site-packages (from matplotlib->nlplot) (3.0.9)\n",
      "Requirement already satisfied: python-dateutil>=2.7 in /Users/iinonami/anaconda3/lib/python3.11/site-packages (from matplotlib->nlplot) (2.8.2)\n",
      "Requirement already satisfied: pytz>=2020.1 in /Users/iinonami/anaconda3/lib/python3.11/site-packages (from pandas->nlplot) (2023.3.post1)\n",
      "Requirement already satisfied: tzdata>=2022.1 in /Users/iinonami/anaconda3/lib/python3.11/site-packages (from pandas->nlplot) (2023.3)\n",
      "Requirement already satisfied: scipy>=1.5.0 in /Users/iinonami/anaconda3/lib/python3.11/site-packages (from scikit-learn->nlplot) (1.11.1)\n",
      "Requirement already satisfied: joblib>=1.1.1 in /Users/iinonami/anaconda3/lib/python3.11/site-packages (from scikit-learn->nlplot) (1.2.0)\n",
      "Requirement already satisfied: threadpoolctl>=2.0.0 in /Users/iinonami/anaconda3/lib/python3.11/site-packages (from scikit-learn->nlplot) (2.2.0)\n",
      "Requirement already satisfied: parso<0.9.0,>=0.8.0 in /Users/iinonami/anaconda3/lib/python3.11/site-packages (from jedi>=0.16->ipython->nlplot) (0.8.3)\n",
      "Requirement already satisfied: ptyprocess>=0.5 in /Users/iinonami/anaconda3/lib/python3.11/site-packages (from pexpect>4.3->ipython->nlplot) (0.7.0)\n",
      "Requirement already satisfied: wcwidth in /Users/iinonami/anaconda3/lib/python3.11/site-packages (from prompt-toolkit!=3.0.37,<3.1.0,>=3.0.30->ipython->nlplot) (0.2.5)\n",
      "Requirement already satisfied: six>=1.5 in /Users/iinonami/anaconda3/lib/python3.11/site-packages (from python-dateutil>=2.7->matplotlib->nlplot) (1.16.0)\n",
      "Requirement already satisfied: executing in /Users/iinonami/anaconda3/lib/python3.11/site-packages (from stack-data->ipython->nlplot) (0.8.3)\n",
      "Requirement already satisfied: asttokens in /Users/iinonami/anaconda3/lib/python3.11/site-packages (from stack-data->ipython->nlplot) (2.0.5)\n",
      "Requirement already satisfied: pure-eval in /Users/iinonami/anaconda3/lib/python3.11/site-packages (from stack-data->ipython->nlplot) (0.2.2)\n"
     ]
    }
   ],
   "source": [
    "!pip install nlplot"
   ]
  },
  {
   "cell_type": "code",
   "execution_count": 21,
   "id": "8100fb9c",
   "metadata": {
    "scrolled": true
   },
   "outputs": [
    {
     "data": {
      "text/html": [
       "<div>\n",
       "<style scoped>\n",
       "    .dataframe tbody tr th:only-of-type {\n",
       "        vertical-align: middle;\n",
       "    }\n",
       "\n",
       "    .dataframe tbody tr th {\n",
       "        vertical-align: top;\n",
       "    }\n",
       "\n",
       "    .dataframe thead th {\n",
       "        text-align: right;\n",
       "    }\n",
       "</style>\n",
       "<table border=\"1\" class=\"dataframe\">\n",
       "  <thead>\n",
       "    <tr style=\"text-align: right;\">\n",
       "      <th></th>\n",
       "      <th>LS</th>\n",
       "      <th>label(大)</th>\n",
       "    </tr>\n",
       "  </thead>\n",
       "  <tbody>\n",
       "    <tr>\n",
       "      <th>0</th>\n",
       "      <td>6-1</td>\n",
       "      <td>AQ Music S-Speech S-Speech Music GP Music GP M...</td>\n",
       "    </tr>\n",
       "    <tr>\n",
       "      <th>1</th>\n",
       "      <td>6-2</td>\n",
       "      <td>S-Speech Music S-Speech AQ AQ Music Music Musi...</td>\n",
       "    </tr>\n",
       "    <tr>\n",
       "      <th>2</th>\n",
       "      <td>6-3</td>\n",
       "      <td>AQ S-Speech GSI Music GSI Music GF S-Speech GF...</td>\n",
       "    </tr>\n",
       "    <tr>\n",
       "      <th>3</th>\n",
       "      <td>6-4</td>\n",
       "      <td>GF Music GSI S-Speech Music GOI GF Music S-Spe...</td>\n",
       "    </tr>\n",
       "    <tr>\n",
       "      <th>4</th>\n",
       "      <td>6-5</td>\n",
       "      <td>Music S-Speech AQ S-Speech AQ Music GSI S-Spee...</td>\n",
       "    </tr>\n",
       "    <tr>\n",
       "      <th>5</th>\n",
       "      <td>7-1</td>\n",
       "      <td>GSI S-Speech GSI S-Speech GSI S-Speech AQ Musi...</td>\n",
       "    </tr>\n",
       "    <tr>\n",
       "      <th>6</th>\n",
       "      <td>7-2</td>\n",
       "      <td>Music GOI Music S-Speech Music S-Speech Music ...</td>\n",
       "    </tr>\n",
       "    <tr>\n",
       "      <th>7</th>\n",
       "      <td>7-3</td>\n",
       "      <td>Music AQ Music GP Music GSI GF Music S-Speech ...</td>\n",
       "    </tr>\n",
       "  </tbody>\n",
       "</table>\n",
       "</div>"
      ],
      "text/plain": [
       "    LS                                           label(大)\n",
       "0  6-1  AQ Music S-Speech S-Speech Music GP Music GP M...\n",
       "1  6-2  S-Speech Music S-Speech AQ AQ Music Music Musi...\n",
       "2  6-3  AQ S-Speech GSI Music GSI Music GF S-Speech GF...\n",
       "3  6-4  GF Music GSI S-Speech Music GOI GF Music S-Spe...\n",
       "4  6-5  Music S-Speech AQ S-Speech AQ Music GSI S-Spee...\n",
       "5  7-1  GSI S-Speech GSI S-Speech GSI S-Speech AQ Musi...\n",
       "6  7-2  Music GOI Music S-Speech Music S-Speech Music ...\n",
       "7  7-3  Music AQ Music GP Music GSI GF Music S-Speech ..."
      ]
     },
     "execution_count": 21,
     "metadata": {},
     "output_type": "execute_result"
    }
   ],
   "source": [
    "import pandas as pd\n",
    "\n",
    "#ファイル読み込み \n",
    "df = pd.read_csv('label_order_icl_LS6-7.csv')\n",
    "\n",
    "#表示\n",
    "df"
   ]
  },
  {
   "cell_type": "code",
   "execution_count": 22,
   "id": "21102435",
   "metadata": {
    "scrolled": false
   },
   "outputs": [
    {
     "name": "stderr",
     "output_type": "stream",
     "text": [
      "100%|███████████████████████████████████████████| 8/8 [00:00<00:00, 7511.63it/s]\n"
     ]
    },
    {
     "data": {
      "application/vnd.plotly.v1+json": {
       "config": {
        "plotlyServerURL": "https://plot.ly"
       },
       "data": [
        {
         "alignmentgroup": "True",
         "hovertemplate": "word_count=%{text}<br>word=%{y}<extra></extra>",
         "legendgroup": "",
         "marker": {
          "pattern": {
           "shape": ""
          }
         },
         "name": "",
         "offsetgroup": "",
         "orientation": "h",
         "showlegend": false,
         "text": [
          1,
          1,
          1,
          1,
          1,
          1,
          1,
          1,
          1,
          1,
          1,
          2,
          2,
          2,
          3,
          3,
          3,
          4,
          4,
          4,
          4,
          4,
          5,
          8,
          8,
          9,
          10,
          10,
          11,
          11,
          11,
          12,
          12,
          12,
          14,
          15,
          16,
          19,
          22,
          22,
          26,
          31,
          35,
          54,
          56,
          68,
          73,
          111,
          118,
          122,
          124,
          130,
          138,
          333
         ],
         "textposition": "auto",
         "texttemplate": "%{text:.2s}",
         "type": "bar",
         "x": [
          1,
          1,
          1,
          1,
          1,
          1,
          1,
          1,
          1,
          1,
          1,
          2,
          2,
          2,
          3,
          3,
          3,
          4,
          4,
          4,
          4,
          4,
          5,
          8,
          8,
          9,
          10,
          10,
          11,
          11,
          11,
          12,
          12,
          12,
          14,
          15,
          16,
          19,
          22,
          22,
          26,
          31,
          35,
          54,
          56,
          68,
          73,
          111,
          118,
          122,
          124,
          130,
          138,
          333
         ],
         "xaxis": "x",
         "y": [
          "aq aq",
          "gp aq",
          "gp ga",
          "aq gp",
          "ga goi",
          "gp gf",
          "ga gsi",
          "ga aq",
          "goi gf",
          "goi gp",
          "gf aq",
          "goi gsi",
          "gf gsi",
          "aq gsi",
          "ga ga",
          "goi goi",
          "gsi ga",
          "gf gp",
          "ga music",
          "gsi gf",
          "gf gf",
          "gsi aq",
          "gsi goi",
          "goi s-speech",
          "music ga",
          "gp gsi",
          "gf s-speech",
          "gp gp",
          "s-speech goi",
          "gsi gp",
          "aq s-speech",
          "s-speech aq",
          "music aq",
          "s-speech ga",
          "s-speech s-speech",
          "s-speech gf",
          "ga s-speech",
          "aq music",
          "s-speech gp",
          "gsi gsi",
          "music goi",
          "goi music",
          "gp s-speech",
          "s-speech gsi",
          "gsi s-speech",
          "music gf",
          "gf music",
          "music s-speech",
          "s-speech music",
          "gp music",
          "gsi music",
          "music gp",
          "music gsi",
          "music music"
         ],
         "yaxis": "y"
        }
       ],
       "layout": {
        "barmode": "relative",
        "height": 1100,
        "legend": {
         "tracegroupgap": 0
        },
        "margin": {
         "t": 60
        },
        "template": {
         "data": {
          "bar": [
           {
            "error_x": {
             "color": "#2a3f5f"
            },
            "error_y": {
             "color": "#2a3f5f"
            },
            "marker": {
             "line": {
              "color": "#E5ECF6",
              "width": 0.5
             },
             "pattern": {
              "fillmode": "overlay",
              "size": 10,
              "solidity": 0.2
             }
            },
            "type": "bar"
           }
          ],
          "barpolar": [
           {
            "marker": {
             "line": {
              "color": "#E5ECF6",
              "width": 0.5
             },
             "pattern": {
              "fillmode": "overlay",
              "size": 10,
              "solidity": 0.2
             }
            },
            "type": "barpolar"
           }
          ],
          "carpet": [
           {
            "aaxis": {
             "endlinecolor": "#2a3f5f",
             "gridcolor": "white",
             "linecolor": "white",
             "minorgridcolor": "white",
             "startlinecolor": "#2a3f5f"
            },
            "baxis": {
             "endlinecolor": "#2a3f5f",
             "gridcolor": "white",
             "linecolor": "white",
             "minorgridcolor": "white",
             "startlinecolor": "#2a3f5f"
            },
            "type": "carpet"
           }
          ],
          "choropleth": [
           {
            "colorbar": {
             "outlinewidth": 0,
             "ticks": ""
            },
            "type": "choropleth"
           }
          ],
          "contour": [
           {
            "colorbar": {
             "outlinewidth": 0,
             "ticks": ""
            },
            "colorscale": [
             [
              0,
              "#0d0887"
             ],
             [
              0.1111111111111111,
              "#46039f"
             ],
             [
              0.2222222222222222,
              "#7201a8"
             ],
             [
              0.3333333333333333,
              "#9c179e"
             ],
             [
              0.4444444444444444,
              "#bd3786"
             ],
             [
              0.5555555555555556,
              "#d8576b"
             ],
             [
              0.6666666666666666,
              "#ed7953"
             ],
             [
              0.7777777777777778,
              "#fb9f3a"
             ],
             [
              0.8888888888888888,
              "#fdca26"
             ],
             [
              1,
              "#f0f921"
             ]
            ],
            "type": "contour"
           }
          ],
          "contourcarpet": [
           {
            "colorbar": {
             "outlinewidth": 0,
             "ticks": ""
            },
            "type": "contourcarpet"
           }
          ],
          "heatmap": [
           {
            "colorbar": {
             "outlinewidth": 0,
             "ticks": ""
            },
            "colorscale": [
             [
              0,
              "#0d0887"
             ],
             [
              0.1111111111111111,
              "#46039f"
             ],
             [
              0.2222222222222222,
              "#7201a8"
             ],
             [
              0.3333333333333333,
              "#9c179e"
             ],
             [
              0.4444444444444444,
              "#bd3786"
             ],
             [
              0.5555555555555556,
              "#d8576b"
             ],
             [
              0.6666666666666666,
              "#ed7953"
             ],
             [
              0.7777777777777778,
              "#fb9f3a"
             ],
             [
              0.8888888888888888,
              "#fdca26"
             ],
             [
              1,
              "#f0f921"
             ]
            ],
            "type": "heatmap"
           }
          ],
          "heatmapgl": [
           {
            "colorbar": {
             "outlinewidth": 0,
             "ticks": ""
            },
            "colorscale": [
             [
              0,
              "#0d0887"
             ],
             [
              0.1111111111111111,
              "#46039f"
             ],
             [
              0.2222222222222222,
              "#7201a8"
             ],
             [
              0.3333333333333333,
              "#9c179e"
             ],
             [
              0.4444444444444444,
              "#bd3786"
             ],
             [
              0.5555555555555556,
              "#d8576b"
             ],
             [
              0.6666666666666666,
              "#ed7953"
             ],
             [
              0.7777777777777778,
              "#fb9f3a"
             ],
             [
              0.8888888888888888,
              "#fdca26"
             ],
             [
              1,
              "#f0f921"
             ]
            ],
            "type": "heatmapgl"
           }
          ],
          "histogram": [
           {
            "marker": {
             "pattern": {
              "fillmode": "overlay",
              "size": 10,
              "solidity": 0.2
             }
            },
            "type": "histogram"
           }
          ],
          "histogram2d": [
           {
            "colorbar": {
             "outlinewidth": 0,
             "ticks": ""
            },
            "colorscale": [
             [
              0,
              "#0d0887"
             ],
             [
              0.1111111111111111,
              "#46039f"
             ],
             [
              0.2222222222222222,
              "#7201a8"
             ],
             [
              0.3333333333333333,
              "#9c179e"
             ],
             [
              0.4444444444444444,
              "#bd3786"
             ],
             [
              0.5555555555555556,
              "#d8576b"
             ],
             [
              0.6666666666666666,
              "#ed7953"
             ],
             [
              0.7777777777777778,
              "#fb9f3a"
             ],
             [
              0.8888888888888888,
              "#fdca26"
             ],
             [
              1,
              "#f0f921"
             ]
            ],
            "type": "histogram2d"
           }
          ],
          "histogram2dcontour": [
           {
            "colorbar": {
             "outlinewidth": 0,
             "ticks": ""
            },
            "colorscale": [
             [
              0,
              "#0d0887"
             ],
             [
              0.1111111111111111,
              "#46039f"
             ],
             [
              0.2222222222222222,
              "#7201a8"
             ],
             [
              0.3333333333333333,
              "#9c179e"
             ],
             [
              0.4444444444444444,
              "#bd3786"
             ],
             [
              0.5555555555555556,
              "#d8576b"
             ],
             [
              0.6666666666666666,
              "#ed7953"
             ],
             [
              0.7777777777777778,
              "#fb9f3a"
             ],
             [
              0.8888888888888888,
              "#fdca26"
             ],
             [
              1,
              "#f0f921"
             ]
            ],
            "type": "histogram2dcontour"
           }
          ],
          "mesh3d": [
           {
            "colorbar": {
             "outlinewidth": 0,
             "ticks": ""
            },
            "type": "mesh3d"
           }
          ],
          "parcoords": [
           {
            "line": {
             "colorbar": {
              "outlinewidth": 0,
              "ticks": ""
             }
            },
            "type": "parcoords"
           }
          ],
          "pie": [
           {
            "automargin": true,
            "type": "pie"
           }
          ],
          "scatter": [
           {
            "fillpattern": {
             "fillmode": "overlay",
             "size": 10,
             "solidity": 0.2
            },
            "type": "scatter"
           }
          ],
          "scatter3d": [
           {
            "line": {
             "colorbar": {
              "outlinewidth": 0,
              "ticks": ""
             }
            },
            "marker": {
             "colorbar": {
              "outlinewidth": 0,
              "ticks": ""
             }
            },
            "type": "scatter3d"
           }
          ],
          "scattercarpet": [
           {
            "marker": {
             "colorbar": {
              "outlinewidth": 0,
              "ticks": ""
             }
            },
            "type": "scattercarpet"
           }
          ],
          "scattergeo": [
           {
            "marker": {
             "colorbar": {
              "outlinewidth": 0,
              "ticks": ""
             }
            },
            "type": "scattergeo"
           }
          ],
          "scattergl": [
           {
            "marker": {
             "colorbar": {
              "outlinewidth": 0,
              "ticks": ""
             }
            },
            "type": "scattergl"
           }
          ],
          "scattermapbox": [
           {
            "marker": {
             "colorbar": {
              "outlinewidth": 0,
              "ticks": ""
             }
            },
            "type": "scattermapbox"
           }
          ],
          "scatterpolar": [
           {
            "marker": {
             "colorbar": {
              "outlinewidth": 0,
              "ticks": ""
             }
            },
            "type": "scatterpolar"
           }
          ],
          "scatterpolargl": [
           {
            "marker": {
             "colorbar": {
              "outlinewidth": 0,
              "ticks": ""
             }
            },
            "type": "scatterpolargl"
           }
          ],
          "scatterternary": [
           {
            "marker": {
             "colorbar": {
              "outlinewidth": 0,
              "ticks": ""
             }
            },
            "type": "scatterternary"
           }
          ],
          "surface": [
           {
            "colorbar": {
             "outlinewidth": 0,
             "ticks": ""
            },
            "colorscale": [
             [
              0,
              "#0d0887"
             ],
             [
              0.1111111111111111,
              "#46039f"
             ],
             [
              0.2222222222222222,
              "#7201a8"
             ],
             [
              0.3333333333333333,
              "#9c179e"
             ],
             [
              0.4444444444444444,
              "#bd3786"
             ],
             [
              0.5555555555555556,
              "#d8576b"
             ],
             [
              0.6666666666666666,
              "#ed7953"
             ],
             [
              0.7777777777777778,
              "#fb9f3a"
             ],
             [
              0.8888888888888888,
              "#fdca26"
             ],
             [
              1,
              "#f0f921"
             ]
            ],
            "type": "surface"
           }
          ],
          "table": [
           {
            "cells": {
             "fill": {
              "color": "#EBF0F8"
             },
             "line": {
              "color": "white"
             }
            },
            "header": {
             "fill": {
              "color": "#C8D4E3"
             },
             "line": {
              "color": "white"
             }
            },
            "type": "table"
           }
          ]
         },
         "layout": {
          "annotationdefaults": {
           "arrowcolor": "#2a3f5f",
           "arrowhead": 0,
           "arrowwidth": 1
          },
          "autotypenumbers": "strict",
          "coloraxis": {
           "colorbar": {
            "outlinewidth": 0,
            "ticks": ""
           }
          },
          "colorscale": {
           "diverging": [
            [
             0,
             "#8e0152"
            ],
            [
             0.1,
             "#c51b7d"
            ],
            [
             0.2,
             "#de77ae"
            ],
            [
             0.3,
             "#f1b6da"
            ],
            [
             0.4,
             "#fde0ef"
            ],
            [
             0.5,
             "#f7f7f7"
            ],
            [
             0.6,
             "#e6f5d0"
            ],
            [
             0.7,
             "#b8e186"
            ],
            [
             0.8,
             "#7fbc41"
            ],
            [
             0.9,
             "#4d9221"
            ],
            [
             1,
             "#276419"
            ]
           ],
           "sequential": [
            [
             0,
             "#0d0887"
            ],
            [
             0.1111111111111111,
             "#46039f"
            ],
            [
             0.2222222222222222,
             "#7201a8"
            ],
            [
             0.3333333333333333,
             "#9c179e"
            ],
            [
             0.4444444444444444,
             "#bd3786"
            ],
            [
             0.5555555555555556,
             "#d8576b"
            ],
            [
             0.6666666666666666,
             "#ed7953"
            ],
            [
             0.7777777777777778,
             "#fb9f3a"
            ],
            [
             0.8888888888888888,
             "#fdca26"
            ],
            [
             1,
             "#f0f921"
            ]
           ],
           "sequentialminus": [
            [
             0,
             "#0d0887"
            ],
            [
             0.1111111111111111,
             "#46039f"
            ],
            [
             0.2222222222222222,
             "#7201a8"
            ],
            [
             0.3333333333333333,
             "#9c179e"
            ],
            [
             0.4444444444444444,
             "#bd3786"
            ],
            [
             0.5555555555555556,
             "#d8576b"
            ],
            [
             0.6666666666666666,
             "#ed7953"
            ],
            [
             0.7777777777777778,
             "#fb9f3a"
            ],
            [
             0.8888888888888888,
             "#fdca26"
            ],
            [
             1,
             "#f0f921"
            ]
           ]
          },
          "colorway": [
           "#636efa",
           "#EF553B",
           "#00cc96",
           "#ab63fa",
           "#FFA15A",
           "#19d3f3",
           "#FF6692",
           "#B6E880",
           "#FF97FF",
           "#FECB52"
          ],
          "font": {
           "color": "#2a3f5f"
          },
          "geo": {
           "bgcolor": "white",
           "lakecolor": "white",
           "landcolor": "#E5ECF6",
           "showlakes": true,
           "showland": true,
           "subunitcolor": "white"
          },
          "hoverlabel": {
           "align": "left"
          },
          "hovermode": "closest",
          "mapbox": {
           "style": "light"
          },
          "paper_bgcolor": "white",
          "plot_bgcolor": "#E5ECF6",
          "polar": {
           "angularaxis": {
            "gridcolor": "white",
            "linecolor": "white",
            "ticks": ""
           },
           "bgcolor": "#E5ECF6",
           "radialaxis": {
            "gridcolor": "white",
            "linecolor": "white",
            "ticks": ""
           }
          },
          "scene": {
           "xaxis": {
            "backgroundcolor": "#E5ECF6",
            "gridcolor": "white",
            "gridwidth": 2,
            "linecolor": "white",
            "showbackground": true,
            "ticks": "",
            "zerolinecolor": "white"
           },
           "yaxis": {
            "backgroundcolor": "#E5ECF6",
            "gridcolor": "white",
            "gridwidth": 2,
            "linecolor": "white",
            "showbackground": true,
            "ticks": "",
            "zerolinecolor": "white"
           },
           "zaxis": {
            "backgroundcolor": "#E5ECF6",
            "gridcolor": "white",
            "gridwidth": 2,
            "linecolor": "white",
            "showbackground": true,
            "ticks": "",
            "zerolinecolor": "white"
           }
          },
          "shapedefaults": {
           "line": {
            "color": "#2a3f5f"
           }
          },
          "ternary": {
           "aaxis": {
            "gridcolor": "white",
            "linecolor": "white",
            "ticks": ""
           },
           "baxis": {
            "gridcolor": "white",
            "linecolor": "white",
            "ticks": ""
           },
           "bgcolor": "#E5ECF6",
           "caxis": {
            "gridcolor": "white",
            "linecolor": "white",
            "ticks": ""
           }
          },
          "title": {
           "x": 0.05
          },
          "xaxis": {
           "automargin": true,
           "gridcolor": "white",
           "linecolor": "white",
           "ticks": "",
           "title": {
            "standoff": 15
           },
           "zerolinecolor": "white",
           "zerolinewidth": 2
          },
          "yaxis": {
           "automargin": true,
           "gridcolor": "white",
           "linecolor": "white",
           "ticks": "",
           "title": {
            "standoff": 15
           },
           "zerolinecolor": "white",
           "zerolinewidth": 2
          }
         }
        },
        "title": {
         "text": "bigram"
        },
        "width": 800,
        "xaxis": {
         "anchor": "y",
         "domain": [
          0,
          1
         ],
         "title": {
          "text": "word_count"
         }
        },
        "yaxis": {
         "anchor": "x",
         "domain": [
          0,
          1
         ],
         "title": {
          "text": "word"
         }
        }
       }
      },
      "text/html": [
       "<div>                            <div id=\"5f6dcd9a-8f44-43aa-8699-cb722837c073\" class=\"plotly-graph-div\" style=\"height:1100px; width:800px;\"></div>            <script type=\"text/javascript\">                require([\"plotly\"], function(Plotly) {                    window.PLOTLYENV=window.PLOTLYENV || {};                                    if (document.getElementById(\"5f6dcd9a-8f44-43aa-8699-cb722837c073\")) {                    Plotly.newPlot(                        \"5f6dcd9a-8f44-43aa-8699-cb722837c073\",                        [{\"alignmentgroup\":\"True\",\"hovertemplate\":\"word_count=%{text}<br>word=%{y}<extra></extra>\",\"legendgroup\":\"\",\"marker\":{\"pattern\":{\"shape\":\"\"}},\"name\":\"\",\"offsetgroup\":\"\",\"orientation\":\"h\",\"showlegend\":false,\"text\":[1.0,1.0,1.0,1.0,1.0,1.0,1.0,1.0,1.0,1.0,1.0,2.0,2.0,2.0,3.0,3.0,3.0,4.0,4.0,4.0,4.0,4.0,5.0,8.0,8.0,9.0,10.0,10.0,11.0,11.0,11.0,12.0,12.0,12.0,14.0,15.0,16.0,19.0,22.0,22.0,26.0,31.0,35.0,54.0,56.0,68.0,73.0,111.0,118.0,122.0,124.0,130.0,138.0,333.0],\"textposition\":\"auto\",\"x\":[1,1,1,1,1,1,1,1,1,1,1,2,2,2,3,3,3,4,4,4,4,4,5,8,8,9,10,10,11,11,11,12,12,12,14,15,16,19,22,22,26,31,35,54,56,68,73,111,118,122,124,130,138,333],\"xaxis\":\"x\",\"y\":[\"aq aq\",\"gp aq\",\"gp ga\",\"aq gp\",\"ga goi\",\"gp gf\",\"ga gsi\",\"ga aq\",\"goi gf\",\"goi gp\",\"gf aq\",\"goi gsi\",\"gf gsi\",\"aq gsi\",\"ga ga\",\"goi goi\",\"gsi ga\",\"gf gp\",\"ga music\",\"gsi gf\",\"gf gf\",\"gsi aq\",\"gsi goi\",\"goi s-speech\",\"music ga\",\"gp gsi\",\"gf s-speech\",\"gp gp\",\"s-speech goi\",\"gsi gp\",\"aq s-speech\",\"s-speech aq\",\"music aq\",\"s-speech ga\",\"s-speech s-speech\",\"s-speech gf\",\"ga s-speech\",\"aq music\",\"s-speech gp\",\"gsi gsi\",\"music goi\",\"goi music\",\"gp s-speech\",\"s-speech gsi\",\"gsi s-speech\",\"music gf\",\"gf music\",\"music s-speech\",\"s-speech music\",\"gp music\",\"gsi music\",\"music gp\",\"music gsi\",\"music music\"],\"yaxis\":\"y\",\"type\":\"bar\",\"texttemplate\":\"%{text:.2s}\"}],                        {\"template\":{\"data\":{\"histogram2dcontour\":[{\"type\":\"histogram2dcontour\",\"colorbar\":{\"outlinewidth\":0,\"ticks\":\"\"},\"colorscale\":[[0.0,\"#0d0887\"],[0.1111111111111111,\"#46039f\"],[0.2222222222222222,\"#7201a8\"],[0.3333333333333333,\"#9c179e\"],[0.4444444444444444,\"#bd3786\"],[0.5555555555555556,\"#d8576b\"],[0.6666666666666666,\"#ed7953\"],[0.7777777777777778,\"#fb9f3a\"],[0.8888888888888888,\"#fdca26\"],[1.0,\"#f0f921\"]]}],\"choropleth\":[{\"type\":\"choropleth\",\"colorbar\":{\"outlinewidth\":0,\"ticks\":\"\"}}],\"histogram2d\":[{\"type\":\"histogram2d\",\"colorbar\":{\"outlinewidth\":0,\"ticks\":\"\"},\"colorscale\":[[0.0,\"#0d0887\"],[0.1111111111111111,\"#46039f\"],[0.2222222222222222,\"#7201a8\"],[0.3333333333333333,\"#9c179e\"],[0.4444444444444444,\"#bd3786\"],[0.5555555555555556,\"#d8576b\"],[0.6666666666666666,\"#ed7953\"],[0.7777777777777778,\"#fb9f3a\"],[0.8888888888888888,\"#fdca26\"],[1.0,\"#f0f921\"]]}],\"heatmap\":[{\"type\":\"heatmap\",\"colorbar\":{\"outlinewidth\":0,\"ticks\":\"\"},\"colorscale\":[[0.0,\"#0d0887\"],[0.1111111111111111,\"#46039f\"],[0.2222222222222222,\"#7201a8\"],[0.3333333333333333,\"#9c179e\"],[0.4444444444444444,\"#bd3786\"],[0.5555555555555556,\"#d8576b\"],[0.6666666666666666,\"#ed7953\"],[0.7777777777777778,\"#fb9f3a\"],[0.8888888888888888,\"#fdca26\"],[1.0,\"#f0f921\"]]}],\"heatmapgl\":[{\"type\":\"heatmapgl\",\"colorbar\":{\"outlinewidth\":0,\"ticks\":\"\"},\"colorscale\":[[0.0,\"#0d0887\"],[0.1111111111111111,\"#46039f\"],[0.2222222222222222,\"#7201a8\"],[0.3333333333333333,\"#9c179e\"],[0.4444444444444444,\"#bd3786\"],[0.5555555555555556,\"#d8576b\"],[0.6666666666666666,\"#ed7953\"],[0.7777777777777778,\"#fb9f3a\"],[0.8888888888888888,\"#fdca26\"],[1.0,\"#f0f921\"]]}],\"contourcarpet\":[{\"type\":\"contourcarpet\",\"colorbar\":{\"outlinewidth\":0,\"ticks\":\"\"}}],\"contour\":[{\"type\":\"contour\",\"colorbar\":{\"outlinewidth\":0,\"ticks\":\"\"},\"colorscale\":[[0.0,\"#0d0887\"],[0.1111111111111111,\"#46039f\"],[0.2222222222222222,\"#7201a8\"],[0.3333333333333333,\"#9c179e\"],[0.4444444444444444,\"#bd3786\"],[0.5555555555555556,\"#d8576b\"],[0.6666666666666666,\"#ed7953\"],[0.7777777777777778,\"#fb9f3a\"],[0.8888888888888888,\"#fdca26\"],[1.0,\"#f0f921\"]]}],\"surface\":[{\"type\":\"surface\",\"colorbar\":{\"outlinewidth\":0,\"ticks\":\"\"},\"colorscale\":[[0.0,\"#0d0887\"],[0.1111111111111111,\"#46039f\"],[0.2222222222222222,\"#7201a8\"],[0.3333333333333333,\"#9c179e\"],[0.4444444444444444,\"#bd3786\"],[0.5555555555555556,\"#d8576b\"],[0.6666666666666666,\"#ed7953\"],[0.7777777777777778,\"#fb9f3a\"],[0.8888888888888888,\"#fdca26\"],[1.0,\"#f0f921\"]]}],\"mesh3d\":[{\"type\":\"mesh3d\",\"colorbar\":{\"outlinewidth\":0,\"ticks\":\"\"}}],\"scatter\":[{\"fillpattern\":{\"fillmode\":\"overlay\",\"size\":10,\"solidity\":0.2},\"type\":\"scatter\"}],\"parcoords\":[{\"type\":\"parcoords\",\"line\":{\"colorbar\":{\"outlinewidth\":0,\"ticks\":\"\"}}}],\"scatterpolargl\":[{\"type\":\"scatterpolargl\",\"marker\":{\"colorbar\":{\"outlinewidth\":0,\"ticks\":\"\"}}}],\"bar\":[{\"error_x\":{\"color\":\"#2a3f5f\"},\"error_y\":{\"color\":\"#2a3f5f\"},\"marker\":{\"line\":{\"color\":\"#E5ECF6\",\"width\":0.5},\"pattern\":{\"fillmode\":\"overlay\",\"size\":10,\"solidity\":0.2}},\"type\":\"bar\"}],\"scattergeo\":[{\"type\":\"scattergeo\",\"marker\":{\"colorbar\":{\"outlinewidth\":0,\"ticks\":\"\"}}}],\"scatterpolar\":[{\"type\":\"scatterpolar\",\"marker\":{\"colorbar\":{\"outlinewidth\":0,\"ticks\":\"\"}}}],\"histogram\":[{\"marker\":{\"pattern\":{\"fillmode\":\"overlay\",\"size\":10,\"solidity\":0.2}},\"type\":\"histogram\"}],\"scattergl\":[{\"type\":\"scattergl\",\"marker\":{\"colorbar\":{\"outlinewidth\":0,\"ticks\":\"\"}}}],\"scatter3d\":[{\"type\":\"scatter3d\",\"line\":{\"colorbar\":{\"outlinewidth\":0,\"ticks\":\"\"}},\"marker\":{\"colorbar\":{\"outlinewidth\":0,\"ticks\":\"\"}}}],\"scattermapbox\":[{\"type\":\"scattermapbox\",\"marker\":{\"colorbar\":{\"outlinewidth\":0,\"ticks\":\"\"}}}],\"scatterternary\":[{\"type\":\"scatterternary\",\"marker\":{\"colorbar\":{\"outlinewidth\":0,\"ticks\":\"\"}}}],\"scattercarpet\":[{\"type\":\"scattercarpet\",\"marker\":{\"colorbar\":{\"outlinewidth\":0,\"ticks\":\"\"}}}],\"carpet\":[{\"aaxis\":{\"endlinecolor\":\"#2a3f5f\",\"gridcolor\":\"white\",\"linecolor\":\"white\",\"minorgridcolor\":\"white\",\"startlinecolor\":\"#2a3f5f\"},\"baxis\":{\"endlinecolor\":\"#2a3f5f\",\"gridcolor\":\"white\",\"linecolor\":\"white\",\"minorgridcolor\":\"white\",\"startlinecolor\":\"#2a3f5f\"},\"type\":\"carpet\"}],\"table\":[{\"cells\":{\"fill\":{\"color\":\"#EBF0F8\"},\"line\":{\"color\":\"white\"}},\"header\":{\"fill\":{\"color\":\"#C8D4E3\"},\"line\":{\"color\":\"white\"}},\"type\":\"table\"}],\"barpolar\":[{\"marker\":{\"line\":{\"color\":\"#E5ECF6\",\"width\":0.5},\"pattern\":{\"fillmode\":\"overlay\",\"size\":10,\"solidity\":0.2}},\"type\":\"barpolar\"}],\"pie\":[{\"automargin\":true,\"type\":\"pie\"}]},\"layout\":{\"autotypenumbers\":\"strict\",\"colorway\":[\"#636efa\",\"#EF553B\",\"#00cc96\",\"#ab63fa\",\"#FFA15A\",\"#19d3f3\",\"#FF6692\",\"#B6E880\",\"#FF97FF\",\"#FECB52\"],\"font\":{\"color\":\"#2a3f5f\"},\"hovermode\":\"closest\",\"hoverlabel\":{\"align\":\"left\"},\"paper_bgcolor\":\"white\",\"plot_bgcolor\":\"#E5ECF6\",\"polar\":{\"bgcolor\":\"#E5ECF6\",\"angularaxis\":{\"gridcolor\":\"white\",\"linecolor\":\"white\",\"ticks\":\"\"},\"radialaxis\":{\"gridcolor\":\"white\",\"linecolor\":\"white\",\"ticks\":\"\"}},\"ternary\":{\"bgcolor\":\"#E5ECF6\",\"aaxis\":{\"gridcolor\":\"white\",\"linecolor\":\"white\",\"ticks\":\"\"},\"baxis\":{\"gridcolor\":\"white\",\"linecolor\":\"white\",\"ticks\":\"\"},\"caxis\":{\"gridcolor\":\"white\",\"linecolor\":\"white\",\"ticks\":\"\"}},\"coloraxis\":{\"colorbar\":{\"outlinewidth\":0,\"ticks\":\"\"}},\"colorscale\":{\"sequential\":[[0.0,\"#0d0887\"],[0.1111111111111111,\"#46039f\"],[0.2222222222222222,\"#7201a8\"],[0.3333333333333333,\"#9c179e\"],[0.4444444444444444,\"#bd3786\"],[0.5555555555555556,\"#d8576b\"],[0.6666666666666666,\"#ed7953\"],[0.7777777777777778,\"#fb9f3a\"],[0.8888888888888888,\"#fdca26\"],[1.0,\"#f0f921\"]],\"sequentialminus\":[[0.0,\"#0d0887\"],[0.1111111111111111,\"#46039f\"],[0.2222222222222222,\"#7201a8\"],[0.3333333333333333,\"#9c179e\"],[0.4444444444444444,\"#bd3786\"],[0.5555555555555556,\"#d8576b\"],[0.6666666666666666,\"#ed7953\"],[0.7777777777777778,\"#fb9f3a\"],[0.8888888888888888,\"#fdca26\"],[1.0,\"#f0f921\"]],\"diverging\":[[0,\"#8e0152\"],[0.1,\"#c51b7d\"],[0.2,\"#de77ae\"],[0.3,\"#f1b6da\"],[0.4,\"#fde0ef\"],[0.5,\"#f7f7f7\"],[0.6,\"#e6f5d0\"],[0.7,\"#b8e186\"],[0.8,\"#7fbc41\"],[0.9,\"#4d9221\"],[1,\"#276419\"]]},\"xaxis\":{\"gridcolor\":\"white\",\"linecolor\":\"white\",\"ticks\":\"\",\"title\":{\"standoff\":15},\"zerolinecolor\":\"white\",\"automargin\":true,\"zerolinewidth\":2},\"yaxis\":{\"gridcolor\":\"white\",\"linecolor\":\"white\",\"ticks\":\"\",\"title\":{\"standoff\":15},\"zerolinecolor\":\"white\",\"automargin\":true,\"zerolinewidth\":2},\"scene\":{\"xaxis\":{\"backgroundcolor\":\"#E5ECF6\",\"gridcolor\":\"white\",\"linecolor\":\"white\",\"showbackground\":true,\"ticks\":\"\",\"zerolinecolor\":\"white\",\"gridwidth\":2},\"yaxis\":{\"backgroundcolor\":\"#E5ECF6\",\"gridcolor\":\"white\",\"linecolor\":\"white\",\"showbackground\":true,\"ticks\":\"\",\"zerolinecolor\":\"white\",\"gridwidth\":2},\"zaxis\":{\"backgroundcolor\":\"#E5ECF6\",\"gridcolor\":\"white\",\"linecolor\":\"white\",\"showbackground\":true,\"ticks\":\"\",\"zerolinecolor\":\"white\",\"gridwidth\":2}},\"shapedefaults\":{\"line\":{\"color\":\"#2a3f5f\"}},\"annotationdefaults\":{\"arrowcolor\":\"#2a3f5f\",\"arrowhead\":0,\"arrowwidth\":1},\"geo\":{\"bgcolor\":\"white\",\"landcolor\":\"#E5ECF6\",\"subunitcolor\":\"white\",\"showland\":true,\"showlakes\":true,\"lakecolor\":\"white\"},\"title\":{\"x\":0.05},\"mapbox\":{\"style\":\"light\"}}},\"xaxis\":{\"anchor\":\"y\",\"domain\":[0.0,1.0],\"title\":{\"text\":\"word_count\"}},\"yaxis\":{\"anchor\":\"x\",\"domain\":[0.0,1.0],\"title\":{\"text\":\"word\"}},\"legend\":{\"tracegroupgap\":0},\"margin\":{\"t\":60},\"barmode\":\"relative\",\"title\":{\"text\":\"bigram\"},\"width\":800,\"height\":1100},                        {\"responsive\": true}                    ).then(function(){\n",
       "                            \n",
       "var gd = document.getElementById('5f6dcd9a-8f44-43aa-8699-cb722837c073');\n",
       "var x = new MutationObserver(function (mutations, observer) {{\n",
       "        var display = window.getComputedStyle(gd).display;\n",
       "        if (!display || display === 'none') {{\n",
       "            console.log([gd, 'removed!']);\n",
       "            Plotly.purge(gd);\n",
       "            observer.disconnect();\n",
       "        }}\n",
       "}});\n",
       "\n",
       "// Listen for the removal of the full notebook cells\n",
       "var notebookContainer = gd.closest('#notebook-container');\n",
       "if (notebookContainer) {{\n",
       "    x.observe(notebookContainer, {childList: true});\n",
       "}}\n",
       "\n",
       "// Listen for the clearing of the current output cell\n",
       "var outputEl = gd.closest('.output');\n",
       "if (outputEl) {{\n",
       "    x.observe(outputEl, {childList: true});\n",
       "}}\n",
       "\n",
       "                        })                };                });            </script>        </div>"
      ]
     },
     "metadata": {},
     "output_type": "display_data"
    }
   ],
   "source": [
    "#Bigramの抽出\n",
    "import nlplot\n",
    "import pandas as pd\n",
    "import plotly\n",
    "from plotly.subplots import make_subplots\n",
    "from plotly.offline import iplot\n",
    "import matplotlib.pyplot as plt\n",
    "%matplotlib inline\n",
    "\n",
    "npt = nlplot.NLPlot(df, target_col='label(大)')\n",
    "\n",
    "# top_nで頻出上位単語, min_freqで頻出下位単語を指定できる\n",
    "# ストップワーズ\n",
    "stopwords = npt.get_stopword(top_n=0, min_freq=0)\n",
    "\n",
    "#単語頻出ランキングを作成\n",
    "fig_unigram = npt.bar_ngram(\n",
    "title='bigram',\n",
    "xaxis_label='word_count',\n",
    "yaxis_label='word',\n",
    "ngram=2,\n",
    "top_n=100,\n",
    "#stopwords=stopwords,\n",
    ")\n",
    "#単語頻出ランキングを表示\n",
    "fig_unigram.show()"
   ]
  },
  {
   "cell_type": "code",
   "execution_count": 85,
   "id": "3b2c76c1",
   "metadata": {},
   "outputs": [
    {
     "name": "stdout",
     "output_type": "stream",
     "text": [
      "node_size:8, edge_size:28\n"
     ]
    },
    {
     "data": {
      "application/vnd.plotly.v1+json": {
       "config": {
        "linkText": "Export to plot.ly",
        "plotlyServerURL": "https://plot.ly",
        "showLink": false
       },
       "data": [
        {
         "line": {
          "shape": "spline",
          "width": 1.2
         },
         "marker": {
          "color": "#ece8e8"
         },
         "mode": "lines",
         "opacity": 1,
         "type": "scatter",
         "x": [
          1,
          -6.363698464444108e-09,
          null
         ],
         "y": [
          -9.647727758857592e-09,
          -0.9999999736442896,
          null
         ]
        },
        {
         "line": {
          "shape": "spline",
          "width": 1.2
         },
         "marker": {
          "color": "#ece8e8"
         },
         "mode": "lines",
         "opacity": 1,
         "type": "scatter",
         "x": [
          1,
          -0.9999999731467659,
          null
         ],
         "y": [
          -9.647727758857592e-09,
          -9.34272317178856e-09,
          null
         ]
        },
        {
         "line": {
          "shape": "spline",
          "width": 1.2
         },
         "marker": {
          "color": "#ece8e8"
         },
         "mode": "lines",
         "opacity": 1,
         "type": "scatter",
         "x": [
          1,
          -0.7071067507733205,
          null
         ],
         "y": [
          -9.647727758857592e-09,
          0.7071067674941756,
          null
         ]
        },
        {
         "line": {
          "shape": "spline",
          "width": 1.2
         },
         "marker": {
          "color": "#ece8e8"
         },
         "mode": "lines",
         "opacity": 1,
         "type": "scatter",
         "x": [
          1,
          1.2106118117409511e-09,
          null
         ],
         "y": [
          -9.647727758857592e-09,
          0.9999999885289963,
          null
         ]
        },
        {
         "line": {
          "shape": "spline",
          "width": 1.2
         },
         "marker": {
          "color": "#ece8e8"
         },
         "mode": "lines",
         "opacity": 1,
         "type": "scatter",
         "x": [
          1,
          0.7071067745024318,
          null
         ],
         "y": [
          -9.647727758857592e-09,
          0.7071067589865427,
          null
         ]
        },
        {
         "line": {
          "shape": "spline",
          "width": 1.2
         },
         "marker": {
          "color": "#ece8e8"
         },
         "mode": "lines",
         "opacity": 1,
         "type": "scatter",
         "x": [
          1,
          0.7071067254442629,
          null
         ],
         "y": [
          -9.647727758857592e-09,
          -0.707106794438879,
          null
         ]
        },
        {
         "line": {
          "shape": "spline",
          "width": 1.2
         },
         "marker": {
          "color": "#ece8e8"
         },
         "mode": "lines",
         "opacity": 1,
         "type": "scatter",
         "x": [
          1,
          -0.7071067708735214,
          null
         ],
         "y": [
          -9.647727758857592e-09,
          -0.7071067279360949,
          null
         ]
        },
        {
         "line": {
          "shape": "spline",
          "width": 1.2
         },
         "marker": {
          "color": "#ece8e8"
         },
         "mode": "lines",
         "opacity": 1,
         "type": "scatter",
         "x": [
          0.7071067745024318,
          -6.363698464444108e-09,
          null
         ],
         "y": [
          0.7071067589865427,
          -0.9999999736442896,
          null
         ]
        },
        {
         "line": {
          "shape": "spline",
          "width": 1.2
         },
         "marker": {
          "color": "#ece8e8"
         },
         "mode": "lines",
         "opacity": 1,
         "type": "scatter",
         "x": [
          0.7071067745024318,
          -0.9999999731467659,
          null
         ],
         "y": [
          0.7071067589865427,
          -9.34272317178856e-09,
          null
         ]
        },
        {
         "line": {
          "shape": "spline",
          "width": 1.2
         },
         "marker": {
          "color": "#ece8e8"
         },
         "mode": "lines",
         "opacity": 1,
         "type": "scatter",
         "x": [
          0.7071067745024318,
          -0.7071067507733205,
          null
         ],
         "y": [
          0.7071067589865427,
          0.7071067674941756,
          null
         ]
        },
        {
         "line": {
          "shape": "spline",
          "width": 1.2
         },
         "marker": {
          "color": "#ece8e8"
         },
         "mode": "lines",
         "opacity": 1,
         "type": "scatter",
         "x": [
          0.7071067745024318,
          1.2106118117409511e-09,
          null
         ],
         "y": [
          0.7071067589865427,
          0.9999999885289963,
          null
         ]
        },
        {
         "line": {
          "shape": "spline",
          "width": 1.2
         },
         "marker": {
          "color": "#ece8e8"
         },
         "mode": "lines",
         "opacity": 1,
         "type": "scatter",
         "x": [
          0.7071067745024318,
          0.7071067254442629,
          null
         ],
         "y": [
          0.7071067589865427,
          -0.707106794438879,
          null
         ]
        },
        {
         "line": {
          "shape": "spline",
          "width": 1.2
         },
         "marker": {
          "color": "#ece8e8"
         },
         "mode": "lines",
         "opacity": 1,
         "type": "scatter",
         "x": [
          0.7071067745024318,
          -0.7071067708735214,
          null
         ],
         "y": [
          0.7071067589865427,
          -0.7071067279360949,
          null
         ]
        },
        {
         "line": {
          "shape": "spline",
          "width": 1.2
         },
         "marker": {
          "color": "#ece8e8"
         },
         "mode": "lines",
         "opacity": 1,
         "type": "scatter",
         "x": [
          1.2106118117409511e-09,
          -6.363698464444108e-09,
          null
         ],
         "y": [
          0.9999999885289963,
          -0.9999999736442896,
          null
         ]
        },
        {
         "line": {
          "shape": "spline",
          "width": 1.2
         },
         "marker": {
          "color": "#ece8e8"
         },
         "mode": "lines",
         "opacity": 1,
         "type": "scatter",
         "x": [
          1.2106118117409511e-09,
          -0.9999999731467659,
          null
         ],
         "y": [
          0.9999999885289963,
          -9.34272317178856e-09,
          null
         ]
        },
        {
         "line": {
          "shape": "spline",
          "width": 1.2
         },
         "marker": {
          "color": "#ece8e8"
         },
         "mode": "lines",
         "opacity": 1,
         "type": "scatter",
         "x": [
          1.2106118117409511e-09,
          -0.7071067507733205,
          null
         ],
         "y": [
          0.9999999885289963,
          0.7071067674941756,
          null
         ]
        },
        {
         "line": {
          "shape": "spline",
          "width": 1.2
         },
         "marker": {
          "color": "#ece8e8"
         },
         "mode": "lines",
         "opacity": 1,
         "type": "scatter",
         "x": [
          1.2106118117409511e-09,
          0.7071067254442629,
          null
         ],
         "y": [
          0.9999999885289963,
          -0.707106794438879,
          null
         ]
        },
        {
         "line": {
          "shape": "spline",
          "width": 1.2
         },
         "marker": {
          "color": "#ece8e8"
         },
         "mode": "lines",
         "opacity": 1,
         "type": "scatter",
         "x": [
          1.2106118117409511e-09,
          -0.7071067708735214,
          null
         ],
         "y": [
          0.9999999885289963,
          -0.7071067279360949,
          null
         ]
        },
        {
         "line": {
          "shape": "spline",
          "width": 1.2
         },
         "marker": {
          "color": "#ece8e8"
         },
         "mode": "lines",
         "opacity": 1,
         "type": "scatter",
         "x": [
          -0.7071067507733205,
          -6.363698464444108e-09,
          null
         ],
         "y": [
          0.7071067674941756,
          -0.9999999736442896,
          null
         ]
        },
        {
         "line": {
          "shape": "spline",
          "width": 1.2
         },
         "marker": {
          "color": "#ece8e8"
         },
         "mode": "lines",
         "opacity": 1,
         "type": "scatter",
         "x": [
          -0.7071067507733205,
          -0.9999999731467659,
          null
         ],
         "y": [
          0.7071067674941756,
          -9.34272317178856e-09,
          null
         ]
        },
        {
         "line": {
          "shape": "spline",
          "width": 1.2
         },
         "marker": {
          "color": "#ece8e8"
         },
         "mode": "lines",
         "opacity": 1,
         "type": "scatter",
         "x": [
          -0.7071067507733205,
          0.7071067254442629,
          null
         ],
         "y": [
          0.7071067674941756,
          -0.707106794438879,
          null
         ]
        },
        {
         "line": {
          "shape": "spline",
          "width": 1.2
         },
         "marker": {
          "color": "#ece8e8"
         },
         "mode": "lines",
         "opacity": 1,
         "type": "scatter",
         "x": [
          -0.7071067507733205,
          -0.7071067708735214,
          null
         ],
         "y": [
          0.7071067674941756,
          -0.7071067279360949,
          null
         ]
        },
        {
         "line": {
          "shape": "spline",
          "width": 1.2
         },
         "marker": {
          "color": "#ece8e8"
         },
         "mode": "lines",
         "opacity": 1,
         "type": "scatter",
         "x": [
          -0.9999999731467659,
          -6.363698464444108e-09,
          null
         ],
         "y": [
          -9.34272317178856e-09,
          -0.9999999736442896,
          null
         ]
        },
        {
         "line": {
          "shape": "spline",
          "width": 1.2
         },
         "marker": {
          "color": "#ece8e8"
         },
         "mode": "lines",
         "opacity": 1,
         "type": "scatter",
         "x": [
          -0.9999999731467659,
          0.7071067254442629,
          null
         ],
         "y": [
          -9.34272317178856e-09,
          -0.707106794438879,
          null
         ]
        },
        {
         "line": {
          "shape": "spline",
          "width": 1.2
         },
         "marker": {
          "color": "#ece8e8"
         },
         "mode": "lines",
         "opacity": 1,
         "type": "scatter",
         "x": [
          -0.9999999731467659,
          -0.7071067708735214,
          null
         ],
         "y": [
          -9.34272317178856e-09,
          -0.7071067279360949,
          null
         ]
        },
        {
         "line": {
          "shape": "spline",
          "width": 1.2
         },
         "marker": {
          "color": "#ece8e8"
         },
         "mode": "lines",
         "opacity": 1,
         "type": "scatter",
         "x": [
          -0.7071067708735214,
          -6.363698464444108e-09,
          null
         ],
         "y": [
          -0.7071067279360949,
          -0.9999999736442896,
          null
         ]
        },
        {
         "line": {
          "shape": "spline",
          "width": 1.2
         },
         "marker": {
          "color": "#ece8e8"
         },
         "mode": "lines",
         "opacity": 1,
         "type": "scatter",
         "x": [
          -0.7071067708735214,
          0.7071067254442629,
          null
         ],
         "y": [
          -0.7071067279360949,
          -0.707106794438879,
          null
         ]
        },
        {
         "line": {
          "shape": "spline",
          "width": 1.2
         },
         "marker": {
          "color": "#ece8e8"
         },
         "mode": "lines",
         "opacity": 1,
         "type": "scatter",
         "x": [
          -6.363698464444108e-09,
          0.7071067254442629,
          null
         ],
         "y": [
          -0.9999999736442896,
          -0.707106794438879,
          null
         ]
        },
        {
         "hoverinfo": "text",
         "hovertext": [],
         "marker": {
          "color": [
           "rgb(220.16,95.0272,87.03999999999999)",
           "rgb(220.16,95.0272,87.03999999999999)",
           "rgb(220.16,95.0272,87.03999999999999)",
           "rgb(220.16,95.0272,87.03999999999999)",
           "rgb(220.16,95.0272,87.03999999999999)",
           "rgb(220.16,95.0272,87.03999999999999)",
           "rgb(220.16,95.0272,87.03999999999999)",
           "rgb(220.16,95.0272,87.03999999999999)"
          ],
          "line": {
           "color": "#ece8e8",
           "width": 0.5
          },
          "size": [
           0,
           0,
           0,
           0,
           0,
           0,
           0,
           0
          ]
         },
         "mode": "markers+text",
         "text": [
          "Music",
          "GF",
          "GSI",
          "GOI",
          "GP",
          "GA",
          "S-Speech",
          "AQ"
         ],
         "textposition": "bottom center",
         "type": "scatter",
         "x": [
          1,
          0.7071067745024318,
          1.2106118117409511e-09,
          -0.7071067507733205,
          -0.9999999731467659,
          -0.7071067708735214,
          -6.363698464444108e-09,
          0.7071067254442629
         ],
         "y": [
          -9.647727758857592e-09,
          0.7071067589865427,
          0.9999999885289963,
          0.7071067674941756,
          -9.34272317178856e-09,
          -0.7071067279360949,
          -0.9999999736442896,
          -0.707106794438879
         ]
        }
       ],
       "layout": {
        "autosize": true,
        "font": {
         "family": "Arial",
         "size": 12
        },
        "height": 500,
        "hovermode": "closest",
        "margin": {
         "b": 85,
         "l": 40,
         "pad": 0,
         "r": 40,
         "t": 100
        },
        "plot_bgcolor": "#ffffff",
        "showlegend": false,
        "template": {
         "data": {
          "bar": [
           {
            "error_x": {
             "color": "#2a3f5f"
            },
            "error_y": {
             "color": "#2a3f5f"
            },
            "marker": {
             "line": {
              "color": "#E5ECF6",
              "width": 0.5
             },
             "pattern": {
              "fillmode": "overlay",
              "size": 10,
              "solidity": 0.2
             }
            },
            "type": "bar"
           }
          ],
          "barpolar": [
           {
            "marker": {
             "line": {
              "color": "#E5ECF6",
              "width": 0.5
             },
             "pattern": {
              "fillmode": "overlay",
              "size": 10,
              "solidity": 0.2
             }
            },
            "type": "barpolar"
           }
          ],
          "carpet": [
           {
            "aaxis": {
             "endlinecolor": "#2a3f5f",
             "gridcolor": "white",
             "linecolor": "white",
             "minorgridcolor": "white",
             "startlinecolor": "#2a3f5f"
            },
            "baxis": {
             "endlinecolor": "#2a3f5f",
             "gridcolor": "white",
             "linecolor": "white",
             "minorgridcolor": "white",
             "startlinecolor": "#2a3f5f"
            },
            "type": "carpet"
           }
          ],
          "choropleth": [
           {
            "colorbar": {
             "outlinewidth": 0,
             "ticks": ""
            },
            "type": "choropleth"
           }
          ],
          "contour": [
           {
            "colorbar": {
             "outlinewidth": 0,
             "ticks": ""
            },
            "colorscale": [
             [
              0,
              "#0d0887"
             ],
             [
              0.1111111111111111,
              "#46039f"
             ],
             [
              0.2222222222222222,
              "#7201a8"
             ],
             [
              0.3333333333333333,
              "#9c179e"
             ],
             [
              0.4444444444444444,
              "#bd3786"
             ],
             [
              0.5555555555555556,
              "#d8576b"
             ],
             [
              0.6666666666666666,
              "#ed7953"
             ],
             [
              0.7777777777777778,
              "#fb9f3a"
             ],
             [
              0.8888888888888888,
              "#fdca26"
             ],
             [
              1,
              "#f0f921"
             ]
            ],
            "type": "contour"
           }
          ],
          "contourcarpet": [
           {
            "colorbar": {
             "outlinewidth": 0,
             "ticks": ""
            },
            "type": "contourcarpet"
           }
          ],
          "heatmap": [
           {
            "colorbar": {
             "outlinewidth": 0,
             "ticks": ""
            },
            "colorscale": [
             [
              0,
              "#0d0887"
             ],
             [
              0.1111111111111111,
              "#46039f"
             ],
             [
              0.2222222222222222,
              "#7201a8"
             ],
             [
              0.3333333333333333,
              "#9c179e"
             ],
             [
              0.4444444444444444,
              "#bd3786"
             ],
             [
              0.5555555555555556,
              "#d8576b"
             ],
             [
              0.6666666666666666,
              "#ed7953"
             ],
             [
              0.7777777777777778,
              "#fb9f3a"
             ],
             [
              0.8888888888888888,
              "#fdca26"
             ],
             [
              1,
              "#f0f921"
             ]
            ],
            "type": "heatmap"
           }
          ],
          "heatmapgl": [
           {
            "colorbar": {
             "outlinewidth": 0,
             "ticks": ""
            },
            "colorscale": [
             [
              0,
              "#0d0887"
             ],
             [
              0.1111111111111111,
              "#46039f"
             ],
             [
              0.2222222222222222,
              "#7201a8"
             ],
             [
              0.3333333333333333,
              "#9c179e"
             ],
             [
              0.4444444444444444,
              "#bd3786"
             ],
             [
              0.5555555555555556,
              "#d8576b"
             ],
             [
              0.6666666666666666,
              "#ed7953"
             ],
             [
              0.7777777777777778,
              "#fb9f3a"
             ],
             [
              0.8888888888888888,
              "#fdca26"
             ],
             [
              1,
              "#f0f921"
             ]
            ],
            "type": "heatmapgl"
           }
          ],
          "histogram": [
           {
            "marker": {
             "pattern": {
              "fillmode": "overlay",
              "size": 10,
              "solidity": 0.2
             }
            },
            "type": "histogram"
           }
          ],
          "histogram2d": [
           {
            "colorbar": {
             "outlinewidth": 0,
             "ticks": ""
            },
            "colorscale": [
             [
              0,
              "#0d0887"
             ],
             [
              0.1111111111111111,
              "#46039f"
             ],
             [
              0.2222222222222222,
              "#7201a8"
             ],
             [
              0.3333333333333333,
              "#9c179e"
             ],
             [
              0.4444444444444444,
              "#bd3786"
             ],
             [
              0.5555555555555556,
              "#d8576b"
             ],
             [
              0.6666666666666666,
              "#ed7953"
             ],
             [
              0.7777777777777778,
              "#fb9f3a"
             ],
             [
              0.8888888888888888,
              "#fdca26"
             ],
             [
              1,
              "#f0f921"
             ]
            ],
            "type": "histogram2d"
           }
          ],
          "histogram2dcontour": [
           {
            "colorbar": {
             "outlinewidth": 0,
             "ticks": ""
            },
            "colorscale": [
             [
              0,
              "#0d0887"
             ],
             [
              0.1111111111111111,
              "#46039f"
             ],
             [
              0.2222222222222222,
              "#7201a8"
             ],
             [
              0.3333333333333333,
              "#9c179e"
             ],
             [
              0.4444444444444444,
              "#bd3786"
             ],
             [
              0.5555555555555556,
              "#d8576b"
             ],
             [
              0.6666666666666666,
              "#ed7953"
             ],
             [
              0.7777777777777778,
              "#fb9f3a"
             ],
             [
              0.8888888888888888,
              "#fdca26"
             ],
             [
              1,
              "#f0f921"
             ]
            ],
            "type": "histogram2dcontour"
           }
          ],
          "mesh3d": [
           {
            "colorbar": {
             "outlinewidth": 0,
             "ticks": ""
            },
            "type": "mesh3d"
           }
          ],
          "parcoords": [
           {
            "line": {
             "colorbar": {
              "outlinewidth": 0,
              "ticks": ""
             }
            },
            "type": "parcoords"
           }
          ],
          "pie": [
           {
            "automargin": true,
            "type": "pie"
           }
          ],
          "scatter": [
           {
            "fillpattern": {
             "fillmode": "overlay",
             "size": 10,
             "solidity": 0.2
            },
            "type": "scatter"
           }
          ],
          "scatter3d": [
           {
            "line": {
             "colorbar": {
              "outlinewidth": 0,
              "ticks": ""
             }
            },
            "marker": {
             "colorbar": {
              "outlinewidth": 0,
              "ticks": ""
             }
            },
            "type": "scatter3d"
           }
          ],
          "scattercarpet": [
           {
            "marker": {
             "colorbar": {
              "outlinewidth": 0,
              "ticks": ""
             }
            },
            "type": "scattercarpet"
           }
          ],
          "scattergeo": [
           {
            "marker": {
             "colorbar": {
              "outlinewidth": 0,
              "ticks": ""
             }
            },
            "type": "scattergeo"
           }
          ],
          "scattergl": [
           {
            "marker": {
             "colorbar": {
              "outlinewidth": 0,
              "ticks": ""
             }
            },
            "type": "scattergl"
           }
          ],
          "scattermapbox": [
           {
            "marker": {
             "colorbar": {
              "outlinewidth": 0,
              "ticks": ""
             }
            },
            "type": "scattermapbox"
           }
          ],
          "scatterpolar": [
           {
            "marker": {
             "colorbar": {
              "outlinewidth": 0,
              "ticks": ""
             }
            },
            "type": "scatterpolar"
           }
          ],
          "scatterpolargl": [
           {
            "marker": {
             "colorbar": {
              "outlinewidth": 0,
              "ticks": ""
             }
            },
            "type": "scatterpolargl"
           }
          ],
          "scatterternary": [
           {
            "marker": {
             "colorbar": {
              "outlinewidth": 0,
              "ticks": ""
             }
            },
            "type": "scatterternary"
           }
          ],
          "surface": [
           {
            "colorbar": {
             "outlinewidth": 0,
             "ticks": ""
            },
            "colorscale": [
             [
              0,
              "#0d0887"
             ],
             [
              0.1111111111111111,
              "#46039f"
             ],
             [
              0.2222222222222222,
              "#7201a8"
             ],
             [
              0.3333333333333333,
              "#9c179e"
             ],
             [
              0.4444444444444444,
              "#bd3786"
             ],
             [
              0.5555555555555556,
              "#d8576b"
             ],
             [
              0.6666666666666666,
              "#ed7953"
             ],
             [
              0.7777777777777778,
              "#fb9f3a"
             ],
             [
              0.8888888888888888,
              "#fdca26"
             ],
             [
              1,
              "#f0f921"
             ]
            ],
            "type": "surface"
           }
          ],
          "table": [
           {
            "cells": {
             "fill": {
              "color": "#EBF0F8"
             },
             "line": {
              "color": "white"
             }
            },
            "header": {
             "fill": {
              "color": "#C8D4E3"
             },
             "line": {
              "color": "white"
             }
            },
            "type": "table"
           }
          ]
         },
         "layout": {
          "annotationdefaults": {
           "arrowcolor": "#2a3f5f",
           "arrowhead": 0,
           "arrowwidth": 1
          },
          "autotypenumbers": "strict",
          "coloraxis": {
           "colorbar": {
            "outlinewidth": 0,
            "ticks": ""
           }
          },
          "colorscale": {
           "diverging": [
            [
             0,
             "#8e0152"
            ],
            [
             0.1,
             "#c51b7d"
            ],
            [
             0.2,
             "#de77ae"
            ],
            [
             0.3,
             "#f1b6da"
            ],
            [
             0.4,
             "#fde0ef"
            ],
            [
             0.5,
             "#f7f7f7"
            ],
            [
             0.6,
             "#e6f5d0"
            ],
            [
             0.7,
             "#b8e186"
            ],
            [
             0.8,
             "#7fbc41"
            ],
            [
             0.9,
             "#4d9221"
            ],
            [
             1,
             "#276419"
            ]
           ],
           "sequential": [
            [
             0,
             "#0d0887"
            ],
            [
             0.1111111111111111,
             "#46039f"
            ],
            [
             0.2222222222222222,
             "#7201a8"
            ],
            [
             0.3333333333333333,
             "#9c179e"
            ],
            [
             0.4444444444444444,
             "#bd3786"
            ],
            [
             0.5555555555555556,
             "#d8576b"
            ],
            [
             0.6666666666666666,
             "#ed7953"
            ],
            [
             0.7777777777777778,
             "#fb9f3a"
            ],
            [
             0.8888888888888888,
             "#fdca26"
            ],
            [
             1,
             "#f0f921"
            ]
           ],
           "sequentialminus": [
            [
             0,
             "#0d0887"
            ],
            [
             0.1111111111111111,
             "#46039f"
            ],
            [
             0.2222222222222222,
             "#7201a8"
            ],
            [
             0.3333333333333333,
             "#9c179e"
            ],
            [
             0.4444444444444444,
             "#bd3786"
            ],
            [
             0.5555555555555556,
             "#d8576b"
            ],
            [
             0.6666666666666666,
             "#ed7953"
            ],
            [
             0.7777777777777778,
             "#fb9f3a"
            ],
            [
             0.8888888888888888,
             "#fdca26"
            ],
            [
             1,
             "#f0f921"
            ]
           ]
          },
          "colorway": [
           "#636efa",
           "#EF553B",
           "#00cc96",
           "#ab63fa",
           "#FFA15A",
           "#19d3f3",
           "#FF6692",
           "#B6E880",
           "#FF97FF",
           "#FECB52"
          ],
          "font": {
           "color": "#2a3f5f"
          },
          "geo": {
           "bgcolor": "white",
           "lakecolor": "white",
           "landcolor": "#E5ECF6",
           "showlakes": true,
           "showland": true,
           "subunitcolor": "white"
          },
          "hoverlabel": {
           "align": "left"
          },
          "hovermode": "closest",
          "mapbox": {
           "style": "light"
          },
          "paper_bgcolor": "white",
          "plot_bgcolor": "#E5ECF6",
          "polar": {
           "angularaxis": {
            "gridcolor": "white",
            "linecolor": "white",
            "ticks": ""
           },
           "bgcolor": "#E5ECF6",
           "radialaxis": {
            "gridcolor": "white",
            "linecolor": "white",
            "ticks": ""
           }
          },
          "scene": {
           "xaxis": {
            "backgroundcolor": "#E5ECF6",
            "gridcolor": "white",
            "gridwidth": 2,
            "linecolor": "white",
            "showbackground": true,
            "ticks": "",
            "zerolinecolor": "white"
           },
           "yaxis": {
            "backgroundcolor": "#E5ECF6",
            "gridcolor": "white",
            "gridwidth": 2,
            "linecolor": "white",
            "showbackground": true,
            "ticks": "",
            "zerolinecolor": "white"
           },
           "zaxis": {
            "backgroundcolor": "#E5ECF6",
            "gridcolor": "white",
            "gridwidth": 2,
            "linecolor": "white",
            "showbackground": true,
            "ticks": "",
            "zerolinecolor": "white"
           }
          },
          "shapedefaults": {
           "line": {
            "color": "#2a3f5f"
           }
          },
          "ternary": {
           "aaxis": {
            "gridcolor": "white",
            "linecolor": "white",
            "ticks": ""
           },
           "baxis": {
            "gridcolor": "white",
            "linecolor": "white",
            "ticks": ""
           },
           "bgcolor": "#E5ECF6",
           "caxis": {
            "gridcolor": "white",
            "linecolor": "white",
            "ticks": ""
           }
          },
          "title": {
           "x": 0.05
          },
          "xaxis": {
           "automargin": true,
           "gridcolor": "white",
           "linecolor": "white",
           "ticks": "",
           "title": {
            "standoff": 15
           },
           "zerolinecolor": "white",
           "zerolinewidth": 2
          },
          "yaxis": {
           "automargin": true,
           "gridcolor": "white",
           "linecolor": "white",
           "ticks": "",
           "title": {
            "standoff": 15
           },
           "zerolinecolor": "white",
           "zerolinewidth": 2
          }
         }
        },
        "title": {
         "text": "Co-occurrence network"
        },
        "width": 600,
        "xaxis": {
         "showgrid": false,
         "showline": false,
         "showticklabels": false,
         "title": {
          "text": ""
         },
         "zeroline": false
        },
        "yaxis": {
         "showgrid": false,
         "showline": false,
         "showticklabels": false,
         "title": {
          "text": ""
         },
         "zeroline": false
        }
       }
      },
      "text/html": [
       "<div>                            <div id=\"f618e014-1608-4e8c-8717-9ef471986bac\" class=\"plotly-graph-div\" style=\"height:500px; width:600px;\"></div>            <script type=\"text/javascript\">                require([\"plotly\"], function(Plotly) {                    window.PLOTLYENV=window.PLOTLYENV || {};                                    if (document.getElementById(\"f618e014-1608-4e8c-8717-9ef471986bac\")) {                    Plotly.newPlot(                        \"f618e014-1608-4e8c-8717-9ef471986bac\",                        [{\"line\":{\"shape\":\"spline\",\"width\":1.2},\"marker\":{\"color\":\"#ece8e8\"},\"mode\":\"lines\",\"opacity\":1,\"x\":[1.0,-6.363698464444108e-09,null],\"y\":[-9.647727758857592e-09,-0.9999999736442896,null],\"type\":\"scatter\"},{\"line\":{\"shape\":\"spline\",\"width\":1.2},\"marker\":{\"color\":\"#ece8e8\"},\"mode\":\"lines\",\"opacity\":1,\"x\":[1.0,-0.9999999731467659,null],\"y\":[-9.647727758857592e-09,-9.34272317178856e-09,null],\"type\":\"scatter\"},{\"line\":{\"shape\":\"spline\",\"width\":1.2},\"marker\":{\"color\":\"#ece8e8\"},\"mode\":\"lines\",\"opacity\":1,\"x\":[1.0,-0.7071067507733205,null],\"y\":[-9.647727758857592e-09,0.7071067674941756,null],\"type\":\"scatter\"},{\"line\":{\"shape\":\"spline\",\"width\":1.2},\"marker\":{\"color\":\"#ece8e8\"},\"mode\":\"lines\",\"opacity\":1,\"x\":[1.0,1.2106118117409511e-09,null],\"y\":[-9.647727758857592e-09,0.9999999885289963,null],\"type\":\"scatter\"},{\"line\":{\"shape\":\"spline\",\"width\":1.2},\"marker\":{\"color\":\"#ece8e8\"},\"mode\":\"lines\",\"opacity\":1,\"x\":[1.0,0.7071067745024318,null],\"y\":[-9.647727758857592e-09,0.7071067589865427,null],\"type\":\"scatter\"},{\"line\":{\"shape\":\"spline\",\"width\":1.2},\"marker\":{\"color\":\"#ece8e8\"},\"mode\":\"lines\",\"opacity\":1,\"x\":[1.0,0.7071067254442629,null],\"y\":[-9.647727758857592e-09,-0.707106794438879,null],\"type\":\"scatter\"},{\"line\":{\"shape\":\"spline\",\"width\":1.2},\"marker\":{\"color\":\"#ece8e8\"},\"mode\":\"lines\",\"opacity\":1,\"x\":[1.0,-0.7071067708735214,null],\"y\":[-9.647727758857592e-09,-0.7071067279360949,null],\"type\":\"scatter\"},{\"line\":{\"shape\":\"spline\",\"width\":1.2},\"marker\":{\"color\":\"#ece8e8\"},\"mode\":\"lines\",\"opacity\":1,\"x\":[0.7071067745024318,-6.363698464444108e-09,null],\"y\":[0.7071067589865427,-0.9999999736442896,null],\"type\":\"scatter\"},{\"line\":{\"shape\":\"spline\",\"width\":1.2},\"marker\":{\"color\":\"#ece8e8\"},\"mode\":\"lines\",\"opacity\":1,\"x\":[0.7071067745024318,-0.9999999731467659,null],\"y\":[0.7071067589865427,-9.34272317178856e-09,null],\"type\":\"scatter\"},{\"line\":{\"shape\":\"spline\",\"width\":1.2},\"marker\":{\"color\":\"#ece8e8\"},\"mode\":\"lines\",\"opacity\":1,\"x\":[0.7071067745024318,-0.7071067507733205,null],\"y\":[0.7071067589865427,0.7071067674941756,null],\"type\":\"scatter\"},{\"line\":{\"shape\":\"spline\",\"width\":1.2},\"marker\":{\"color\":\"#ece8e8\"},\"mode\":\"lines\",\"opacity\":1,\"x\":[0.7071067745024318,1.2106118117409511e-09,null],\"y\":[0.7071067589865427,0.9999999885289963,null],\"type\":\"scatter\"},{\"line\":{\"shape\":\"spline\",\"width\":1.2},\"marker\":{\"color\":\"#ece8e8\"},\"mode\":\"lines\",\"opacity\":1,\"x\":[0.7071067745024318,0.7071067254442629,null],\"y\":[0.7071067589865427,-0.707106794438879,null],\"type\":\"scatter\"},{\"line\":{\"shape\":\"spline\",\"width\":1.2},\"marker\":{\"color\":\"#ece8e8\"},\"mode\":\"lines\",\"opacity\":1,\"x\":[0.7071067745024318,-0.7071067708735214,null],\"y\":[0.7071067589865427,-0.7071067279360949,null],\"type\":\"scatter\"},{\"line\":{\"shape\":\"spline\",\"width\":1.2},\"marker\":{\"color\":\"#ece8e8\"},\"mode\":\"lines\",\"opacity\":1,\"x\":[1.2106118117409511e-09,-6.363698464444108e-09,null],\"y\":[0.9999999885289963,-0.9999999736442896,null],\"type\":\"scatter\"},{\"line\":{\"shape\":\"spline\",\"width\":1.2},\"marker\":{\"color\":\"#ece8e8\"},\"mode\":\"lines\",\"opacity\":1,\"x\":[1.2106118117409511e-09,-0.9999999731467659,null],\"y\":[0.9999999885289963,-9.34272317178856e-09,null],\"type\":\"scatter\"},{\"line\":{\"shape\":\"spline\",\"width\":1.2},\"marker\":{\"color\":\"#ece8e8\"},\"mode\":\"lines\",\"opacity\":1,\"x\":[1.2106118117409511e-09,-0.7071067507733205,null],\"y\":[0.9999999885289963,0.7071067674941756,null],\"type\":\"scatter\"},{\"line\":{\"shape\":\"spline\",\"width\":1.2},\"marker\":{\"color\":\"#ece8e8\"},\"mode\":\"lines\",\"opacity\":1,\"x\":[1.2106118117409511e-09,0.7071067254442629,null],\"y\":[0.9999999885289963,-0.707106794438879,null],\"type\":\"scatter\"},{\"line\":{\"shape\":\"spline\",\"width\":1.2},\"marker\":{\"color\":\"#ece8e8\"},\"mode\":\"lines\",\"opacity\":1,\"x\":[1.2106118117409511e-09,-0.7071067708735214,null],\"y\":[0.9999999885289963,-0.7071067279360949,null],\"type\":\"scatter\"},{\"line\":{\"shape\":\"spline\",\"width\":1.2},\"marker\":{\"color\":\"#ece8e8\"},\"mode\":\"lines\",\"opacity\":1,\"x\":[-0.7071067507733205,-6.363698464444108e-09,null],\"y\":[0.7071067674941756,-0.9999999736442896,null],\"type\":\"scatter\"},{\"line\":{\"shape\":\"spline\",\"width\":1.2},\"marker\":{\"color\":\"#ece8e8\"},\"mode\":\"lines\",\"opacity\":1,\"x\":[-0.7071067507733205,-0.9999999731467659,null],\"y\":[0.7071067674941756,-9.34272317178856e-09,null],\"type\":\"scatter\"},{\"line\":{\"shape\":\"spline\",\"width\":1.2},\"marker\":{\"color\":\"#ece8e8\"},\"mode\":\"lines\",\"opacity\":1,\"x\":[-0.7071067507733205,0.7071067254442629,null],\"y\":[0.7071067674941756,-0.707106794438879,null],\"type\":\"scatter\"},{\"line\":{\"shape\":\"spline\",\"width\":1.2},\"marker\":{\"color\":\"#ece8e8\"},\"mode\":\"lines\",\"opacity\":1,\"x\":[-0.7071067507733205,-0.7071067708735214,null],\"y\":[0.7071067674941756,-0.7071067279360949,null],\"type\":\"scatter\"},{\"line\":{\"shape\":\"spline\",\"width\":1.2},\"marker\":{\"color\":\"#ece8e8\"},\"mode\":\"lines\",\"opacity\":1,\"x\":[-0.9999999731467659,-6.363698464444108e-09,null],\"y\":[-9.34272317178856e-09,-0.9999999736442896,null],\"type\":\"scatter\"},{\"line\":{\"shape\":\"spline\",\"width\":1.2},\"marker\":{\"color\":\"#ece8e8\"},\"mode\":\"lines\",\"opacity\":1,\"x\":[-0.9999999731467659,0.7071067254442629,null],\"y\":[-9.34272317178856e-09,-0.707106794438879,null],\"type\":\"scatter\"},{\"line\":{\"shape\":\"spline\",\"width\":1.2},\"marker\":{\"color\":\"#ece8e8\"},\"mode\":\"lines\",\"opacity\":1,\"x\":[-0.9999999731467659,-0.7071067708735214,null],\"y\":[-9.34272317178856e-09,-0.7071067279360949,null],\"type\":\"scatter\"},{\"line\":{\"shape\":\"spline\",\"width\":1.2},\"marker\":{\"color\":\"#ece8e8\"},\"mode\":\"lines\",\"opacity\":1,\"x\":[-0.7071067708735214,-6.363698464444108e-09,null],\"y\":[-0.7071067279360949,-0.9999999736442896,null],\"type\":\"scatter\"},{\"line\":{\"shape\":\"spline\",\"width\":1.2},\"marker\":{\"color\":\"#ece8e8\"},\"mode\":\"lines\",\"opacity\":1,\"x\":[-0.7071067708735214,0.7071067254442629,null],\"y\":[-0.7071067279360949,-0.707106794438879,null],\"type\":\"scatter\"},{\"line\":{\"shape\":\"spline\",\"width\":1.2},\"marker\":{\"color\":\"#ece8e8\"},\"mode\":\"lines\",\"opacity\":1,\"x\":[-6.363698464444108e-09,0.7071067254442629,null],\"y\":[-0.9999999736442896,-0.707106794438879,null],\"type\":\"scatter\"},{\"hoverinfo\":\"text\",\"hovertext\":[],\"marker\":{\"color\":[\"rgb(220.16,95.0272,87.03999999999999)\",\"rgb(220.16,95.0272,87.03999999999999)\",\"rgb(220.16,95.0272,87.03999999999999)\",\"rgb(220.16,95.0272,87.03999999999999)\",\"rgb(220.16,95.0272,87.03999999999999)\",\"rgb(220.16,95.0272,87.03999999999999)\",\"rgb(220.16,95.0272,87.03999999999999)\",\"rgb(220.16,95.0272,87.03999999999999)\"],\"line\":{\"color\":\"#ece8e8\",\"width\":0.5},\"size\":[0.0,0.0,0.0,0.0,0.0,0.0,0.0,0.0]},\"mode\":\"markers+text\",\"text\":[\"Music\",\"GF\",\"GSI\",\"GOI\",\"GP\",\"GA\",\"S-Speech\",\"AQ\"],\"textposition\":\"bottom center\",\"x\":[1.0,0.7071067745024318,1.2106118117409511e-09,-0.7071067507733205,-0.9999999731467659,-0.7071067708735214,-6.363698464444108e-09,0.7071067254442629],\"y\":[-9.647727758857592e-09,0.7071067589865427,0.9999999885289963,0.7071067674941756,-9.34272317178856e-09,-0.7071067279360949,-0.9999999736442896,-0.707106794438879],\"type\":\"scatter\"}],                        {\"autosize\":true,\"font\":{\"family\":\"Arial\",\"size\":12},\"height\":500,\"hovermode\":\"closest\",\"margin\":{\"b\":85,\"l\":40,\"pad\":0,\"r\":40,\"t\":100},\"plot_bgcolor\":\"#ffffff\",\"showlegend\":false,\"template\":{\"data\":{\"barpolar\":[{\"marker\":{\"line\":{\"color\":\"#E5ECF6\",\"width\":0.5},\"pattern\":{\"fillmode\":\"overlay\",\"size\":10,\"solidity\":0.2}},\"type\":\"barpolar\"}],\"bar\":[{\"error_x\":{\"color\":\"#2a3f5f\"},\"error_y\":{\"color\":\"#2a3f5f\"},\"marker\":{\"line\":{\"color\":\"#E5ECF6\",\"width\":0.5},\"pattern\":{\"fillmode\":\"overlay\",\"size\":10,\"solidity\":0.2}},\"type\":\"bar\"}],\"carpet\":[{\"aaxis\":{\"endlinecolor\":\"#2a3f5f\",\"gridcolor\":\"white\",\"linecolor\":\"white\",\"minorgridcolor\":\"white\",\"startlinecolor\":\"#2a3f5f\"},\"baxis\":{\"endlinecolor\":\"#2a3f5f\",\"gridcolor\":\"white\",\"linecolor\":\"white\",\"minorgridcolor\":\"white\",\"startlinecolor\":\"#2a3f5f\"},\"type\":\"carpet\"}],\"choropleth\":[{\"colorbar\":{\"outlinewidth\":0,\"ticks\":\"\"},\"type\":\"choropleth\"}],\"contourcarpet\":[{\"colorbar\":{\"outlinewidth\":0,\"ticks\":\"\"},\"type\":\"contourcarpet\"}],\"contour\":[{\"colorbar\":{\"outlinewidth\":0,\"ticks\":\"\"},\"colorscale\":[[0.0,\"#0d0887\"],[0.1111111111111111,\"#46039f\"],[0.2222222222222222,\"#7201a8\"],[0.3333333333333333,\"#9c179e\"],[0.4444444444444444,\"#bd3786\"],[0.5555555555555556,\"#d8576b\"],[0.6666666666666666,\"#ed7953\"],[0.7777777777777778,\"#fb9f3a\"],[0.8888888888888888,\"#fdca26\"],[1.0,\"#f0f921\"]],\"type\":\"contour\"}],\"heatmapgl\":[{\"colorbar\":{\"outlinewidth\":0,\"ticks\":\"\"},\"colorscale\":[[0.0,\"#0d0887\"],[0.1111111111111111,\"#46039f\"],[0.2222222222222222,\"#7201a8\"],[0.3333333333333333,\"#9c179e\"],[0.4444444444444444,\"#bd3786\"],[0.5555555555555556,\"#d8576b\"],[0.6666666666666666,\"#ed7953\"],[0.7777777777777778,\"#fb9f3a\"],[0.8888888888888888,\"#fdca26\"],[1.0,\"#f0f921\"]],\"type\":\"heatmapgl\"}],\"heatmap\":[{\"colorbar\":{\"outlinewidth\":0,\"ticks\":\"\"},\"colorscale\":[[0.0,\"#0d0887\"],[0.1111111111111111,\"#46039f\"],[0.2222222222222222,\"#7201a8\"],[0.3333333333333333,\"#9c179e\"],[0.4444444444444444,\"#bd3786\"],[0.5555555555555556,\"#d8576b\"],[0.6666666666666666,\"#ed7953\"],[0.7777777777777778,\"#fb9f3a\"],[0.8888888888888888,\"#fdca26\"],[1.0,\"#f0f921\"]],\"type\":\"heatmap\"}],\"histogram2dcontour\":[{\"colorbar\":{\"outlinewidth\":0,\"ticks\":\"\"},\"colorscale\":[[0.0,\"#0d0887\"],[0.1111111111111111,\"#46039f\"],[0.2222222222222222,\"#7201a8\"],[0.3333333333333333,\"#9c179e\"],[0.4444444444444444,\"#bd3786\"],[0.5555555555555556,\"#d8576b\"],[0.6666666666666666,\"#ed7953\"],[0.7777777777777778,\"#fb9f3a\"],[0.8888888888888888,\"#fdca26\"],[1.0,\"#f0f921\"]],\"type\":\"histogram2dcontour\"}],\"histogram2d\":[{\"colorbar\":{\"outlinewidth\":0,\"ticks\":\"\"},\"colorscale\":[[0.0,\"#0d0887\"],[0.1111111111111111,\"#46039f\"],[0.2222222222222222,\"#7201a8\"],[0.3333333333333333,\"#9c179e\"],[0.4444444444444444,\"#bd3786\"],[0.5555555555555556,\"#d8576b\"],[0.6666666666666666,\"#ed7953\"],[0.7777777777777778,\"#fb9f3a\"],[0.8888888888888888,\"#fdca26\"],[1.0,\"#f0f921\"]],\"type\":\"histogram2d\"}],\"histogram\":[{\"marker\":{\"pattern\":{\"fillmode\":\"overlay\",\"size\":10,\"solidity\":0.2}},\"type\":\"histogram\"}],\"mesh3d\":[{\"colorbar\":{\"outlinewidth\":0,\"ticks\":\"\"},\"type\":\"mesh3d\"}],\"parcoords\":[{\"line\":{\"colorbar\":{\"outlinewidth\":0,\"ticks\":\"\"}},\"type\":\"parcoords\"}],\"pie\":[{\"automargin\":true,\"type\":\"pie\"}],\"scatter3d\":[{\"line\":{\"colorbar\":{\"outlinewidth\":0,\"ticks\":\"\"}},\"marker\":{\"colorbar\":{\"outlinewidth\":0,\"ticks\":\"\"}},\"type\":\"scatter3d\"}],\"scattercarpet\":[{\"marker\":{\"colorbar\":{\"outlinewidth\":0,\"ticks\":\"\"}},\"type\":\"scattercarpet\"}],\"scattergeo\":[{\"marker\":{\"colorbar\":{\"outlinewidth\":0,\"ticks\":\"\"}},\"type\":\"scattergeo\"}],\"scattergl\":[{\"marker\":{\"colorbar\":{\"outlinewidth\":0,\"ticks\":\"\"}},\"type\":\"scattergl\"}],\"scattermapbox\":[{\"marker\":{\"colorbar\":{\"outlinewidth\":0,\"ticks\":\"\"}},\"type\":\"scattermapbox\"}],\"scatterpolargl\":[{\"marker\":{\"colorbar\":{\"outlinewidth\":0,\"ticks\":\"\"}},\"type\":\"scatterpolargl\"}],\"scatterpolar\":[{\"marker\":{\"colorbar\":{\"outlinewidth\":0,\"ticks\":\"\"}},\"type\":\"scatterpolar\"}],\"scatter\":[{\"fillpattern\":{\"fillmode\":\"overlay\",\"size\":10,\"solidity\":0.2},\"type\":\"scatter\"}],\"scatterternary\":[{\"marker\":{\"colorbar\":{\"outlinewidth\":0,\"ticks\":\"\"}},\"type\":\"scatterternary\"}],\"surface\":[{\"colorbar\":{\"outlinewidth\":0,\"ticks\":\"\"},\"colorscale\":[[0.0,\"#0d0887\"],[0.1111111111111111,\"#46039f\"],[0.2222222222222222,\"#7201a8\"],[0.3333333333333333,\"#9c179e\"],[0.4444444444444444,\"#bd3786\"],[0.5555555555555556,\"#d8576b\"],[0.6666666666666666,\"#ed7953\"],[0.7777777777777778,\"#fb9f3a\"],[0.8888888888888888,\"#fdca26\"],[1.0,\"#f0f921\"]],\"type\":\"surface\"}],\"table\":[{\"cells\":{\"fill\":{\"color\":\"#EBF0F8\"},\"line\":{\"color\":\"white\"}},\"header\":{\"fill\":{\"color\":\"#C8D4E3\"},\"line\":{\"color\":\"white\"}},\"type\":\"table\"}]},\"layout\":{\"annotationdefaults\":{\"arrowcolor\":\"#2a3f5f\",\"arrowhead\":0,\"arrowwidth\":1},\"autotypenumbers\":\"strict\",\"coloraxis\":{\"colorbar\":{\"outlinewidth\":0,\"ticks\":\"\"}},\"colorscale\":{\"diverging\":[[0,\"#8e0152\"],[0.1,\"#c51b7d\"],[0.2,\"#de77ae\"],[0.3,\"#f1b6da\"],[0.4,\"#fde0ef\"],[0.5,\"#f7f7f7\"],[0.6,\"#e6f5d0\"],[0.7,\"#b8e186\"],[0.8,\"#7fbc41\"],[0.9,\"#4d9221\"],[1,\"#276419\"]],\"sequential\":[[0.0,\"#0d0887\"],[0.1111111111111111,\"#46039f\"],[0.2222222222222222,\"#7201a8\"],[0.3333333333333333,\"#9c179e\"],[0.4444444444444444,\"#bd3786\"],[0.5555555555555556,\"#d8576b\"],[0.6666666666666666,\"#ed7953\"],[0.7777777777777778,\"#fb9f3a\"],[0.8888888888888888,\"#fdca26\"],[1.0,\"#f0f921\"]],\"sequentialminus\":[[0.0,\"#0d0887\"],[0.1111111111111111,\"#46039f\"],[0.2222222222222222,\"#7201a8\"],[0.3333333333333333,\"#9c179e\"],[0.4444444444444444,\"#bd3786\"],[0.5555555555555556,\"#d8576b\"],[0.6666666666666666,\"#ed7953\"],[0.7777777777777778,\"#fb9f3a\"],[0.8888888888888888,\"#fdca26\"],[1.0,\"#f0f921\"]]},\"colorway\":[\"#636efa\",\"#EF553B\",\"#00cc96\",\"#ab63fa\",\"#FFA15A\",\"#19d3f3\",\"#FF6692\",\"#B6E880\",\"#FF97FF\",\"#FECB52\"],\"font\":{\"color\":\"#2a3f5f\"},\"geo\":{\"bgcolor\":\"white\",\"lakecolor\":\"white\",\"landcolor\":\"#E5ECF6\",\"showlakes\":true,\"showland\":true,\"subunitcolor\":\"white\"},\"hoverlabel\":{\"align\":\"left\"},\"hovermode\":\"closest\",\"mapbox\":{\"style\":\"light\"},\"paper_bgcolor\":\"white\",\"plot_bgcolor\":\"#E5ECF6\",\"polar\":{\"angularaxis\":{\"gridcolor\":\"white\",\"linecolor\":\"white\",\"ticks\":\"\"},\"bgcolor\":\"#E5ECF6\",\"radialaxis\":{\"gridcolor\":\"white\",\"linecolor\":\"white\",\"ticks\":\"\"}},\"scene\":{\"xaxis\":{\"backgroundcolor\":\"#E5ECF6\",\"gridcolor\":\"white\",\"gridwidth\":2,\"linecolor\":\"white\",\"showbackground\":true,\"ticks\":\"\",\"zerolinecolor\":\"white\"},\"yaxis\":{\"backgroundcolor\":\"#E5ECF6\",\"gridcolor\":\"white\",\"gridwidth\":2,\"linecolor\":\"white\",\"showbackground\":true,\"ticks\":\"\",\"zerolinecolor\":\"white\"},\"zaxis\":{\"backgroundcolor\":\"#E5ECF6\",\"gridcolor\":\"white\",\"gridwidth\":2,\"linecolor\":\"white\",\"showbackground\":true,\"ticks\":\"\",\"zerolinecolor\":\"white\"}},\"shapedefaults\":{\"line\":{\"color\":\"#2a3f5f\"}},\"ternary\":{\"aaxis\":{\"gridcolor\":\"white\",\"linecolor\":\"white\",\"ticks\":\"\"},\"baxis\":{\"gridcolor\":\"white\",\"linecolor\":\"white\",\"ticks\":\"\"},\"bgcolor\":\"#E5ECF6\",\"caxis\":{\"gridcolor\":\"white\",\"linecolor\":\"white\",\"ticks\":\"\"}},\"title\":{\"x\":0.05},\"xaxis\":{\"automargin\":true,\"gridcolor\":\"white\",\"linecolor\":\"white\",\"ticks\":\"\",\"title\":{\"standoff\":15},\"zerolinecolor\":\"white\",\"zerolinewidth\":2},\"yaxis\":{\"automargin\":true,\"gridcolor\":\"white\",\"linecolor\":\"white\",\"ticks\":\"\",\"title\":{\"standoff\":15},\"zerolinecolor\":\"white\",\"zerolinewidth\":2}}},\"title\":{\"text\":\"Co-occurrence network\"},\"width\":600,\"xaxis\":{\"showgrid\":false,\"showline\":false,\"showticklabels\":false,\"title\":{\"text\":\"\"},\"zeroline\":false},\"yaxis\":{\"showgrid\":false,\"showline\":false,\"showticklabels\":false,\"title\":{\"text\":\"\"},\"zeroline\":false}},                        {\"responsive\": true}                    ).then(function(){\n",
       "                            \n",
       "var gd = document.getElementById('f618e014-1608-4e8c-8717-9ef471986bac');\n",
       "var x = new MutationObserver(function (mutations, observer) {{\n",
       "        var display = window.getComputedStyle(gd).display;\n",
       "        if (!display || display === 'none') {{\n",
       "            console.log([gd, 'removed!']);\n",
       "            Plotly.purge(gd);\n",
       "            observer.disconnect();\n",
       "        }}\n",
       "}});\n",
       "\n",
       "// Listen for the removal of the full notebook cells\n",
       "var notebookContainer = gd.closest('#notebook-container');\n",
       "if (notebookContainer) {{\n",
       "    x.observe(notebookContainer, {childList: true});\n",
       "}}\n",
       "\n",
       "// Listen for the clearing of the current output cell\n",
       "var outputEl = gd.closest('.output');\n",
       "if (outputEl) {{\n",
       "    x.observe(outputEl, {childList: true});\n",
       "}}\n",
       "\n",
       "                        })                };                });            </script>        </div>"
      ]
     },
     "metadata": {},
     "output_type": "display_data"
    },
    {
     "data": {
      "text/html": [
       "<div>\n",
       "<style scoped>\n",
       "    .dataframe tbody tr th:only-of-type {\n",
       "        vertical-align: middle;\n",
       "    }\n",
       "\n",
       "    .dataframe tbody tr th {\n",
       "        vertical-align: top;\n",
       "    }\n",
       "\n",
       "    .dataframe thead th {\n",
       "        text-align: right;\n",
       "    }\n",
       "</style>\n",
       "<table border=\"1\" class=\"dataframe\">\n",
       "  <thead>\n",
       "    <tr style=\"text-align: right;\">\n",
       "      <th></th>\n",
       "      <th>id</th>\n",
       "      <th>id_code</th>\n",
       "      <th>adjacency_frequency</th>\n",
       "      <th>betweeness_centrality</th>\n",
       "      <th>clustering_coefficient</th>\n",
       "      <th>community</th>\n",
       "    </tr>\n",
       "  </thead>\n",
       "  <tbody>\n",
       "    <tr>\n",
       "      <th>0</th>\n",
       "      <td>Music</td>\n",
       "      <td>0</td>\n",
       "      <td>7</td>\n",
       "      <td>0.0</td>\n",
       "      <td>1.0</td>\n",
       "      <td>0</td>\n",
       "    </tr>\n",
       "    <tr>\n",
       "      <th>1</th>\n",
       "      <td>GF</td>\n",
       "      <td>1</td>\n",
       "      <td>7</td>\n",
       "      <td>0.0</td>\n",
       "      <td>1.0</td>\n",
       "      <td>0</td>\n",
       "    </tr>\n",
       "    <tr>\n",
       "      <th>2</th>\n",
       "      <td>GSI</td>\n",
       "      <td>2</td>\n",
       "      <td>7</td>\n",
       "      <td>0.0</td>\n",
       "      <td>1.0</td>\n",
       "      <td>0</td>\n",
       "    </tr>\n",
       "    <tr>\n",
       "      <th>3</th>\n",
       "      <td>GOI</td>\n",
       "      <td>3</td>\n",
       "      <td>7</td>\n",
       "      <td>0.0</td>\n",
       "      <td>1.0</td>\n",
       "      <td>0</td>\n",
       "    </tr>\n",
       "    <tr>\n",
       "      <th>4</th>\n",
       "      <td>GP</td>\n",
       "      <td>4</td>\n",
       "      <td>7</td>\n",
       "      <td>0.0</td>\n",
       "      <td>1.0</td>\n",
       "      <td>0</td>\n",
       "    </tr>\n",
       "  </tbody>\n",
       "</table>\n",
       "</div>"
      ],
      "text/plain": [
       "      id  id_code  adjacency_frequency  betweeness_centrality  \\\n",
       "0  Music        0                    7                    0.0   \n",
       "1     GF        1                    7                    0.0   \n",
       "2    GSI        2                    7                    0.0   \n",
       "3    GOI        3                    7                    0.0   \n",
       "4     GP        4                    7                    0.0   \n",
       "\n",
       "   clustering_coefficient  community  \n",
       "0                     1.0          0  \n",
       "1                     1.0          0  \n",
       "2                     1.0          0  \n",
       "3                     1.0          0  \n",
       "4                     1.0          0  "
      ]
     },
     "metadata": {},
     "output_type": "display_data"
    },
    {
     "data": {
      "text/plain": [
       "(8, 6)"
      ]
     },
     "metadata": {},
     "output_type": "display_data"
    },
    {
     "data": {
      "text/html": [
       "<div>\n",
       "<style scoped>\n",
       "    .dataframe tbody tr th:only-of-type {\n",
       "        vertical-align: middle;\n",
       "    }\n",
       "\n",
       "    .dataframe tbody tr th {\n",
       "        vertical-align: top;\n",
       "    }\n",
       "\n",
       "    .dataframe thead th {\n",
       "        text-align: right;\n",
       "    }\n",
       "</style>\n",
       "<table border=\"1\" class=\"dataframe\">\n",
       "  <thead>\n",
       "    <tr style=\"text-align: right;\">\n",
       "      <th></th>\n",
       "      <th>source</th>\n",
       "      <th>target</th>\n",
       "      <th>edge_frequency</th>\n",
       "      <th>source_code</th>\n",
       "      <th>target_code</th>\n",
       "    </tr>\n",
       "  </thead>\n",
       "  <tbody>\n",
       "    <tr>\n",
       "      <th>0</th>\n",
       "      <td>Music</td>\n",
       "      <td>S-Speech</td>\n",
       "      <td>9</td>\n",
       "      <td>0</td>\n",
       "      <td>6</td>\n",
       "    </tr>\n",
       "    <tr>\n",
       "      <th>1</th>\n",
       "      <td>GP</td>\n",
       "      <td>S-Speech</td>\n",
       "      <td>9</td>\n",
       "      <td>4</td>\n",
       "      <td>6</td>\n",
       "    </tr>\n",
       "    <tr>\n",
       "      <th>2</th>\n",
       "      <td>GP</td>\n",
       "      <td>Music</td>\n",
       "      <td>9</td>\n",
       "      <td>4</td>\n",
       "      <td>0</td>\n",
       "    </tr>\n",
       "    <tr>\n",
       "      <th>3</th>\n",
       "      <td>GOI</td>\n",
       "      <td>S-Speech</td>\n",
       "      <td>8</td>\n",
       "      <td>3</td>\n",
       "      <td>6</td>\n",
       "    </tr>\n",
       "    <tr>\n",
       "      <th>4</th>\n",
       "      <td>GOI</td>\n",
       "      <td>Music</td>\n",
       "      <td>8</td>\n",
       "      <td>3</td>\n",
       "      <td>0</td>\n",
       "    </tr>\n",
       "    <tr>\n",
       "      <th>5</th>\n",
       "      <td>GSI</td>\n",
       "      <td>S-Speech</td>\n",
       "      <td>8</td>\n",
       "      <td>2</td>\n",
       "      <td>6</td>\n",
       "    </tr>\n",
       "    <tr>\n",
       "      <th>6</th>\n",
       "      <td>GSI</td>\n",
       "      <td>Music</td>\n",
       "      <td>8</td>\n",
       "      <td>2</td>\n",
       "      <td>0</td>\n",
       "    </tr>\n",
       "    <tr>\n",
       "      <th>7</th>\n",
       "      <td>GP</td>\n",
       "      <td>GSI</td>\n",
       "      <td>8</td>\n",
       "      <td>4</td>\n",
       "      <td>2</td>\n",
       "    </tr>\n",
       "    <tr>\n",
       "      <th>8</th>\n",
       "      <td>GOI</td>\n",
       "      <td>GP</td>\n",
       "      <td>8</td>\n",
       "      <td>3</td>\n",
       "      <td>4</td>\n",
       "    </tr>\n",
       "    <tr>\n",
       "      <th>9</th>\n",
       "      <td>GF</td>\n",
       "      <td>Music</td>\n",
       "      <td>7</td>\n",
       "      <td>1</td>\n",
       "      <td>0</td>\n",
       "    </tr>\n",
       "    <tr>\n",
       "      <th>10</th>\n",
       "      <td>GF</td>\n",
       "      <td>S-Speech</td>\n",
       "      <td>7</td>\n",
       "      <td>1</td>\n",
       "      <td>6</td>\n",
       "    </tr>\n",
       "    <tr>\n",
       "      <th>11</th>\n",
       "      <td>GOI</td>\n",
       "      <td>GSI</td>\n",
       "      <td>7</td>\n",
       "      <td>3</td>\n",
       "      <td>2</td>\n",
       "    </tr>\n",
       "    <tr>\n",
       "      <th>12</th>\n",
       "      <td>GF</td>\n",
       "      <td>GP</td>\n",
       "      <td>7</td>\n",
       "      <td>1</td>\n",
       "      <td>4</td>\n",
       "    </tr>\n",
       "    <tr>\n",
       "      <th>13</th>\n",
       "      <td>GF</td>\n",
       "      <td>GOI</td>\n",
       "      <td>7</td>\n",
       "      <td>1</td>\n",
       "      <td>3</td>\n",
       "    </tr>\n",
       "    <tr>\n",
       "      <th>14</th>\n",
       "      <td>AQ</td>\n",
       "      <td>S-Speech</td>\n",
       "      <td>7</td>\n",
       "      <td>7</td>\n",
       "      <td>6</td>\n",
       "    </tr>\n",
       "    <tr>\n",
       "      <th>15</th>\n",
       "      <td>AQ</td>\n",
       "      <td>Music</td>\n",
       "      <td>7</td>\n",
       "      <td>7</td>\n",
       "      <td>0</td>\n",
       "    </tr>\n",
       "    <tr>\n",
       "      <th>16</th>\n",
       "      <td>AQ</td>\n",
       "      <td>GSI</td>\n",
       "      <td>7</td>\n",
       "      <td>7</td>\n",
       "      <td>2</td>\n",
       "    </tr>\n",
       "    <tr>\n",
       "      <th>17</th>\n",
       "      <td>AQ</td>\n",
       "      <td>GP</td>\n",
       "      <td>7</td>\n",
       "      <td>7</td>\n",
       "      <td>4</td>\n",
       "    </tr>\n",
       "    <tr>\n",
       "      <th>18</th>\n",
       "      <td>GF</td>\n",
       "      <td>GSI</td>\n",
       "      <td>6</td>\n",
       "      <td>1</td>\n",
       "      <td>2</td>\n",
       "    </tr>\n",
       "    <tr>\n",
       "      <th>19</th>\n",
       "      <td>AQ</td>\n",
       "      <td>GOI</td>\n",
       "      <td>6</td>\n",
       "      <td>7</td>\n",
       "      <td>3</td>\n",
       "    </tr>\n",
       "    <tr>\n",
       "      <th>20</th>\n",
       "      <td>GA</td>\n",
       "      <td>GP</td>\n",
       "      <td>5</td>\n",
       "      <td>5</td>\n",
       "      <td>4</td>\n",
       "    </tr>\n",
       "    <tr>\n",
       "      <th>21</th>\n",
       "      <td>GA</td>\n",
       "      <td>S-Speech</td>\n",
       "      <td>5</td>\n",
       "      <td>5</td>\n",
       "      <td>6</td>\n",
       "    </tr>\n",
       "    <tr>\n",
       "      <th>22</th>\n",
       "      <td>GA</td>\n",
       "      <td>Music</td>\n",
       "      <td>5</td>\n",
       "      <td>5</td>\n",
       "      <td>0</td>\n",
       "    </tr>\n",
       "    <tr>\n",
       "      <th>23</th>\n",
       "      <td>AQ</td>\n",
       "      <td>GF</td>\n",
       "      <td>5</td>\n",
       "      <td>7</td>\n",
       "      <td>1</td>\n",
       "    </tr>\n",
       "    <tr>\n",
       "      <th>24</th>\n",
       "      <td>GA</td>\n",
       "      <td>GOI</td>\n",
       "      <td>5</td>\n",
       "      <td>5</td>\n",
       "      <td>3</td>\n",
       "    </tr>\n",
       "    <tr>\n",
       "      <th>25</th>\n",
       "      <td>GA</td>\n",
       "      <td>GF</td>\n",
       "      <td>4</td>\n",
       "      <td>5</td>\n",
       "      <td>1</td>\n",
       "    </tr>\n",
       "    <tr>\n",
       "      <th>26</th>\n",
       "      <td>AQ</td>\n",
       "      <td>GA</td>\n",
       "      <td>4</td>\n",
       "      <td>7</td>\n",
       "      <td>5</td>\n",
       "    </tr>\n",
       "    <tr>\n",
       "      <th>27</th>\n",
       "      <td>GA</td>\n",
       "      <td>GSI</td>\n",
       "      <td>4</td>\n",
       "      <td>5</td>\n",
       "      <td>2</td>\n",
       "    </tr>\n",
       "  </tbody>\n",
       "</table>\n",
       "</div>"
      ],
      "text/plain": [
       "   source    target  edge_frequency  source_code  target_code\n",
       "0   Music  S-Speech               9            0            6\n",
       "1      GP  S-Speech               9            4            6\n",
       "2      GP     Music               9            4            0\n",
       "3     GOI  S-Speech               8            3            6\n",
       "4     GOI     Music               8            3            0\n",
       "5     GSI  S-Speech               8            2            6\n",
       "6     GSI     Music               8            2            0\n",
       "7      GP       GSI               8            4            2\n",
       "8     GOI        GP               8            3            4\n",
       "9      GF     Music               7            1            0\n",
       "10     GF  S-Speech               7            1            6\n",
       "11    GOI       GSI               7            3            2\n",
       "12     GF        GP               7            1            4\n",
       "13     GF       GOI               7            1            3\n",
       "14     AQ  S-Speech               7            7            6\n",
       "15     AQ     Music               7            7            0\n",
       "16     AQ       GSI               7            7            2\n",
       "17     AQ        GP               7            7            4\n",
       "18     GF       GSI               6            1            2\n",
       "19     AQ       GOI               6            7            3\n",
       "20     GA        GP               5            5            4\n",
       "21     GA  S-Speech               5            5            6\n",
       "22     GA     Music               5            5            0\n",
       "23     AQ        GF               5            7            1\n",
       "24     GA       GOI               5            5            3\n",
       "25     GA        GF               4            5            1\n",
       "26     AQ        GA               4            7            5\n",
       "27     GA       GSI               4            5            2"
      ]
     },
     "metadata": {},
     "output_type": "display_data"
    },
    {
     "data": {
      "text/plain": [
       "(28, 5)"
      ]
     },
     "metadata": {},
     "output_type": "display_data"
    }
   ],
   "source": [
    "#共起ネットワーク図作成\n",
    "#min_edge_frequencyの設定が難しい、有向グラフの方が良い。\n",
    "#iplotをインポートして使えば結果が表示される\n",
    "from plotly.offline import iplot\n",
    "\n",
    "# ビルド（データ件数によっては処理に時間を要します）\n",
    "npt.build_graph(min_edge_frequency=3, stopwords=stopwords)\n",
    "\n",
    "# ビルド後にノードとエッジの数が表示される。ノードの数が100前後になるようにするとネットワークが綺麗に描画できる\n",
    "#>> node_size:63, edge_size:63\n",
    "\n",
    "fig_co_network = npt.co_network(\n",
    "    title='Co-occurrence network',\n",
    "    sizing=70,\n",
    "    node_size='adjacency_frequency',\n",
    "    color_palette='hls',\n",
    "    width=600,\n",
    "    height=500,\n",
    "    save=False\n",
    ")\n",
    "iplot(fig_co_network)\n",
    "\n",
    "display(\n",
    "    npt.node_df.head(), npt.node_df.shape,\n",
    "    npt.edge_df.head(None), npt.edge_df.shape\n",
    ")"
   ]
  },
  {
   "cell_type": "markdown",
   "id": "cc09de52",
   "metadata": {},
   "source": [
    "# 有向グラフの作成１-graphviz"
   ]
  },
  {
   "cell_type": "code",
   "execution_count": 121,
   "id": "813e7f36",
   "metadata": {
    "scrolled": true
   },
   "outputs": [
    {
     "data": {
      "image/svg+xml": [
       "<?xml version=\"1.0\" encoding=\"UTF-8\" standalone=\"no\"?>\n",
       "<!DOCTYPE svg PUBLIC \"-//W3C//DTD SVG 1.1//EN\"\n",
       " \"http://www.w3.org/Graphics/SVG/1.1/DTD/svg11.dtd\">\n",
       "<!-- Generated by graphviz version 2.50.0 (0)\n",
       " -->\n",
       "<!-- Pages: 1 -->\n",
       "<svg width=\"1210pt\" height=\"653pt\"\n",
       " viewBox=\"0.00 0.00 1210.00 653.00\" xmlns=\"http://www.w3.org/2000/svg\" xmlns:xlink=\"http://www.w3.org/1999/xlink\">\n",
       "<g id=\"graph0\" class=\"graph\" transform=\"scale(1 1) rotate(0) translate(4 649)\">\n",
       "<polygon fill=\"white\" stroke=\"transparent\" points=\"-4,4 -4,-649 1206,-649 1206,4 -4,4\"/>\n",
       "<!-- AQ -->\n",
       "<g id=\"node1\" class=\"node\">\n",
       "<title>AQ</title>\n",
       "<ellipse fill=\"none\" stroke=\"black\" cx=\"478\" cy=\"-627\" rx=\"27\" ry=\"18\"/>\n",
       "<text text-anchor=\"middle\" x=\"478\" y=\"-623.3\" font-family=\"Times,serif\" font-size=\"14.00\">AQ</text>\n",
       "</g>\n",
       "<!-- AQ&#45;&gt;AQ -->\n",
       "<g id=\"edge1\" class=\"edge\">\n",
       "<title>AQ&#45;&gt;AQ</title>\n",
       "<path fill=\"none\" stroke=\"black\" d=\"M502.53,-634.75C513.51,-635.49 523,-632.91 523,-627 523,-623.03 518.72,-620.56 512.57,-619.59\"/>\n",
       "<polygon fill=\"black\" stroke=\"black\" points=\"512.65,-616.09 502.53,-619.25 512.41,-623.09 512.65,-616.09\"/>\n",
       "<text text-anchor=\"middle\" x=\"535.5\" y=\"-623.3\" font-family=\"Times,serif\" font-size=\"14.00\">0.03</text>\n",
       "</g>\n",
       "<!-- GP -->\n",
       "<g id=\"node2\" class=\"node\">\n",
       "<title>GP</title>\n",
       "<ellipse fill=\"none\" stroke=\"black\" cx=\"478\" cy=\"-540\" rx=\"27\" ry=\"18\"/>\n",
       "<text text-anchor=\"middle\" x=\"478\" y=\"-536.3\" font-family=\"Times,serif\" font-size=\"14.00\">GP</text>\n",
       "</g>\n",
       "<!-- AQ&#45;&gt;GP -->\n",
       "<g id=\"edge2\" class=\"edge\">\n",
       "<title>AQ&#45;&gt;GP</title>\n",
       "<path fill=\"none\" stroke=\"black\" d=\"M479.17,-608.92C479.51,-603.22 479.83,-596.84 480,-591 480.21,-583.65 480.06,-575.69 479.77,-568.33\"/>\n",
       "<polygon fill=\"black\" stroke=\"black\" points=\"483.26,-567.94 479.27,-558.12 476.26,-568.28 483.26,-567.94\"/>\n",
       "<text text-anchor=\"middle\" x=\"492.5\" y=\"-579.8\" font-family=\"Times,serif\" font-size=\"14.00\">0.03</text>\n",
       "</g>\n",
       "<!-- GSI -->\n",
       "<g id=\"node3\" class=\"node\">\n",
       "<title>GSI</title>\n",
       "<ellipse fill=\"none\" stroke=\"black\" cx=\"446\" cy=\"-18\" rx=\"27\" ry=\"18\"/>\n",
       "<text text-anchor=\"middle\" x=\"446\" y=\"-14.3\" font-family=\"Times,serif\" font-size=\"14.00\">GSI</text>\n",
       "</g>\n",
       "<!-- AQ&#45;&gt;GSI -->\n",
       "<g id=\"edge3\" class=\"edge\">\n",
       "<title>AQ&#45;&gt;GSI</title>\n",
       "<path fill=\"none\" stroke=\"black\" d=\"M450.88,-625.22C360.03,-622.42 70.02,-611.92 34,-591 10.76,-577.5 0,-567.87 0,-541 0,-541 0,-541 0,-104 0,-77.13 10.8,-67.57 34,-54 65.95,-35.31 313.89,-24.02 409.01,-20.33\"/>\n",
       "<polygon fill=\"black\" stroke=\"black\" points=\"409.19,-23.83 419.05,-19.95 408.92,-16.83 409.19,-23.83\"/>\n",
       "<text text-anchor=\"middle\" x=\"12.5\" y=\"-318.8\" font-family=\"Times,serif\" font-size=\"14.00\">0.16</text>\n",
       "</g>\n",
       "<!-- Music -->\n",
       "<g id=\"node4\" class=\"node\">\n",
       "<title>Music</title>\n",
       "<ellipse fill=\"none\" stroke=\"black\" cx=\"537\" cy=\"-105\" rx=\"33.29\" ry=\"18\"/>\n",
       "<text text-anchor=\"middle\" x=\"537\" y=\"-101.3\" font-family=\"Times,serif\" font-size=\"14.00\">Music</text>\n",
       "</g>\n",
       "<!-- AQ&#45;&gt;Music -->\n",
       "<g id=\"edge4\" class=\"edge\">\n",
       "<title>AQ&#45;&gt;Music</title>\n",
       "<path fill=\"none\" stroke=\"black\" d=\"M504.97,-625.36C612.25,-622.67 1005.34,-611.49 1057,-591 1089.27,-578.2 1117,-575.71 1117,-541 1117,-541 1117,-541 1117,-321.5 1117,-275.38 1107.66,-257.24 1072,-228 1070.12,-226.46 735.38,-141.52 733,-141 679.98,-129.48 618.29,-118.93 578.49,-112.49\"/>\n",
       "<polygon fill=\"black\" stroke=\"black\" points=\"578.8,-108.99 568.37,-110.86 577.69,-115.9 578.8,-108.99\"/>\n",
       "<text text-anchor=\"middle\" x=\"1129.5\" y=\"-362.3\" font-family=\"Times,serif\" font-size=\"14.00\">0.79</text>\n",
       "</g>\n",
       "<!-- S&#45;Speech -->\n",
       "<g id=\"node5\" class=\"node\">\n",
       "<title>S&#45;Speech</title>\n",
       "<ellipse fill=\"none\" stroke=\"black\" cx=\"746\" cy=\"-192\" rx=\"44.39\" ry=\"18\"/>\n",
       "<text text-anchor=\"middle\" x=\"746\" y=\"-188.3\" font-family=\"Times,serif\" font-size=\"14.00\">S&#45;Speech</text>\n",
       "</g>\n",
       "<!-- AQ&#45;&gt;S&#45;Speech -->\n",
       "<g id=\"edge5\" class=\"edge\">\n",
       "<title>AQ&#45;&gt;S&#45;Speech</title>\n",
       "<path fill=\"none\" stroke=\"black\" d=\"M505.22,-626.36C612.46,-627.5 1001.77,-628.98 1040,-591 1068.64,-562.55 1081.89,-258.11 1055,-228 1046.59,-218.58 885.35,-204.23 799.21,-197.19\"/>\n",
       "<polygon fill=\"black\" stroke=\"black\" points=\"799.35,-193.69 789.1,-196.37 798.78,-200.67 799.35,-193.69\"/>\n",
       "<text text-anchor=\"middle\" x=\"1080.5\" y=\"-405.8\" font-family=\"Times,serif\" font-size=\"14.00\">0.86</text>\n",
       "</g>\n",
       "<!-- GP&#45;&gt;AQ -->\n",
       "<g id=\"edge27\" class=\"edge\">\n",
       "<title>GP&#45;&gt;AQ</title>\n",
       "<path fill=\"none\" stroke=\"black\" d=\"M462.91,-555.29C454.56,-564.98 446.67,-578.3 451,-591 452.49,-595.37 454.77,-599.61 457.38,-603.56\"/>\n",
       "<polygon fill=\"black\" stroke=\"black\" points=\"454.65,-605.75 463.47,-611.63 460.24,-601.53 454.65,-605.75\"/>\n",
       "<text text-anchor=\"middle\" x=\"463.5\" y=\"-579.8\" font-family=\"Times,serif\" font-size=\"14.00\">0.06</text>\n",
       "</g>\n",
       "<!-- GP&#45;&gt;GP -->\n",
       "<g id=\"edge31\" class=\"edge\">\n",
       "<title>GP&#45;&gt;GP</title>\n",
       "<path fill=\"none\" stroke=\"black\" d=\"M502.53,-547.75C513.51,-548.49 523,-545.91 523,-540 523,-536.03 518.72,-533.56 512.57,-532.59\"/>\n",
       "<polygon fill=\"black\" stroke=\"black\" points=\"512.65,-529.09 502.53,-532.25 512.41,-536.09 512.65,-529.09\"/>\n",
       "<text text-anchor=\"middle\" x=\"535.5\" y=\"-536.3\" font-family=\"Times,serif\" font-size=\"14.00\">1.03</text>\n",
       "</g>\n",
       "<!-- GP&#45;&gt;GSI -->\n",
       "<g id=\"edge32\" class=\"edge\">\n",
       "<title>GP&#45;&gt;GSI</title>\n",
       "<path fill=\"none\" stroke=\"black\" d=\"M505.06,-537.38C610.5,-530.72 988,-503.43 988,-454 988,-454 988,-454 988,-321.5 988,-182.97 958.51,-100.46 828,-54 765.05,-31.59 566.07,-22.81 483,-20.06\"/>\n",
       "<polygon fill=\"black\" stroke=\"black\" points=\"483.1,-16.56 473,-19.74 482.88,-23.56 483.1,-16.56\"/>\n",
       "<text text-anchor=\"middle\" x=\"999.5\" y=\"-275.3\" font-family=\"Times,serif\" font-size=\"14.00\">0.73</text>\n",
       "</g>\n",
       "<!-- GP&#45;&gt;Music -->\n",
       "<g id=\"edge33\" class=\"edge\">\n",
       "<title>GP&#45;&gt;Music</title>\n",
       "<path fill=\"none\" stroke=\"black\" d=\"M451.95,-534.52C431.98,-531.09 403.75,-526.25 379,-522 332.33,-513.99 310.47,-534.19 274,-504 242.21,-477.68 216.34,-370.62 209,-330 196.67,-261.77 173.5,-233.56 209,-174 237.91,-125.49 411.7,-111.45 493.93,-107.49\"/>\n",
       "<polygon fill=\"black\" stroke=\"black\" points=\"494.13,-110.99 503.96,-107.04 493.81,-104 494.13,-110.99\"/>\n",
       "<text text-anchor=\"middle\" x=\"221.5\" y=\"-318.8\" font-family=\"Times,serif\" font-size=\"14.00\">5.06</text>\n",
       "</g>\n",
       "<!-- GP&#45;&gt;S&#45;Speech -->\n",
       "<g id=\"edge34\" class=\"edge\">\n",
       "<title>GP&#45;&gt;S&#45;Speech</title>\n",
       "<path fill=\"none\" stroke=\"black\" d=\"M505.1,-538.9C553.83,-537.26 656.76,-526.9 717,-471 771.93,-420.02 786.13,-389.77 781,-315 778.33,-276.06 782.72,-264.54 769,-228 767.73,-224.63 766.1,-221.26 764.28,-218\"/>\n",
       "<polygon fill=\"black\" stroke=\"black\" points=\"767.1,-215.91 758.85,-209.27 761.16,-219.61 767.1,-215.91\"/>\n",
       "<text text-anchor=\"middle\" x=\"793.5\" y=\"-362.3\" font-family=\"Times,serif\" font-size=\"14.00\">3.73</text>\n",
       "</g>\n",
       "<!-- GA -->\n",
       "<g id=\"node6\" class=\"node\">\n",
       "<title>GA</title>\n",
       "<ellipse fill=\"none\" stroke=\"black\" cx=\"404\" cy=\"-279\" rx=\"27\" ry=\"18\"/>\n",
       "<text text-anchor=\"middle\" x=\"404\" y=\"-275.3\" font-family=\"Times,serif\" font-size=\"14.00\">GA</text>\n",
       "</g>\n",
       "<!-- GP&#45;&gt;GA -->\n",
       "<g id=\"edge28\" class=\"edge\">\n",
       "<title>GP&#45;&gt;GA</title>\n",
       "<path fill=\"none\" stroke=\"black\" d=\"M481.97,-521.95C490.22,-482.23 505.21,-381.83 464,-315 457.8,-304.94 447.55,-297.45 437.27,-292.04\"/>\n",
       "<polygon fill=\"black\" stroke=\"black\" points=\"438.46,-288.74 427.92,-287.65 435.48,-295.07 438.46,-288.74\"/>\n",
       "<text text-anchor=\"middle\" x=\"503.5\" y=\"-405.8\" font-family=\"Times,serif\" font-size=\"14.00\">0.06</text>\n",
       "</g>\n",
       "<!-- GF -->\n",
       "<g id=\"node7\" class=\"node\">\n",
       "<title>GF</title>\n",
       "<ellipse fill=\"none\" stroke=\"black\" cx=\"335\" cy=\"-366\" rx=\"27\" ry=\"18\"/>\n",
       "<text text-anchor=\"middle\" x=\"335\" y=\"-362.3\" font-family=\"Times,serif\" font-size=\"14.00\">GF</text>\n",
       "</g>\n",
       "<!-- GP&#45;&gt;GF -->\n",
       "<g id=\"edge29\" class=\"edge\">\n",
       "<title>GP&#45;&gt;GF</title>\n",
       "<path fill=\"none\" stroke=\"black\" d=\"M453.99,-531.06C427.74,-521.15 386.3,-501.65 363,-471 346.08,-448.74 339.37,-417 336.72,-394.45\"/>\n",
       "<polygon fill=\"black\" stroke=\"black\" points=\"340.18,-393.81 335.72,-384.2 333.21,-394.5 340.18,-393.81\"/>\n",
       "<text text-anchor=\"middle\" x=\"375.5\" y=\"-449.3\" font-family=\"Times,serif\" font-size=\"14.00\">0.36</text>\n",
       "</g>\n",
       "<!-- GOI -->\n",
       "<g id=\"node8\" class=\"node\">\n",
       "<title>GOI</title>\n",
       "<ellipse fill=\"none\" stroke=\"black\" cx=\"638\" cy=\"-453\" rx=\"27\" ry=\"18\"/>\n",
       "<text text-anchor=\"middle\" x=\"638\" y=\"-449.3\" font-family=\"Times,serif\" font-size=\"14.00\">GOI</text>\n",
       "</g>\n",
       "<!-- GP&#45;&gt;GOI -->\n",
       "<g id=\"edge30\" class=\"edge\">\n",
       "<title>GP&#45;&gt;GOI</title>\n",
       "<path fill=\"none\" stroke=\"black\" d=\"M503.03,-532.76C523.68,-527.01 553.34,-517.34 577,-504 591.01,-496.1 605.01,-484.92 616.06,-475.14\"/>\n",
       "<polygon fill=\"black\" stroke=\"black\" points=\"618.5,-477.65 623.54,-468.32 613.79,-472.47 618.5,-477.65\"/>\n",
       "<text text-anchor=\"middle\" x=\"610.5\" y=\"-492.8\" font-family=\"Times,serif\" font-size=\"14.00\">0.03</text>\n",
       "</g>\n",
       "<!-- GSI&#45;&gt;AQ -->\n",
       "<g id=\"edge35\" class=\"edge\">\n",
       "<title>GSI&#45;&gt;AQ</title>\n",
       "<path fill=\"none\" stroke=\"black\" d=\"M418.96,-19C329.38,-19.7 48,-27.96 48,-104 48,-541 48,-541 48,-541 48,-620.73 336.12,-626.89 440.67,-626.5\"/>\n",
       "<polygon fill=\"black\" stroke=\"black\" points=\"440.8,-629.99 450.78,-626.43 440.75,-622.99 440.8,-629.99\"/>\n",
       "<text text-anchor=\"middle\" x=\"60.5\" y=\"-318.8\" font-family=\"Times,serif\" font-size=\"14.00\">0.23</text>\n",
       "</g>\n",
       "<!-- GSI&#45;&gt;GP -->\n",
       "<g id=\"edge39\" class=\"edge\">\n",
       "<title>GSI&#45;&gt;GP</title>\n",
       "<path fill=\"none\" stroke=\"black\" d=\"M419.17,-20.75C362.73,-24.75 233.69,-35.65 194,-54 92.1,-101.12 93.38,-189.28 125,-297 155.8,-401.93 166.45,-444.19 258,-504 287.44,-523.24 386.09,-532.81 440.75,-536.73\"/>\n",
       "<polygon fill=\"black\" stroke=\"black\" points=\"440.85,-540.25 451.06,-537.45 441.33,-533.27 440.85,-540.25\"/>\n",
       "<text text-anchor=\"middle\" x=\"137.5\" y=\"-275.3\" font-family=\"Times,serif\" font-size=\"14.00\">1.03</text>\n",
       "</g>\n",
       "<!-- GSI&#45;&gt;GSI -->\n",
       "<g id=\"edge40\" class=\"edge\">\n",
       "<title>GSI&#45;&gt;GSI</title>\n",
       "<path fill=\"none\" stroke=\"black\" d=\"M470.53,-25.75C481.51,-26.49 491,-23.91 491,-18 491,-14.03 486.72,-11.56 480.57,-10.59\"/>\n",
       "<polygon fill=\"black\" stroke=\"black\" points=\"480.65,-7.09 470.53,-10.25 480.41,-14.09 480.65,-7.09\"/>\n",
       "<text text-anchor=\"middle\" x=\"503.5\" y=\"-14.3\" font-family=\"Times,serif\" font-size=\"14.00\">1.86</text>\n",
       "</g>\n",
       "<!-- GSI&#45;&gt;Music -->\n",
       "<g id=\"edge41\" class=\"edge\">\n",
       "<title>GSI&#45;&gt;Music</title>\n",
       "<path fill=\"none\" stroke=\"black\" d=\"M449.5,-35.98C452.41,-46.54 457.49,-59.8 466,-69 475.06,-78.79 487.45,-86.19 499.35,-91.6\"/>\n",
       "<polygon fill=\"black\" stroke=\"black\" points=\"498.14,-94.89 508.72,-95.52 500.85,-88.43 498.14,-94.89\"/>\n",
       "<text text-anchor=\"middle\" x=\"478.5\" y=\"-57.8\" font-family=\"Times,serif\" font-size=\"14.00\">5.03</text>\n",
       "</g>\n",
       "<!-- GSI&#45;&gt;S&#45;Speech -->\n",
       "<g id=\"edge42\" class=\"edge\">\n",
       "<title>GSI&#45;&gt;S&#45;Speech</title>\n",
       "<path fill=\"none\" stroke=\"black\" d=\"M473,-18.68C540.51,-18.4 714.49,-20.99 760,-54 793.5,-78.3 775.3,-132.37 759.99,-164.85\"/>\n",
       "<polygon fill=\"black\" stroke=\"black\" points=\"756.68,-163.66 755.4,-174.17 762.96,-166.75 756.68,-163.66\"/>\n",
       "<text text-anchor=\"middle\" x=\"790.5\" y=\"-101.3\" font-family=\"Times,serif\" font-size=\"14.00\">4.96</text>\n",
       "</g>\n",
       "<!-- GSI&#45;&gt;GA -->\n",
       "<g id=\"edge36\" class=\"edge\">\n",
       "<title>GSI&#45;&gt;GA</title>\n",
       "<path fill=\"none\" stroke=\"black\" d=\"M443.23,-36.06C436.1,-80.03 417.05,-197.54 408.39,-250.93\"/>\n",
       "<polygon fill=\"black\" stroke=\"black\" points=\"404.9,-250.57 406.76,-261.01 411.81,-251.7 404.9,-250.57\"/>\n",
       "<text text-anchor=\"middle\" x=\"437.5\" y=\"-144.8\" font-family=\"Times,serif\" font-size=\"14.00\">0.26</text>\n",
       "</g>\n",
       "<!-- GSI&#45;&gt;GF -->\n",
       "<g id=\"edge37\" class=\"edge\">\n",
       "<title>GSI&#45;&gt;GF</title>\n",
       "<path fill=\"none\" stroke=\"black\" d=\"M420.07,-23.58C362.88,-34.41 231,-63.76 231,-104 231,-236.5 231,-236.5 231,-236.5 231,-278.74 221.31,-297.27 248,-330 260.47,-345.29 280.64,-353.95 298.41,-358.83\"/>\n",
       "<polygon fill=\"black\" stroke=\"black\" points=\"297.99,-362.33 308.53,-361.28 299.64,-355.52 297.99,-362.33\"/>\n",
       "<text text-anchor=\"middle\" x=\"243.5\" y=\"-188.3\" font-family=\"Times,serif\" font-size=\"14.00\">0.63</text>\n",
       "</g>\n",
       "<!-- GSI&#45;&gt;GOI -->\n",
       "<g id=\"edge38\" class=\"edge\">\n",
       "<title>GSI&#45;&gt;GOI</title>\n",
       "<path fill=\"none\" stroke=\"black\" d=\"M473.05,-19.12C545.91,-19.85 744.6,-24.56 802,-54 882.57,-95.33 885.6,-140.26 908,-228 930.56,-316.38 910.19,-377.44 828,-417 778.62,-440.77 714.87,-448.46 675.21,-450.91\"/>\n",
       "<polygon fill=\"black\" stroke=\"black\" points=\"674.98,-447.41 665.19,-451.44 675.36,-454.4 674.98,-447.41\"/>\n",
       "<text text-anchor=\"middle\" x=\"923.5\" y=\"-231.8\" font-family=\"Times,serif\" font-size=\"14.00\">0.23</text>\n",
       "</g>\n",
       "<!-- Music&#45;&gt;AQ -->\n",
       "<g id=\"edge43\" class=\"edge\">\n",
       "<title>Music&#45;&gt;AQ</title>\n",
       "<path fill=\"none\" stroke=\"black\" d=\"M568.77,-110.2C614.63,-116.36 701.99,-128.49 776,-141 920.48,-165.43 973.24,-145.02 1094,-228 1166.93,-278.11 1178,-320.02 1178,-408.5 1178,-541 1178,-541 1178,-541 1178,-586.37 1132.55,-578.26 1089,-591 980.59,-622.71 630.81,-625.89 515.36,-626.06\"/>\n",
       "<polygon fill=\"black\" stroke=\"black\" points=\"515.25,-622.56 505.25,-626.06 515.25,-629.56 515.25,-622.56\"/>\n",
       "<text text-anchor=\"middle\" x=\"1189.5\" y=\"-362.3\" font-family=\"Times,serif\" font-size=\"14.00\">0.59</text>\n",
       "</g>\n",
       "<!-- Music&#45;&gt;GP -->\n",
       "<g id=\"edge47\" class=\"edge\">\n",
       "<title>Music&#45;&gt;GP</title>\n",
       "<path fill=\"none\" stroke=\"black\" d=\"M504.22,-108.65C456.5,-113.07 370.91,-123.24 346,-141 278.66,-189.03 287.97,-232.68 280,-315 270.92,-408.78 295.7,-454.71 376,-504 396.47,-516.57 422.05,-525.33 442.47,-530.94\"/>\n",
       "<polygon fill=\"black\" stroke=\"black\" points=\"441.77,-534.38 452.33,-533.52 443.54,-527.61 441.77,-534.38\"/>\n",
       "<text text-anchor=\"middle\" x=\"292.5\" y=\"-318.8\" font-family=\"Times,serif\" font-size=\"14.00\">5.59</text>\n",
       "</g>\n",
       "<!-- Music&#45;&gt;GSI -->\n",
       "<g id=\"edge48\" class=\"edge\">\n",
       "<title>Music&#45;&gt;GSI</title>\n",
       "<path fill=\"none\" stroke=\"black\" d=\"M523.54,-88.05C514.69,-77.9 502.63,-64.7 491,-54 484.96,-48.44 478.11,-42.81 471.6,-37.73\"/>\n",
       "<polygon fill=\"black\" stroke=\"black\" points=\"473.71,-34.94 463.64,-31.65 469.46,-40.5 473.71,-34.94\"/>\n",
       "<text text-anchor=\"middle\" x=\"517.5\" y=\"-57.8\" font-family=\"Times,serif\" font-size=\"14.00\">6.03</text>\n",
       "</g>\n",
       "<!-- Music&#45;&gt;Music -->\n",
       "<g id=\"edge49\" class=\"edge\">\n",
       "<title>Music&#45;&gt;Music</title>\n",
       "<path fill=\"none\" stroke=\"black\" d=\"M566.95,-112.84C578.52,-113.19 588.15,-110.58 588.15,-105 588.15,-101.17 583.6,-98.73 576.99,-97.7\"/>\n",
       "<polygon fill=\"black\" stroke=\"black\" points=\"577.12,-94.2 566.95,-97.16 576.74,-101.19 577.12,-94.2\"/>\n",
       "<text text-anchor=\"middle\" x=\"600.65\" y=\"-101.3\" font-family=\"Times,serif\" font-size=\"14.00\">13.1</text>\n",
       "</g>\n",
       "<!-- Music&#45;&gt;S&#45;Speech -->\n",
       "<g id=\"edge50\" class=\"edge\">\n",
       "<title>Music&#45;&gt;S&#45;Speech</title>\n",
       "<path fill=\"none\" stroke=\"black\" d=\"M569.36,-109.51C600.11,-113.8 647.02,-122.86 684,-141 691.89,-144.87 707.22,-157.22 720.66,-168.67\"/>\n",
       "<polygon fill=\"black\" stroke=\"black\" points=\"718.43,-171.37 728.29,-175.24 723,-166.06 718.43,-171.37\"/>\n",
       "<text text-anchor=\"middle\" x=\"716.5\" y=\"-144.8\" font-family=\"Times,serif\" font-size=\"14.00\">6.33</text>\n",
       "</g>\n",
       "<!-- Music&#45;&gt;GA -->\n",
       "<g id=\"edge44\" class=\"edge\">\n",
       "<title>Music&#45;&gt;GA</title>\n",
       "<path fill=\"none\" stroke=\"black\" d=\"M536.96,-123.1C536.09,-145.14 531.73,-183.76 513,-210 507.63,-217.53 463.47,-243.84 433.04,-261.44\"/>\n",
       "<polygon fill=\"black\" stroke=\"black\" points=\"431.01,-258.57 424.09,-266.59 434.5,-264.63 431.01,-258.57\"/>\n",
       "<text text-anchor=\"middle\" x=\"541.5\" y=\"-188.3\" font-family=\"Times,serif\" font-size=\"14.00\">0.69</text>\n",
       "</g>\n",
       "<!-- Music&#45;&gt;GF -->\n",
       "<g id=\"edge45\" class=\"edge\">\n",
       "<title>Music&#45;&gt;GF</title>\n",
       "<path fill=\"none\" stroke=\"black\" d=\"M516,-119.22C479.99,-143.03 406.62,-196.65 368,-261 353.59,-285.01 344.82,-315.96 339.98,-337.84\"/>\n",
       "<polygon fill=\"black\" stroke=\"black\" points=\"336.52,-337.28 337.91,-347.78 343.38,-338.7 336.52,-337.28\"/>\n",
       "<text text-anchor=\"middle\" x=\"401.5\" y=\"-231.8\" font-family=\"Times,serif\" font-size=\"14.00\">3.19</text>\n",
       "</g>\n",
       "<!-- Music&#45;&gt;GOI -->\n",
       "<g id=\"edge46\" class=\"edge\">\n",
       "<title>Music&#45;&gt;GOI</title>\n",
       "<path fill=\"none\" stroke=\"black\" d=\"M544.02,-122.72C553.58,-146 570.81,-189.64 582,-228 590.78,-258.13 586.22,-267.52 597,-297 605.81,-321.09 616.17,-323.58 624,-348 632.09,-373.23 635.51,-403.36 636.95,-424.68\"/>\n",
       "<polygon fill=\"black\" stroke=\"black\" points=\"633.46,-424.88 637.52,-434.66 640.44,-424.48 633.46,-424.88\"/>\n",
       "<text text-anchor=\"middle\" x=\"609.5\" y=\"-275.3\" font-family=\"Times,serif\" font-size=\"14.00\">1.13</text>\n",
       "</g>\n",
       "<!-- S&#45;Speech&#45;&gt;AQ -->\n",
       "<g id=\"edge51\" class=\"edge\">\n",
       "<title>S&#45;Speech&#45;&gt;AQ</title>\n",
       "<path fill=\"none\" stroke=\"black\" d=\"M788.73,-196.88C858.58,-204.26 992,-223.09 1017,-261 1046.78,-306.17 1037.15,-462.87 1002,-504 937.98,-578.9 623.6,-613.21 514.99,-622.96\"/>\n",
       "<polygon fill=\"black\" stroke=\"black\" points=\"514.49,-619.49 504.84,-623.85 515.11,-626.46 514.49,-619.49\"/>\n",
       "<text text-anchor=\"middle\" x=\"1044.5\" y=\"-405.8\" font-family=\"Times,serif\" font-size=\"14.00\">0.83</text>\n",
       "</g>\n",
       "<!-- S&#45;Speech&#45;&gt;GP -->\n",
       "<g id=\"edge55\" class=\"edge\">\n",
       "<title>S&#45;Speech&#45;&gt;GP</title>\n",
       "<path fill=\"none\" stroke=\"black\" d=\"M767.41,-208.14C773.92,-213.71 780.52,-220.5 785,-228 812.94,-274.77 804.75,-293.77 810,-348 811.54,-363.93 814.87,-368.76 810,-384 795.53,-429.22 782.6,-438.49 748,-471 727.78,-490 720.99,-494.27 695,-504 634.59,-526.63 559.33,-534.64 515.18,-537.46\"/>\n",
       "<polygon fill=\"black\" stroke=\"black\" points=\"514.7,-533.98 504.92,-538.06 515.11,-540.97 514.7,-533.98\"/>\n",
       "<text text-anchor=\"middle\" x=\"824.5\" y=\"-362.3\" font-family=\"Times,serif\" font-size=\"14.00\">2.86</text>\n",
       "</g>\n",
       "<!-- S&#45;Speech&#45;&gt;GSI -->\n",
       "<g id=\"edge56\" class=\"edge\">\n",
       "<title>S&#45;Speech&#45;&gt;GSI</title>\n",
       "<path fill=\"none\" stroke=\"black\" d=\"M744.68,-173.61C743.09,-163.16 739.61,-150.15 732,-141 667.23,-63.12 543.75,-33.86 482.43,-23.79\"/>\n",
       "<polygon fill=\"black\" stroke=\"black\" points=\"482.85,-20.32 472.43,-22.23 481.77,-27.23 482.85,-20.32\"/>\n",
       "<text text-anchor=\"middle\" x=\"724.5\" y=\"-101.3\" font-family=\"Times,serif\" font-size=\"14.00\">4.96</text>\n",
       "</g>\n",
       "<!-- S&#45;Speech&#45;&gt;Music -->\n",
       "<g id=\"edge57\" class=\"edge\">\n",
       "<title>S&#45;Speech&#45;&gt;Music</title>\n",
       "<path fill=\"none\" stroke=\"black\" d=\"M711.62,-180.52C694.1,-174.51 672.8,-166.14 655,-156 645.65,-150.68 645.42,-146.2 636,-141 617.19,-130.63 594.73,-122.39 575.95,-116.52\"/>\n",
       "<polygon fill=\"black\" stroke=\"black\" points=\"576.82,-113.12 566.23,-113.58 574.79,-119.82 576.82,-113.12\"/>\n",
       "<text text-anchor=\"middle\" x=\"667.5\" y=\"-144.8\" font-family=\"Times,serif\" font-size=\"14.00\">7.99</text>\n",
       "</g>\n",
       "<!-- S&#45;Speech&#45;&gt;S&#45;Speech -->\n",
       "<g id=\"edge58\" class=\"edge\">\n",
       "<title>S&#45;Speech&#45;&gt;S&#45;Speech</title>\n",
       "<path fill=\"none\" stroke=\"black\" d=\"M785.78,-199.87C798.31,-199.75 808.2,-197.13 808.2,-192 808.2,-188.4 803.31,-186.03 796.05,-184.9\"/>\n",
       "<polygon fill=\"black\" stroke=\"black\" points=\"796.01,-181.39 785.78,-184.13 795.49,-188.37 796.01,-181.39\"/>\n",
       "<text text-anchor=\"middle\" x=\"820.7\" y=\"-188.3\" font-family=\"Times,serif\" font-size=\"14.00\">3.86</text>\n",
       "</g>\n",
       "<!-- S&#45;Speech&#45;&gt;GA -->\n",
       "<g id=\"edge52\" class=\"edge\">\n",
       "<title>S&#45;Speech&#45;&gt;GA</title>\n",
       "<path fill=\"none\" stroke=\"black\" d=\"M702.99,-196.79C657.98,-201.46 585.58,-210.94 525,-228 515.96,-230.54 468.21,-250.62 435.46,-264.55\"/>\n",
       "<polygon fill=\"black\" stroke=\"black\" points=\"434.08,-261.33 426.26,-268.47 436.83,-267.77 434.08,-261.33\"/>\n",
       "<text text-anchor=\"middle\" x=\"537.5\" y=\"-231.8\" font-family=\"Times,serif\" font-size=\"14.00\">1.13</text>\n",
       "</g>\n",
       "<!-- S&#45;Speech&#45;&gt;GF -->\n",
       "<g id=\"edge53\" class=\"edge\">\n",
       "<title>S&#45;Speech&#45;&gt;GF</title>\n",
       "<path fill=\"none\" stroke=\"black\" d=\"M718.49,-206.23C694.15,-217.46 657.4,-233.27 624,-243 580.64,-255.63 564.68,-241.39 524,-261 502.16,-271.53 502.64,-282.78 483,-297 459.6,-313.94 453.04,-317.49 427,-330 408.2,-339.03 386.42,-347.41 368.77,-353.7\"/>\n",
       "<polygon fill=\"black\" stroke=\"black\" points=\"367.19,-350.55 358.91,-357.15 369.5,-357.15 367.19,-350.55\"/>\n",
       "<text text-anchor=\"middle\" x=\"536.5\" y=\"-275.3\" font-family=\"Times,serif\" font-size=\"14.00\">1.76</text>\n",
       "</g>\n",
       "<!-- S&#45;Speech&#45;&gt;GOI -->\n",
       "<g id=\"edge54\" class=\"edge\">\n",
       "<title>S&#45;Speech&#45;&gt;GOI</title>\n",
       "<path fill=\"none\" stroke=\"black\" d=\"M751.27,-209.92C752.79,-215.61 754.24,-222.02 755,-228 755.84,-234.61 755.38,-236.34 755,-243 750.42,-322.97 762.87,-358.64 708,-417 698.06,-427.57 684.23,-435.41 671.49,-440.96\"/>\n",
       "<polygon fill=\"black\" stroke=\"black\" points=\"670.01,-437.79 662.04,-444.77 672.63,-444.28 670.01,-437.79\"/>\n",
       "<text text-anchor=\"middle\" x=\"764.5\" y=\"-318.8\" font-family=\"Times,serif\" font-size=\"14.00\">0.83</text>\n",
       "</g>\n",
       "<!-- GA&#45;&gt;AQ -->\n",
       "<g id=\"edge6\" class=\"edge\">\n",
       "<title>GA&#45;&gt;AQ</title>\n",
       "<path fill=\"none\" stroke=\"black\" d=\"M416.65,-295.05C420.79,-300.9 424.87,-307.89 427,-315 435.94,-344.9 433.17,-359.38 414,-384 384.08,-422.43 342.18,-393.31 317,-435 308.73,-448.7 310.74,-456.28 317,-471 344,-534.46 411.12,-584.52 449.64,-609.2\"/>\n",
       "<polygon fill=\"black\" stroke=\"black\" points=\"447.98,-612.29 458.31,-614.63 451.7,-606.36 447.98,-612.29\"/>\n",
       "<text text-anchor=\"middle\" x=\"329.5\" y=\"-449.3\" font-family=\"Times,serif\" font-size=\"14.00\">0.03</text>\n",
       "</g>\n",
       "<!-- GA&#45;&gt;GSI -->\n",
       "<g id=\"edge10\" class=\"edge\">\n",
       "<title>GA&#45;&gt;GSI</title>\n",
       "<path fill=\"none\" stroke=\"black\" d=\"M395.92,-261.69C382.21,-233.68 355.44,-177.37 351,-156 349.64,-149.47 349.8,-147.56 351,-141 358.46,-100.32 357.05,-85.37 384,-54 391.97,-44.72 403.05,-37.38 413.64,-31.87\"/>\n",
       "<polygon fill=\"black\" stroke=\"black\" points=\"415.24,-34.99 422.73,-27.5 412.2,-28.68 415.24,-34.99\"/>\n",
       "<text text-anchor=\"middle\" x=\"363.5\" y=\"-144.8\" font-family=\"Times,serif\" font-size=\"14.00\">0.19</text>\n",
       "</g>\n",
       "<!-- GA&#45;&gt;Music -->\n",
       "<g id=\"edge11\" class=\"edge\">\n",
       "<title>GA&#45;&gt;Music</title>\n",
       "<path fill=\"none\" stroke=\"black\" d=\"M416.34,-262.72C421.24,-256.61 426.91,-249.49 432,-243 462.68,-203.83 497.73,-157.84 518.58,-130.35\"/>\n",
       "<polygon fill=\"black\" stroke=\"black\" points=\"521.57,-132.2 524.82,-122.11 515.99,-127.97 521.57,-132.2\"/>\n",
       "<text text-anchor=\"middle\" x=\"496.5\" y=\"-188.3\" font-family=\"Times,serif\" font-size=\"14.00\">0.36</text>\n",
       "</g>\n",
       "<!-- GA&#45;&gt;S&#45;Speech -->\n",
       "<g id=\"edge12\" class=\"edge\">\n",
       "<title>GA&#45;&gt;S&#45;Speech</title>\n",
       "<path fill=\"none\" stroke=\"black\" d=\"M428.87,-271.82C485.69,-257.7 625.74,-222.89 699.25,-204.62\"/>\n",
       "<polygon fill=\"black\" stroke=\"black\" points=\"700.3,-207.96 709.16,-202.16 698.61,-201.17 700.3,-207.96\"/>\n",
       "<text text-anchor=\"middle\" x=\"607.5\" y=\"-231.8\" font-family=\"Times,serif\" font-size=\"14.00\">1.53</text>\n",
       "</g>\n",
       "<!-- GA&#45;&gt;GA -->\n",
       "<g id=\"edge7\" class=\"edge\">\n",
       "<title>GA&#45;&gt;GA</title>\n",
       "<path fill=\"none\" stroke=\"black\" d=\"M428.53,-286.75C439.51,-287.49 449,-284.91 449,-279 449,-275.03 444.72,-272.56 438.57,-271.59\"/>\n",
       "<polygon fill=\"black\" stroke=\"black\" points=\"438.65,-268.09 428.53,-271.25 438.41,-275.09 438.65,-268.09\"/>\n",
       "<text text-anchor=\"middle\" x=\"461.5\" y=\"-275.3\" font-family=\"Times,serif\" font-size=\"14.00\">0.19</text>\n",
       "</g>\n",
       "<!-- GA&#45;&gt;GF -->\n",
       "<g id=\"edge8\" class=\"edge\">\n",
       "<title>GA&#45;&gt;GF</title>\n",
       "<path fill=\"none\" stroke=\"black\" d=\"M387.53,-293.41C380.47,-299.59 372.4,-307.26 366,-315 359.76,-322.55 353.84,-331.46 348.89,-339.65\"/>\n",
       "<polygon fill=\"black\" stroke=\"black\" points=\"345.75,-338.09 343.73,-348.49 351.79,-341.61 345.75,-338.09\"/>\n",
       "<text text-anchor=\"middle\" x=\"378.5\" y=\"-318.8\" font-family=\"Times,serif\" font-size=\"14.00\">0.09</text>\n",
       "</g>\n",
       "<!-- GA&#45;&gt;GOI -->\n",
       "<g id=\"edge9\" class=\"edge\">\n",
       "<title>GA&#45;&gt;GOI</title>\n",
       "<path fill=\"none\" stroke=\"black\" d=\"M429.48,-285.18C475.89,-294.64 569.63,-313.86 571,-315 596.4,-336.22 584.51,-354.24 599,-384 606.19,-398.77 615.27,-414.73 622.86,-427.47\"/>\n",
       "<polygon fill=\"black\" stroke=\"black\" points=\"619.91,-429.36 628.07,-436.12 625.91,-425.75 619.91,-429.36\"/>\n",
       "<text text-anchor=\"middle\" x=\"611.5\" y=\"-362.3\" font-family=\"Times,serif\" font-size=\"14.00\">0.03</text>\n",
       "</g>\n",
       "<!-- GF&#45;&gt;AQ -->\n",
       "<g id=\"edge13\" class=\"edge\">\n",
       "<title>GF&#45;&gt;AQ</title>\n",
       "<path fill=\"none\" stroke=\"black\" d=\"M308.95,-371.13C273.65,-378.08 210.9,-395.44 175,-435 128.34,-486.41 130.1,-546.04 183,-591 221.03,-623.33 370.2,-626.78 440.7,-626.54\"/>\n",
       "<polygon fill=\"black\" stroke=\"black\" points=\"440.93,-630.04 450.91,-626.48 440.89,-623.04 440.93,-630.04\"/>\n",
       "<text text-anchor=\"middle\" x=\"157.5\" y=\"-492.8\" font-family=\"Times,serif\" font-size=\"14.00\">0.03</text>\n",
       "</g>\n",
       "<!-- GF&#45;&gt;GP -->\n",
       "<g id=\"edge16\" class=\"edge\">\n",
       "<title>GF&#45;&gt;GP</title>\n",
       "<path fill=\"none\" stroke=\"black\" d=\"M347.46,-381.98C372.45,-412.04 428.86,-479.89 458.68,-515.76\"/>\n",
       "<polygon fill=\"black\" stroke=\"black\" points=\"456.23,-518.28 465.31,-523.74 461.61,-513.81 456.23,-518.28\"/>\n",
       "<text text-anchor=\"middle\" x=\"432.5\" y=\"-449.3\" font-family=\"Times,serif\" font-size=\"14.00\">0.46</text>\n",
       "</g>\n",
       "<!-- GF&#45;&gt;GSI -->\n",
       "<g id=\"edge17\" class=\"edge\">\n",
       "<title>GF&#45;&gt;GSI</title>\n",
       "<path fill=\"none\" stroke=\"black\" d=\"M308.65,-361.97C284.33,-358.05 248.27,-349.27 223,-330 161.52,-283.11 125.59,-248.58 146,-174 162.36,-114.23 165.65,-88.69 217,-54 247.61,-33.33 352.16,-24.3 408.81,-20.85\"/>\n",
       "<polygon fill=\"black\" stroke=\"black\" points=\"409.35,-24.33 419.13,-20.25 408.95,-17.34 409.35,-24.33\"/>\n",
       "<text text-anchor=\"middle\" x=\"158.5\" y=\"-188.3\" font-family=\"Times,serif\" font-size=\"14.00\">0.33</text>\n",
       "</g>\n",
       "<!-- GF&#45;&gt;Music -->\n",
       "<g id=\"edge18\" class=\"edge\">\n",
       "<title>GF&#45;&gt;Music</title>\n",
       "<path fill=\"none\" stroke=\"black\" d=\"M324.92,-349.12C309.37,-322.41 283.54,-267.53 306,-228 310.66,-219.79 443.56,-145.23 452,-141 467.57,-133.21 485.31,-125.7 500.54,-119.65\"/>\n",
       "<polygon fill=\"black\" stroke=\"black\" points=\"502.1,-122.8 510.13,-115.9 499.55,-116.28 502.1,-122.8\"/>\n",
       "<text text-anchor=\"middle\" x=\"318.5\" y=\"-231.8\" font-family=\"Times,serif\" font-size=\"14.00\">2.93</text>\n",
       "</g>\n",
       "<!-- GF&#45;&gt;S&#45;Speech -->\n",
       "<g id=\"edge19\" class=\"edge\">\n",
       "<title>GF&#45;&gt;S&#45;Speech</title>\n",
       "<path fill=\"none\" stroke=\"black\" d=\"M361.67,-361.84C430.18,-353.36 610.5,-328.56 661,-297 692.07,-277.58 717.03,-242.82 731.66,-218.86\"/>\n",
       "<polygon fill=\"black\" stroke=\"black\" points=\"734.86,-220.34 736.94,-209.95 728.83,-216.78 734.86,-220.34\"/>\n",
       "<text text-anchor=\"middle\" x=\"712.5\" y=\"-275.3\" font-family=\"Times,serif\" font-size=\"14.00\">2.29</text>\n",
       "</g>\n",
       "<!-- GF&#45;&gt;GA -->\n",
       "<g id=\"edge14\" class=\"edge\">\n",
       "<title>GF&#45;&gt;GA</title>\n",
       "<path fill=\"none\" stroke=\"black\" d=\"M357.6,-355.82C369.19,-350.03 382.59,-341.46 391,-330 395.87,-323.36 398.92,-315.06 400.83,-307.14\"/>\n",
       "<polygon fill=\"black\" stroke=\"black\" points=\"404.31,-307.59 402.74,-297.11 397.43,-306.28 404.31,-307.59\"/>\n",
       "<text text-anchor=\"middle\" x=\"410.5\" y=\"-318.8\" font-family=\"Times,serif\" font-size=\"14.00\">0.06</text>\n",
       "</g>\n",
       "<!-- GF&#45;&gt;GF -->\n",
       "<g id=\"edge15\" class=\"edge\">\n",
       "<title>GF&#45;&gt;GF</title>\n",
       "<path fill=\"none\" stroke=\"black\" d=\"M359.53,-373.75C370.51,-374.49 380,-371.91 380,-366 380,-362.03 375.72,-359.56 369.57,-358.59\"/>\n",
       "<polygon fill=\"black\" stroke=\"black\" points=\"369.65,-355.09 359.53,-358.25 369.41,-362.09 369.65,-355.09\"/>\n",
       "<text text-anchor=\"middle\" x=\"392.5\" y=\"-362.3\" font-family=\"Times,serif\" font-size=\"14.00\">0.66</text>\n",
       "</g>\n",
       "<!-- GOI&#45;&gt;GP -->\n",
       "<g id=\"edge23\" class=\"edge\">\n",
       "<title>GOI&#45;&gt;GP</title>\n",
       "<path fill=\"none\" stroke=\"black\" d=\"M614.41,-462.09C596.79,-468.5 572.33,-478.14 552,-489 535.01,-498.07 517.08,-510.11 503.13,-520.1\"/>\n",
       "<polygon fill=\"black\" stroke=\"black\" points=\"501.03,-517.3 495,-526.02 505.15,-522.96 501.03,-517.3\"/>\n",
       "<text text-anchor=\"middle\" x=\"564.5\" y=\"-492.8\" font-family=\"Times,serif\" font-size=\"14.00\">0.06</text>\n",
       "</g>\n",
       "<!-- GOI&#45;&gt;GSI -->\n",
       "<g id=\"edge24\" class=\"edge\">\n",
       "<title>GOI&#45;&gt;GSI</title>\n",
       "<path fill=\"none\" stroke=\"black\" d=\"M665.05,-452.12C710.23,-450.69 800.13,-440.45 841,-384 918.92,-276.38 874.64,-201.36 807,-87 797.35,-70.69 796.68,-63 780,-54 729.46,-26.73 558.94,-20.71 483.01,-19.38\"/>\n",
       "<polygon fill=\"black\" stroke=\"black\" points=\"483,-15.88 472.94,-19.22 482.89,-22.87 483,-15.88\"/>\n",
       "<text text-anchor=\"middle\" x=\"891.5\" y=\"-231.8\" font-family=\"Times,serif\" font-size=\"14.00\">0.09</text>\n",
       "</g>\n",
       "<!-- GOI&#45;&gt;Music -->\n",
       "<g id=\"edge25\" class=\"edge\">\n",
       "<title>GOI&#45;&gt;Music</title>\n",
       "<path fill=\"none\" stroke=\"black\" d=\"M646.03,-435.66C648.45,-429.9 650.79,-423.3 652,-417 657.8,-386.89 657.7,-378.13 652,-348 647.48,-324.08 638.19,-320.55 632,-297 614.21,-229.28 651.36,-197.5 610,-141 601.8,-129.79 589.05,-122.02 576.49,-116.71\"/>\n",
       "<polygon fill=\"black\" stroke=\"black\" points=\"577.59,-113.38 567,-113.1 575.11,-119.93 577.59,-113.38\"/>\n",
       "<text text-anchor=\"middle\" x=\"644.5\" y=\"-275.3\" font-family=\"Times,serif\" font-size=\"14.00\">1.19</text>\n",
       "</g>\n",
       "<!-- GOI&#45;&gt;S&#45;Speech -->\n",
       "<g id=\"edge26\" class=\"edge\">\n",
       "<title>GOI&#45;&gt;S&#45;Speech</title>\n",
       "<path fill=\"none\" stroke=\"black\" d=\"M659.64,-441.93C670.18,-436.02 682.22,-427.62 690,-417 717.92,-378.88 702.7,-358.97 720,-315 723.27,-306.68 726.25,-305.51 729,-297 737.19,-271.68 741.56,-241.57 743.81,-220.28\"/>\n",
       "<polygon fill=\"black\" stroke=\"black\" points=\"747.29,-220.6 744.77,-210.31 740.33,-219.92 747.29,-220.6\"/>\n",
       "<text text-anchor=\"middle\" x=\"732.5\" y=\"-318.8\" font-family=\"Times,serif\" font-size=\"14.00\">0.83</text>\n",
       "</g>\n",
       "<!-- GOI&#45;&gt;GA -->\n",
       "<g id=\"edge20\" class=\"edge\">\n",
       "<title>GOI&#45;&gt;GA</title>\n",
       "<path fill=\"none\" stroke=\"black\" d=\"M621.85,-438.54C605.86,-425.06 580.81,-403.57 560,-384 528.64,-354.5 527.88,-338.8 492,-315 475.51,-304.06 455.07,-295.67 438.04,-289.85\"/>\n",
       "<polygon fill=\"black\" stroke=\"black\" points=\"439.06,-286.5 428.46,-286.72 436.88,-293.15 439.06,-286.5\"/>\n",
       "<text text-anchor=\"middle\" x=\"572.5\" y=\"-362.3\" font-family=\"Times,serif\" font-size=\"14.00\">0.03</text>\n",
       "</g>\n",
       "<!-- GOI&#45;&gt;GF -->\n",
       "<g id=\"edge21\" class=\"edge\">\n",
       "<title>GOI&#45;&gt;GF</title>\n",
       "<path fill=\"none\" stroke=\"black\" d=\"M611.21,-450.15C571.12,-446.8 493.54,-437.99 431,-417 406.77,-408.87 381.18,-395.26 362.53,-384.29\"/>\n",
       "<polygon fill=\"black\" stroke=\"black\" points=\"364.08,-381.14 353.7,-379 360.48,-387.15 364.08,-381.14\"/>\n",
       "<text text-anchor=\"middle\" x=\"443.5\" y=\"-405.8\" font-family=\"Times,serif\" font-size=\"14.00\">0.03</text>\n",
       "</g>\n",
       "<!-- GOI&#45;&gt;GOI -->\n",
       "<g id=\"edge22\" class=\"edge\">\n",
       "<title>GOI&#45;&gt;GOI</title>\n",
       "<path fill=\"none\" stroke=\"black\" d=\"M662.53,-460.75C673.51,-461.49 683,-458.91 683,-453 683,-449.03 678.72,-446.56 672.57,-445.59\"/>\n",
       "<polygon fill=\"black\" stroke=\"black\" points=\"672.65,-442.09 662.53,-445.25 672.41,-449.09 672.65,-442.09\"/>\n",
       "<text text-anchor=\"middle\" x=\"695.5\" y=\"-449.3\" font-family=\"Times,serif\" font-size=\"14.00\">0.19</text>\n",
       "</g>\n",
       "</g>\n",
       "</svg>\n"
      ],
      "text/plain": [
       "<graphviz.graphs.Digraph at 0x131195010>"
      ]
     },
     "execution_count": 121,
     "metadata": {},
     "output_type": "execute_result"
    }
   ],
   "source": [
    "#参考：https://japbros-poco.main.jp/archives/5918\n",
    "from graphviz import Digraph\n",
    "\n",
    "G = Digraph(format=\"png\")\n",
    "G.attr(\"node\")#, shape=\"circle\"\n",
    "\n",
    "#ファイル読み込み：名前を確認すること\n",
    "with open(\"bigram_icl_後期レッスン.csv\") as f:\n",
    "    adj = [[j.replace(\"\\n\",\"\") for j in i.split(\",\")[1:]] for i in f.readlines()]\n",
    "\n",
    "\n",
    "edges = {((node,adj[0][c])): int(j) for i,node in enumerate(adj[0]) for c,j in enumerate(adj[i+1]) if int(j) != 0}\n",
    "edge_labels = list(edges.values())\n",
    "for i,j in edges:\n",
    "    G.edge(str(i), str(j), label=str(edges[(i,j)]/sum(edge_labels)*100)[:4]) #最後の数字、max(edge_labels))[:4]\n",
    "\n",
    "#出力：名前を確認すること\n",
    "G.render(\"./graphviz/有向グラフ(ICL)_後期レッスン\")\n",
    "G"
   ]
  },
  {
   "cell_type": "markdown",
   "id": "f6505cbe",
   "metadata": {},
   "source": [
    "# 有向グラフの作成２-networkx"
   ]
  },
  {
   "cell_type": "code",
   "execution_count": 1,
   "id": "c2d2f7b0",
   "metadata": {
    "scrolled": true
   },
   "outputs": [
    {
     "name": "stdout",
     "output_type": "stream",
     "text": [
      "Requirement already satisfied: japanize_matplotlib in /Users/iinonami/anaconda3/lib/python3.11/site-packages (1.1.3)\n",
      "Requirement already satisfied: matplotlib in /Users/iinonami/anaconda3/lib/python3.11/site-packages (from japanize_matplotlib) (3.7.2)\n",
      "Requirement already satisfied: contourpy>=1.0.1 in /Users/iinonami/anaconda3/lib/python3.11/site-packages (from matplotlib->japanize_matplotlib) (1.0.5)\n",
      "Requirement already satisfied: cycler>=0.10 in /Users/iinonami/anaconda3/lib/python3.11/site-packages (from matplotlib->japanize_matplotlib) (0.11.0)\n",
      "Requirement already satisfied: fonttools>=4.22.0 in /Users/iinonami/anaconda3/lib/python3.11/site-packages (from matplotlib->japanize_matplotlib) (4.25.0)\n",
      "Requirement already satisfied: kiwisolver>=1.0.1 in /Users/iinonami/anaconda3/lib/python3.11/site-packages (from matplotlib->japanize_matplotlib) (1.4.4)\n",
      "Requirement already satisfied: numpy>=1.20 in /Users/iinonami/anaconda3/lib/python3.11/site-packages (from matplotlib->japanize_matplotlib) (1.24.3)\n",
      "Requirement already satisfied: packaging>=20.0 in /Users/iinonami/anaconda3/lib/python3.11/site-packages (from matplotlib->japanize_matplotlib) (23.1)\n",
      "Requirement already satisfied: pillow>=6.2.0 in /Users/iinonami/anaconda3/lib/python3.11/site-packages (from matplotlib->japanize_matplotlib) (10.0.1)\n",
      "Requirement already satisfied: pyparsing<3.1,>=2.3.1 in /Users/iinonami/anaconda3/lib/python3.11/site-packages (from matplotlib->japanize_matplotlib) (3.0.9)\n",
      "Requirement already satisfied: python-dateutil>=2.7 in /Users/iinonami/anaconda3/lib/python3.11/site-packages (from matplotlib->japanize_matplotlib) (2.8.2)\n",
      "Requirement already satisfied: six>=1.5 in /Users/iinonami/anaconda3/lib/python3.11/site-packages (from python-dateutil>=2.7->matplotlib->japanize_matplotlib) (1.16.0)\n"
     ]
    }
   ],
   "source": [
    "!pip install japanize_matplotlib"
   ]
  },
  {
   "cell_type": "code",
   "execution_count": 3,
   "id": "9b1d5a82",
   "metadata": {
    "scrolled": true
   },
   "outputs": [
    {
     "data": {
      "text/html": [
       "<div>\n",
       "<style scoped>\n",
       "    .dataframe tbody tr th:only-of-type {\n",
       "        vertical-align: middle;\n",
       "    }\n",
       "\n",
       "    .dataframe tbody tr th {\n",
       "        vertical-align: top;\n",
       "    }\n",
       "\n",
       "    .dataframe thead th {\n",
       "        text-align: right;\n",
       "    }\n",
       "</style>\n",
       "<table border=\"1\" class=\"dataframe\">\n",
       "  <thead>\n",
       "    <tr style=\"text-align: right;\">\n",
       "      <th></th>\n",
       "      <th>Unnamed: 0</th>\n",
       "      <th>Source</th>\n",
       "      <th>Target</th>\n",
       "      <th>Ratio</th>\n",
       "    </tr>\n",
       "  </thead>\n",
       "  <tbody>\n",
       "    <tr>\n",
       "      <th>0</th>\n",
       "      <td>1</td>\n",
       "      <td>expression</td>\n",
       "      <td>expression</td>\n",
       "      <td>8.43</td>\n",
       "    </tr>\n",
       "    <tr>\n",
       "      <th>1</th>\n",
       "      <td>2</td>\n",
       "      <td>technique</td>\n",
       "      <td>S-Speech</td>\n",
       "      <td>8.32</td>\n",
       "    </tr>\n",
       "    <tr>\n",
       "      <th>2</th>\n",
       "      <td>3</td>\n",
       "      <td>S-Speech</td>\n",
       "      <td>technique</td>\n",
       "      <td>8.01</td>\n",
       "    </tr>\n",
       "    <tr>\n",
       "      <th>3</th>\n",
       "      <td>4</td>\n",
       "      <td>technique</td>\n",
       "      <td>technique</td>\n",
       "      <td>7.80</td>\n",
       "    </tr>\n",
       "    <tr>\n",
       "      <th>4</th>\n",
       "      <td>5</td>\n",
       "      <td>S-Speech</td>\n",
       "      <td>Music</td>\n",
       "      <td>6.74</td>\n",
       "    </tr>\n",
       "    <tr>\n",
       "      <th>5</th>\n",
       "      <td>6</td>\n",
       "      <td>Music</td>\n",
       "      <td>S-Speech</td>\n",
       "      <td>5.37</td>\n",
       "    </tr>\n",
       "    <tr>\n",
       "      <th>6</th>\n",
       "      <td>7</td>\n",
       "      <td>Music</td>\n",
       "      <td>technique</td>\n",
       "      <td>5.27</td>\n",
       "    </tr>\n",
       "    <tr>\n",
       "      <th>7</th>\n",
       "      <td>8</td>\n",
       "      <td>Music</td>\n",
       "      <td>expression</td>\n",
       "      <td>5.16</td>\n",
       "    </tr>\n",
       "    <tr>\n",
       "      <th>8</th>\n",
       "      <td>9</td>\n",
       "      <td>technique</td>\n",
       "      <td>Music</td>\n",
       "      <td>4.95</td>\n",
       "    </tr>\n",
       "    <tr>\n",
       "      <th>9</th>\n",
       "      <td>10</td>\n",
       "      <td>Music</td>\n",
       "      <td>Music</td>\n",
       "      <td>4.21</td>\n",
       "    </tr>\n",
       "    <tr>\n",
       "      <th>10</th>\n",
       "      <td>11</td>\n",
       "      <td>expression</td>\n",
       "      <td>Music</td>\n",
       "      <td>4.11</td>\n",
       "    </tr>\n",
       "    <tr>\n",
       "      <th>11</th>\n",
       "      <td>12</td>\n",
       "      <td>expression</td>\n",
       "      <td>S-Speech</td>\n",
       "      <td>4.11</td>\n",
       "    </tr>\n",
       "    <tr>\n",
       "      <th>12</th>\n",
       "      <td>13</td>\n",
       "      <td>S-Speech</td>\n",
       "      <td>S-Speech</td>\n",
       "      <td>3.58</td>\n",
       "    </tr>\n",
       "    <tr>\n",
       "      <th>13</th>\n",
       "      <td>14</td>\n",
       "      <td>other</td>\n",
       "      <td>S-Speech</td>\n",
       "      <td>3.58</td>\n",
       "    </tr>\n",
       "    <tr>\n",
       "      <th>14</th>\n",
       "      <td>15</td>\n",
       "      <td>S-Speech</td>\n",
       "      <td>expression</td>\n",
       "      <td>3.27</td>\n",
       "    </tr>\n",
       "    <tr>\n",
       "      <th>15</th>\n",
       "      <td>16</td>\n",
       "      <td>Music</td>\n",
       "      <td>other</td>\n",
       "      <td>2.85</td>\n",
       "    </tr>\n",
       "    <tr>\n",
       "      <th>16</th>\n",
       "      <td>17</td>\n",
       "      <td>S-Speech</td>\n",
       "      <td>other</td>\n",
       "      <td>2.85</td>\n",
       "    </tr>\n",
       "    <tr>\n",
       "      <th>17</th>\n",
       "      <td>18</td>\n",
       "      <td>other</td>\n",
       "      <td>Music</td>\n",
       "      <td>2.11</td>\n",
       "    </tr>\n",
       "    <tr>\n",
       "      <th>18</th>\n",
       "      <td>19</td>\n",
       "      <td>technique</td>\n",
       "      <td>expression</td>\n",
       "      <td>1.48</td>\n",
       "    </tr>\n",
       "    <tr>\n",
       "      <th>19</th>\n",
       "      <td>20</td>\n",
       "      <td>expression</td>\n",
       "      <td>technique</td>\n",
       "      <td>1.37</td>\n",
       "    </tr>\n",
       "    <tr>\n",
       "      <th>20</th>\n",
       "      <td>21</td>\n",
       "      <td>other</td>\n",
       "      <td>other</td>\n",
       "      <td>1.37</td>\n",
       "    </tr>\n",
       "    <tr>\n",
       "      <th>21</th>\n",
       "      <td>22</td>\n",
       "      <td>S-Speech</td>\n",
       "      <td>piece</td>\n",
       "      <td>1.16</td>\n",
       "    </tr>\n",
       "    <tr>\n",
       "      <th>22</th>\n",
       "      <td>23</td>\n",
       "      <td>piece</td>\n",
       "      <td>S-Speech</td>\n",
       "      <td>0.84</td>\n",
       "    </tr>\n",
       "    <tr>\n",
       "      <th>23</th>\n",
       "      <td>24</td>\n",
       "      <td>other</td>\n",
       "      <td>technique</td>\n",
       "      <td>0.63</td>\n",
       "    </tr>\n",
       "    <tr>\n",
       "      <th>24</th>\n",
       "      <td>25</td>\n",
       "      <td>expression</td>\n",
       "      <td>other</td>\n",
       "      <td>0.53</td>\n",
       "    </tr>\n",
       "    <tr>\n",
       "      <th>25</th>\n",
       "      <td>26</td>\n",
       "      <td>piece</td>\n",
       "      <td>Music</td>\n",
       "      <td>0.42</td>\n",
       "    </tr>\n",
       "    <tr>\n",
       "      <th>26</th>\n",
       "      <td>27</td>\n",
       "      <td>piece</td>\n",
       "      <td>piece</td>\n",
       "      <td>0.42</td>\n",
       "    </tr>\n",
       "    <tr>\n",
       "      <th>27</th>\n",
       "      <td>28</td>\n",
       "      <td>other</td>\n",
       "      <td>expression</td>\n",
       "      <td>0.32</td>\n",
       "    </tr>\n",
       "    <tr>\n",
       "      <th>28</th>\n",
       "      <td>29</td>\n",
       "      <td>technique</td>\n",
       "      <td>other</td>\n",
       "      <td>0.21</td>\n",
       "    </tr>\n",
       "    <tr>\n",
       "      <th>29</th>\n",
       "      <td>30</td>\n",
       "      <td>piece</td>\n",
       "      <td>expression</td>\n",
       "      <td>0.21</td>\n",
       "    </tr>\n",
       "    <tr>\n",
       "      <th>30</th>\n",
       "      <td>31</td>\n",
       "      <td>Music</td>\n",
       "      <td>piece</td>\n",
       "      <td>0.21</td>\n",
       "    </tr>\n",
       "    <tr>\n",
       "      <th>31</th>\n",
       "      <td>32</td>\n",
       "      <td>expression</td>\n",
       "      <td>piece</td>\n",
       "      <td>0.11</td>\n",
       "    </tr>\n",
       "  </tbody>\n",
       "</table>\n",
       "</div>"
      ],
      "text/plain": [
       "    Unnamed: 0      Source      Target  Ratio\n",
       "0            1  expression  expression   8.43\n",
       "1            2   technique    S-Speech   8.32\n",
       "2            3    S-Speech   technique   8.01\n",
       "3            4   technique   technique   7.80\n",
       "4            5    S-Speech       Music   6.74\n",
       "5            6       Music    S-Speech   5.37\n",
       "6            7       Music   technique   5.27\n",
       "7            8       Music  expression   5.16\n",
       "8            9   technique       Music   4.95\n",
       "9           10       Music       Music   4.21\n",
       "10          11  expression       Music   4.11\n",
       "11          12  expression    S-Speech   4.11\n",
       "12          13    S-Speech    S-Speech   3.58\n",
       "13          14       other    S-Speech   3.58\n",
       "14          15    S-Speech  expression   3.27\n",
       "15          16       Music       other   2.85\n",
       "16          17    S-Speech       other   2.85\n",
       "17          18       other       Music   2.11\n",
       "18          19   technique  expression   1.48\n",
       "19          20  expression   technique   1.37\n",
       "20          21       other       other   1.37\n",
       "21          22    S-Speech       piece   1.16\n",
       "22          23       piece    S-Speech   0.84\n",
       "23          24       other   technique   0.63\n",
       "24          25  expression       other   0.53\n",
       "25          26       piece       Music   0.42\n",
       "26          27       piece       piece   0.42\n",
       "27          28       other  expression   0.32\n",
       "28          29   technique       other   0.21\n",
       "29          30       piece  expression   0.21\n",
       "30          31       Music       piece   0.21\n",
       "31          32  expression       piece   0.11"
      ]
     },
     "execution_count": 3,
     "metadata": {},
     "output_type": "execute_result"
    }
   ],
   "source": [
    "#ファイル読み込み\n",
    "import pandas as pd\n",
    "d1 = pd.read_csv('co-occurrence_itl_initial.csv', encoding='shift-jis')\n",
    "d1"
   ]
  },
  {
   "cell_type": "code",
   "execution_count": 24,
   "id": "bf92f088",
   "metadata": {},
   "outputs": [
    {
     "data": {
      "image/png": "[encoded data removed]",
      "text/plain": [
       "<Figure size 640x480 with 1 Axes>"
      ]
     },
     "metadata": {},
     "output_type": "display_data"
    }
   ],
   "source": [
    "import networkx as nx\n",
    "import matplotlib.pyplot as plt\n",
    "import japanize_matplotlib\n",
    "import numpy as np\n",
    "\n",
    "def make_graph(G, nodes, edges, pos, node=True, label=True, edge=True, edge_label=True):\n",
    "    # nodeデータの追加\n",
    "    G.add_nodes_from(nodes)\n",
    " \n",
    "    # edgeデータの追加\n",
    "    G.add_weighted_edges_from(edges)\n",
    "    weight=nx.get_edge_attributes(G,'weight')#双方向それぞれの値にする（重み付けしない）\n",
    "   \n",
    "    if not isinstance(pos, dict):\n",
    "        pos = pos(G)\n",
    "    \n",
    "    # ネットワークの可視化\n",
    "    nx.draw(G, pos=pos)\n",
    "    if node:\n",
    "        nx.draw_networkx_nodes(G, pos=pos, node_size=550, node_shape='o', #alpha=0.5,\n",
    "                               node_color='lightblue', linewidths=20)\n",
    "    if label:\n",
    "        nx.draw_networkx_labels(G, pos=pos, font_size=10, font_family='Times')\n",
    "                                #font_color='black')\n",
    "    if edge:\n",
    "        nx.draw_networkx_edges(G, pos=pos, width=list(weight.values()), alpha=0.2)#,\n",
    "                               #connectionstyle=\"arc3,rad=0.2\")#connectionstyle:エッジにカーブをつける\n",
    "    if edge_label:\n",
    "        nx.draw_networkx_edge_labels(G, pos=pos, edge_labels=weight,\n",
    "                                     label_pos=0.2, font_size=7) #エッジのラベルを描画\n",
    "\n",
    "G1 = nx.DiGraph()\n",
    "nodes = np.unique([d1.Source]+[d1.Target])\n",
    "edges = [(d1.loc[i, 'Source'], d1.loc[i, 'Target'], d1.loc[i, 'Ratio']) for i in range(len(d1))]\n",
    "\n",
    "\n",
    "make_graph(G1, nodes, edges, pos=nx.circular_layout)\n",
    "\n",
    "#出力先を変更する\n",
    "#nx.draw(G)\n",
    "plt.savefig(\"./networkx/itl_initial.png\")"
   ]
  },
  {
   "cell_type": "code",
   "execution_count": 202,
   "id": "b52977d8",
   "metadata": {},
   "outputs": [
    {
     "data": {
      "image/png": "[encoded data removed]",
      "text/plain": [
       "<Figure size 640x480 with 1 Axes>"
      ]
     },
     "metadata": {},
     "output_type": "display_data"
    }
   ],
   "source": [
    "#エッジに重みをつけた場合\n",
    "\n",
    "styles = {'node_size':2000,\n",
    "          'font_size':12,\n",
    "          'node_color':'lightblue',\n",
    "          'with_labels':True,\n",
    "          #'font_weight':'bold',\n",
    "          'font_family':'Times',\n",
    "          'width':0.3\n",
    "         }#edgeの太さ\n",
    "\n",
    "def make_graph(G, nodes, edges, pos, styles=styles, label=True):\n",
    "    # nodeデータの追加\n",
    "    G.add_nodes_from(nodes)\n",
    " \n",
    "    # edgeデータの追加\n",
    "    G.add_weighted_edges_from(edges)\n",
    "    edge_labels = {(i, j): w['weight'] for i, j, w in G.edges(data=True)}\n",
    "    #edge_labels = {(i, j):(d1.loc[i, 'Source'], d1.loc[i, 'Target'])}\n",
    "   \n",
    "    if not isinstance(pos, dict):\n",
    "        pos = pos(G)\n",
    "    \n",
    "    # ネットワークの可視化\n",
    "    nx.draw(G, pos=pos, **styles)\n",
    "    if label:\n",
    "        nx.draw_networkx_edge_labels(G1, pos=pos, edge_labels=edge_labels) #エッジのラベルを描画\n",
    "\n",
    "import networkx as nx\n",
    "import matplotlib.pyplot as plt\n",
    "import japanize_matplotlib\n",
    "import numpy as np\n",
    "\n",
    "G1 = nx.DiGraph()\n",
    "nodes = np.unique([d1.Source]+[d1.Target])\n",
    "edges = [(d1.loc[i, 'Source'], d1.loc[i, 'Target'], d1.loc[i, 'Ratio']) for i in range(len(d1))]\n",
    "\n",
    "make_graph(G1, nodes, edges, pos=nx.circular_layout)"
   ]
  },
  {
   "cell_type": "code",
   "execution_count": null,
   "id": "b4b866f6",
   "metadata": {},
   "outputs": [],
   "source": []
  }
 ],
 "metadata": {
  "kernelspec": {
   "display_name": "Python 3 (ipykernel)",
   "language": "python",
   "name": "python3"
  },
  "language_info": {
   "codemirror_mode": {
    "name": "ipython",
    "version": 3
   },
   "file_extension": ".py",
   "mimetype": "text/x-python",
   "name": "python",
   "nbconvert_exporter": "python",
   "pygments_lexer": "ipython3",
   "version": "3.11.5"
  }
 },
 "nbformat": 4,
 "nbformat_minor": 5
}
