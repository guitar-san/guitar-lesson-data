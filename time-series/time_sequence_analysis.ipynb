{
 "cells": [
  {
   "cell_type": "code",
   "execution_count": 2,
   "metadata": {
    "scrolled": true
   },
   "outputs": [
    {
     "name": "stderr",
     "output_type": "stream",
     "text": [
      "/Users/ni/opt/anaconda3/lib/python3.9/site-packages/openpyxl/worksheet/_read_only.py:79: UserWarning:\n",
      "\n",
      "Data Validation extension is not supported and will be removed\n",
      "\n"
     ]
    },
    {
     "data": {
      "application/vnd.plotly.v1+json": {
       "config": {
        "plotlyServerURL": "https://plot.ly"
       },
       "data": [
        {
         "alignmentgroup": "True",
         "base": [
          "2018-07-19T00:00:00",
          "2018-07-19T00:01:08",
          "2018-07-19T00:01:45",
          "2018-07-19T00:02:47",
          "2018-07-19T00:02:59",
          "2018-07-19T00:04:09",
          "2018-07-19T00:05:38",
          "2018-07-19T00:06:31",
          "2018-07-19T00:07:43",
          "2018-07-19T00:09:09",
          "2018-07-19T00:10:31",
          "2018-07-19T00:11:11",
          "2018-07-19T00:11:25",
          "2018-07-19T00:11:30",
          "2018-07-19T00:11:43",
          "2018-07-19T00:12:10",
          "2018-07-19T00:13:07",
          "2018-07-19T00:13:37",
          "2018-07-19T00:14:49",
          "2018-07-19T00:15:59",
          "2018-07-19T00:16:15",
          "2018-07-19T00:16:32",
          "2018-07-19T00:17:03",
          "2018-07-19T00:17:11",
          "2018-07-19T00:17:55",
          "2018-07-19T00:18:05",
          "2018-07-19T00:18:13",
          "2018-07-19T00:18:25",
          "2018-07-19T00:18:49",
          "2018-07-19T00:19:06",
          "2018-07-19T00:19:39",
          "2018-07-19T00:20:43",
          "2018-07-19T00:20:59",
          "2018-07-19T00:21:14",
          "2018-07-19T00:21:23"
         ],
         "hovertemplate": "Speaker=%{y}<br>start=%{base}<br>end=%{x}<extra></extra>",
         "legendgroup": "Music",
         "marker": {
          "color": "blue",
          "pattern": {
           "shape": ""
          }
         },
         "name": "Music",
         "offsetgroup": "Music",
         "orientation": "h",
         "showlegend": false,
         "textposition": "inside",
         "type": "bar",
         "x": [
          44000,
          24000,
          46000,
          3000,
          67000,
          87000,
          39000,
          66000,
          71000,
          78000,
          35000,
          7000,
          4000,
          6000,
          5000,
          50000,
          28000,
          66000,
          67000,
          11000,
          14000,
          29000,
          5000,
          41000,
          4000,
          4000,
          5000,
          3000,
          10000,
          10000,
          61000,
          9000,
          9000,
          7000,
          34000
         ],
         "xaxis": "x",
         "y": [
          "Music",
          "Music",
          "Music",
          "Music",
          "Music",
          "Music",
          "Music",
          "Music",
          "Music",
          "Music",
          "Music",
          "Music",
          "Music",
          "Music",
          "Music",
          "Music",
          "Music",
          "Music",
          "Music",
          "Music",
          "Music",
          "Music",
          "Music",
          "Music",
          "Music",
          "Music",
          "Music",
          "Music",
          "Music",
          "Music",
          "Music",
          "Music",
          "Music",
          "Music",
          "Music"
         ],
         "yaxis": "y"
        },
        {
         "alignmentgroup": "True",
         "base": [
          "2018-07-19T00:00:10",
          "2018-07-19T00:00:17",
          "2018-07-19T00:00:22",
          "2018-07-19T00:00:24",
          "2018-07-19T00:00:30",
          "2018-07-19T00:00:34",
          "2018-07-19T00:00:40",
          "2018-07-19T00:00:48",
          "2018-07-19T00:00:51",
          "2018-07-19T00:00:58",
          "2018-07-19T00:01:05",
          "2018-07-19T00:01:18",
          "2018-07-19T00:01:29",
          "2018-07-19T00:01:33",
          "2018-07-19T00:01:38",
          "2018-07-19T00:01:43",
          "2018-07-19T00:01:56",
          "2018-07-19T00:02:12",
          "2018-07-19T00:02:26",
          "2018-07-19T00:02:33",
          "2018-07-19T00:02:46",
          "2018-07-19T00:02:52",
          "2018-07-19T00:03:13",
          "2018-07-19T00:03:19",
          "2018-07-19T00:03:23",
          "2018-07-19T00:03:28",
          "2018-07-19T00:03:38",
          "2018-07-19T00:03:47",
          "2018-07-19T00:03:53",
          "2018-07-19T00:03:59",
          "2018-07-19T00:04:31",
          "2018-07-19T00:04:52",
          "2018-07-19T00:05:15",
          "2018-07-19T00:05:34",
          "2018-07-19T00:05:51",
          "2018-07-19T00:06:03",
          "2018-07-19T00:06:16",
          "2018-07-19T00:06:27",
          "2018-07-19T00:06:36",
          "2018-07-19T00:07:25",
          "2018-07-19T00:07:36",
          "2018-07-19T00:08:19",
          "2018-07-19T00:08:34",
          "2018-07-19T00:08:51",
          "2018-07-19T00:09:00",
          "2018-07-19T00:09:27",
          "2018-07-19T00:09:46",
          "2018-07-19T00:10:02",
          "2018-07-19T00:10:24",
          "2018-07-19T00:10:44",
          "2018-07-19T00:10:53",
          "2018-07-19T00:11:07",
          "2018-07-19T00:11:15",
          "2018-07-19T00:11:29",
          "2018-07-19T00:11:41",
          "2018-07-19T00:11:47",
          "2018-07-19T00:11:50",
          "2018-07-19T00:12:04",
          "2018-07-19T00:12:05",
          "2018-07-19T00:12:20",
          "2018-07-19T00:12:52",
          "2018-07-19T00:12:58",
          "2018-07-19T00:13:06",
          "2018-07-19T00:13:23",
          "2018-07-19T00:13:34",
          "2018-07-19T00:13:40",
          "2018-07-19T00:13:48",
          "2018-07-19T00:13:51",
          "2018-07-19T00:14:01",
          "2018-07-19T00:14:12",
          "2018-07-19T00:14:21",
          "2018-07-19T00:14:33",
          "2018-07-19T00:14:43",
          "2018-07-19T00:14:48",
          "2018-07-19T00:15:01",
          "2018-07-19T00:15:12",
          "2018-07-19T00:15:49",
          "2018-07-19T00:15:54",
          "2018-07-19T00:16:00",
          "2018-07-19T00:16:06",
          "2018-07-19T00:16:11",
          "2018-07-19T00:16:20",
          "2018-07-19T00:16:25",
          "2018-07-19T00:16:31",
          "2018-07-19T00:16:49",
          "2018-07-19T00:16:55",
          "2018-07-19T00:16:59",
          "2018-07-19T00:17:06",
          "2018-07-19T00:17:11",
          "2018-07-19T00:17:13",
          "2018-07-19T00:17:23",
          "2018-07-19T00:17:30",
          "2018-07-19T00:17:37",
          "2018-07-19T00:17:46",
          "2018-07-19T00:18:08",
          "2018-07-19T00:18:17",
          "2018-07-19T00:18:45",
          "2018-07-19T00:19:07",
          "2018-07-19T00:19:18",
          "2018-07-19T00:19:20",
          "2018-07-19T00:19:29",
          "2018-07-19T00:19:39",
          "2018-07-19T00:19:55",
          "2018-07-19T00:20:30",
          "2018-07-19T00:20:39",
          "2018-07-19T00:20:48",
          "2018-07-19T00:20:51",
          "2018-07-19T00:21:06",
          "2018-07-19T00:21:18",
          "2018-07-19T00:21:58"
         ],
         "hovertemplate": "Speaker=%{y}<br>start=%{base}<br>end=%{x}<extra></extra>",
         "legendgroup": "T-Speech",
         "marker": {
          "color": "limegreen",
          "pattern": {
           "shape": ""
          }
         },
         "name": "T-Speech",
         "offsetgroup": "T-Speech",
         "orientation": "h",
         "showlegend": false,
         "textposition": "inside",
         "type": "bar",
         "x": [
          5000,
          3000,
          1000,
          3000,
          3000,
          4000,
          7000,
          1000,
          4000,
          6000,
          1000,
          6000,
          1000,
          2000,
          3000,
          2000,
          2000,
          2000,
          6000,
          9000,
          3000,
          8000,
          1000,
          3000,
          2000,
          2000,
          7000,
          1000,
          1000,
          3000,
          2000,
          2000,
          3000,
          6000,
          5000,
          15000,
          3000,
          3000,
          2000,
          2000,
          4000,
          6000,
          4000,
          5000,
          12000,
          7000,
          2000,
          3000,
          16000,
          2000,
          4000,
          7000,
          11000,
          10000,
          4000,
          2000,
          8000,
          2000,
          5000,
          4000,
          4000,
          2000,
          3000,
          2000,
          6000,
          1000,
          2000,
          5000,
          4000,
          3000,
          2000,
          2000,
          4000,
          9000,
          3000,
          1000,
          3000,
          3000,
          3000,
          2000,
          4000,
          3000,
          1000,
          1000,
          3000,
          2000,
          2000,
          2000,
          1000,
          4000,
          5000,
          3000,
          5000,
          13000,
          3000,
          8000,
          19000,
          8000,
          2000,
          3000,
          5000,
          2000,
          1000,
          2000,
          5000,
          2000,
          8000,
          9000,
          3000,
          4000
         ],
         "xaxis": "x",
         "y": [
          "T-Speech",
          "T-Speech",
          "T-Speech",
          "T-Speech",
          "T-Speech",
          "T-Speech",
          "T-Speech",
          "T-Speech",
          "T-Speech",
          "T-Speech",
          "T-Speech",
          "T-Speech",
          "T-Speech",
          "T-Speech",
          "T-Speech",
          "T-Speech",
          "T-Speech",
          "T-Speech",
          "T-Speech",
          "T-Speech",
          "T-Speech",
          "T-Speech",
          "T-Speech",
          "T-Speech",
          "T-Speech",
          "T-Speech",
          "T-Speech",
          "T-Speech",
          "T-Speech",
          "T-Speech",
          "T-Speech",
          "T-Speech",
          "T-Speech",
          "T-Speech",
          "T-Speech",
          "T-Speech",
          "T-Speech",
          "T-Speech",
          "T-Speech",
          "T-Speech",
          "T-Speech",
          "T-Speech",
          "T-Speech",
          "T-Speech",
          "T-Speech",
          "T-Speech",
          "T-Speech",
          "T-Speech",
          "T-Speech",
          "T-Speech",
          "T-Speech",
          "T-Speech",
          "T-Speech",
          "T-Speech",
          "T-Speech",
          "T-Speech",
          "T-Speech",
          "T-Speech",
          "T-Speech",
          "T-Speech",
          "T-Speech",
          "T-Speech",
          "T-Speech",
          "T-Speech",
          "T-Speech",
          "T-Speech",
          "T-Speech",
          "T-Speech",
          "T-Speech",
          "T-Speech",
          "T-Speech",
          "T-Speech",
          "T-Speech",
          "T-Speech",
          "T-Speech",
          "T-Speech",
          "T-Speech",
          "T-Speech",
          "T-Speech",
          "T-Speech",
          "T-Speech",
          "T-Speech",
          "T-Speech",
          "T-Speech",
          "T-Speech",
          "T-Speech",
          "T-Speech",
          "T-Speech",
          "T-Speech",
          "T-Speech",
          "T-Speech",
          "T-Speech",
          "T-Speech",
          "T-Speech",
          "T-Speech",
          "T-Speech",
          "T-Speech",
          "T-Speech",
          "T-Speech",
          "T-Speech",
          "T-Speech",
          "T-Speech",
          "T-Speech",
          "T-Speech",
          "T-Speech",
          "T-Speech",
          "T-Speech",
          "T-Speech",
          "T-Speech",
          "T-Speech"
         ],
         "yaxis": "y"
        },
        {
         "alignmentgroup": "True",
         "base": [
          "2018-07-19T00:00:25",
          "2018-07-19T00:00:43",
          "2018-07-19T00:00:54",
          "2018-07-19T00:01:00",
          "2018-07-19T00:01:03",
          "2018-07-19T00:01:23",
          "2018-07-19T00:01:39",
          "2018-07-19T00:01:57",
          "2018-07-19T00:02:23",
          "2018-07-19T00:02:27",
          "2018-07-19T00:02:31",
          "2018-07-19T00:02:42",
          "2018-07-19T00:02:56",
          "2018-07-19T00:03:06",
          "2018-07-19T00:03:45",
          "2018-07-19T00:03:48",
          "2018-07-19T00:04:01",
          "2018-07-19T00:04:16",
          "2018-07-19T00:04:36",
          "2018-07-19T00:04:49",
          "2018-07-19T00:04:54",
          "2018-07-19T00:05:01",
          "2018-07-19T00:05:06",
          "2018-07-19T00:05:20",
          "2018-07-19T00:05:43",
          "2018-07-19T00:06:06",
          "2018-07-19T00:06:18",
          "2018-07-19T00:06:28",
          "2018-07-19T00:06:33",
          "2018-07-19T00:07:06",
          "2018-07-19T00:07:18",
          "2018-07-19T00:07:33",
          "2018-07-19T00:07:39",
          "2018-07-19T00:08:24",
          "2018-07-19T00:08:39",
          "2018-07-19T00:09:00",
          "2018-07-19T00:09:12",
          "2018-07-19T00:09:30",
          "2018-07-19T00:09:49",
          "2018-07-19T00:10:28",
          "2018-07-19T00:10:45",
          "2018-07-19T00:10:52",
          "2018-07-19T00:10:56",
          "2018-07-19T00:11:00",
          "2018-07-19T00:11:10",
          "2018-07-19T00:11:20",
          "2018-07-19T00:11:48",
          "2018-07-19T00:11:56",
          "2018-07-19T00:12:01",
          "2018-07-19T00:12:05",
          "2018-07-19T00:12:09",
          "2018-07-19T00:12:16",
          "2018-07-19T00:12:56",
          "2018-07-19T00:12:59",
          "2018-07-19T00:13:37",
          "2018-07-19T00:13:49",
          "2018-07-19T00:14:04",
          "2018-07-19T00:14:21",
          "2018-07-19T00:14:44",
          "2018-07-19T00:14:47",
          "2018-07-19T00:14:54",
          "2018-07-19T00:15:13",
          "2018-07-19T00:15:41",
          "2018-07-19T00:15:51",
          "2018-07-19T00:15:56",
          "2018-07-19T00:16:01",
          "2018-07-19T00:16:05",
          "2018-07-19T00:16:08",
          "2018-07-19T00:16:18",
          "2018-07-19T00:16:29",
          "2018-07-19T00:16:36",
          "2018-07-19T00:16:43",
          "2018-07-19T00:17:18",
          "2018-07-19T00:17:27",
          "2018-07-19T00:17:41",
          "2018-07-19T00:17:49",
          "2018-07-19T00:17:57",
          "2018-07-19T00:18:10",
          "2018-07-19T00:18:18",
          "2018-07-19T00:18:23",
          "2018-07-19T00:18:29",
          "2018-07-19T00:18:46",
          "2018-07-19T00:18:50",
          "2018-07-19T00:18:56",
          "2018-07-19T00:19:01",
          "2018-07-19T00:19:14",
          "2018-07-19T00:19:17",
          "2018-07-19T00:19:24",
          "2018-07-19T00:19:45",
          "2018-07-19T00:19:52",
          "2018-07-19T00:19:57",
          "2018-07-19T00:21:13",
          "2018-07-19T00:21:56"
         ],
         "hovertemplate": "Speaker=%{y}<br>start=%{base}<br>end=%{x}<extra></extra>",
         "legendgroup": "S-Speech",
         "marker": {
          "color": "red",
          "pattern": {
           "shape": ""
          }
         },
         "name": "S-Speech",
         "offsetgroup": "S-Speech",
         "orientation": "h",
         "showlegend": false,
         "textposition": "inside",
         "type": "bar",
         "x": [
          1000,
          9000,
          5000,
          2000,
          13000,
          16000,
          6000,
          1000,
          1000,
          3000,
          3000,
          11000,
          2000,
          14000,
          1000,
          2000,
          8000,
          9000,
          7000,
          4000,
          1000,
          1000,
          10000,
          7000,
          8000,
          2000,
          9000,
          3000,
          2000,
          7000,
          4000,
          2000,
          5000,
          2000,
          20000,
          9000,
          6000,
          4000,
          3000,
          2000,
          1000,
          2000,
          2000,
          9000,
          2000,
          2000,
          2000,
          3000,
          3000,
          2000,
          1000,
          6000,
          2000,
          6000,
          3000,
          2000,
          2000,
          3000,
          1000,
          5000,
          4000,
          3000,
          7000,
          2000,
          3000,
          2000,
          1000,
          3000,
          2000,
          3000,
          3000,
          3000,
          2000,
          2000,
          5000,
          3000,
          12000,
          7000,
          3000,
          5000,
          16000,
          3000,
          4000,
          2000,
          5000,
          2000,
          4000,
          3000,
          2000,
          2000,
          2000,
          2000,
          6000
         ],
         "xaxis": "x",
         "y": [
          "S-Speech",
          "S-Speech",
          "S-Speech",
          "S-Speech",
          "S-Speech",
          "S-Speech",
          "S-Speech",
          "S-Speech",
          "S-Speech",
          "S-Speech",
          "S-Speech",
          "S-Speech",
          "S-Speech",
          "S-Speech",
          "S-Speech",
          "S-Speech",
          "S-Speech",
          "S-Speech",
          "S-Speech",
          "S-Speech",
          "S-Speech",
          "S-Speech",
          "S-Speech",
          "S-Speech",
          "S-Speech",
          "S-Speech",
          "S-Speech",
          "S-Speech",
          "S-Speech",
          "S-Speech",
          "S-Speech",
          "S-Speech",
          "S-Speech",
          "S-Speech",
          "S-Speech",
          "S-Speech",
          "S-Speech",
          "S-Speech",
          "S-Speech",
          "S-Speech",
          "S-Speech",
          "S-Speech",
          "S-Speech",
          "S-Speech",
          "S-Speech",
          "S-Speech",
          "S-Speech",
          "S-Speech",
          "S-Speech",
          "S-Speech",
          "S-Speech",
          "S-Speech",
          "S-Speech",
          "S-Speech",
          "S-Speech",
          "S-Speech",
          "S-Speech",
          "S-Speech",
          "S-Speech",
          "S-Speech",
          "S-Speech",
          "S-Speech",
          "S-Speech",
          "S-Speech",
          "S-Speech",
          "S-Speech",
          "S-Speech",
          "S-Speech",
          "S-Speech",
          "S-Speech",
          "S-Speech",
          "S-Speech",
          "S-Speech",
          "S-Speech",
          "S-Speech",
          "S-Speech",
          "S-Speech",
          "S-Speech",
          "S-Speech",
          "S-Speech",
          "S-Speech",
          "S-Speech",
          "S-Speech",
          "S-Speech",
          "S-Speech",
          "S-Speech",
          "S-Speech",
          "S-Speech",
          "S-Speech",
          "S-Speech",
          "S-Speech",
          "S-Speech",
          "S-Speech"
         ],
         "yaxis": "y"
        }
       ],
       "layout": {
        "barmode": "overlay",
        "height": 450,
        "legend": {
         "title": {
          "text": "Speaker"
         },
         "tracegroupgap": 0
        },
        "margin": {
         "t": 60
        },
        "plot_bgcolor": "white",
        "template": {
         "data": {
          "bar": [
           {
            "error_x": {
             "color": "#2a3f5f"
            },
            "error_y": {
             "color": "#2a3f5f"
            },
            "marker": {
             "line": {
              "color": "#E5ECF6",
              "width": 0.5
             },
             "pattern": {
              "fillmode": "overlay",
              "size": 10,
              "solidity": 0.2
             }
            },
            "type": "bar"
           }
          ],
          "barpolar": [
           {
            "marker": {
             "line": {
              "color": "#E5ECF6",
              "width": 0.5
             },
             "pattern": {
              "fillmode": "overlay",
              "size": 10,
              "solidity": 0.2
             }
            },
            "type": "barpolar"
           }
          ],
          "carpet": [
           {
            "aaxis": {
             "endlinecolor": "#2a3f5f",
             "gridcolor": "white",
             "linecolor": "white",
             "minorgridcolor": "white",
             "startlinecolor": "#2a3f5f"
            },
            "baxis": {
             "endlinecolor": "#2a3f5f",
             "gridcolor": "white",
             "linecolor": "white",
             "minorgridcolor": "white",
             "startlinecolor": "#2a3f5f"
            },
            "type": "carpet"
           }
          ],
          "choropleth": [
           {
            "colorbar": {
             "outlinewidth": 0,
             "ticks": ""
            },
            "type": "choropleth"
           }
          ],
          "contour": [
           {
            "colorbar": {
             "outlinewidth": 0,
             "ticks": ""
            },
            "colorscale": [
             [
              0,
              "#0d0887"
             ],
             [
              0.1111111111111111,
              "#46039f"
             ],
             [
              0.2222222222222222,
              "#7201a8"
             ],
             [
              0.3333333333333333,
              "#9c179e"
             ],
             [
              0.4444444444444444,
              "#bd3786"
             ],
             [
              0.5555555555555556,
              "#d8576b"
             ],
             [
              0.6666666666666666,
              "#ed7953"
             ],
             [
              0.7777777777777778,
              "#fb9f3a"
             ],
             [
              0.8888888888888888,
              "#fdca26"
             ],
             [
              1,
              "#f0f921"
             ]
            ],
            "type": "contour"
           }
          ],
          "contourcarpet": [
           {
            "colorbar": {
             "outlinewidth": 0,
             "ticks": ""
            },
            "type": "contourcarpet"
           }
          ],
          "heatmap": [
           {
            "colorbar": {
             "outlinewidth": 0,
             "ticks": ""
            },
            "colorscale": [
             [
              0,
              "#0d0887"
             ],
             [
              0.1111111111111111,
              "#46039f"
             ],
             [
              0.2222222222222222,
              "#7201a8"
             ],
             [
              0.3333333333333333,
              "#9c179e"
             ],
             [
              0.4444444444444444,
              "#bd3786"
             ],
             [
              0.5555555555555556,
              "#d8576b"
             ],
             [
              0.6666666666666666,
              "#ed7953"
             ],
             [
              0.7777777777777778,
              "#fb9f3a"
             ],
             [
              0.8888888888888888,
              "#fdca26"
             ],
             [
              1,
              "#f0f921"
             ]
            ],
            "type": "heatmap"
           }
          ],
          "heatmapgl": [
           {
            "colorbar": {
             "outlinewidth": 0,
             "ticks": ""
            },
            "colorscale": [
             [
              0,
              "#0d0887"
             ],
             [
              0.1111111111111111,
              "#46039f"
             ],
             [
              0.2222222222222222,
              "#7201a8"
             ],
             [
              0.3333333333333333,
              "#9c179e"
             ],
             [
              0.4444444444444444,
              "#bd3786"
             ],
             [
              0.5555555555555556,
              "#d8576b"
             ],
             [
              0.6666666666666666,
              "#ed7953"
             ],
             [
              0.7777777777777778,
              "#fb9f3a"
             ],
             [
              0.8888888888888888,
              "#fdca26"
             ],
             [
              1,
              "#f0f921"
             ]
            ],
            "type": "heatmapgl"
           }
          ],
          "histogram": [
           {
            "marker": {
             "pattern": {
              "fillmode": "overlay",
              "size": 10,
              "solidity": 0.2
             }
            },
            "type": "histogram"
           }
          ],
          "histogram2d": [
           {
            "colorbar": {
             "outlinewidth": 0,
             "ticks": ""
            },
            "colorscale": [
             [
              0,
              "#0d0887"
             ],
             [
              0.1111111111111111,
              "#46039f"
             ],
             [
              0.2222222222222222,
              "#7201a8"
             ],
             [
              0.3333333333333333,
              "#9c179e"
             ],
             [
              0.4444444444444444,
              "#bd3786"
             ],
             [
              0.5555555555555556,
              "#d8576b"
             ],
             [
              0.6666666666666666,
              "#ed7953"
             ],
             [
              0.7777777777777778,
              "#fb9f3a"
             ],
             [
              0.8888888888888888,
              "#fdca26"
             ],
             [
              1,
              "#f0f921"
             ]
            ],
            "type": "histogram2d"
           }
          ],
          "histogram2dcontour": [
           {
            "colorbar": {
             "outlinewidth": 0,
             "ticks": ""
            },
            "colorscale": [
             [
              0,
              "#0d0887"
             ],
             [
              0.1111111111111111,
              "#46039f"
             ],
             [
              0.2222222222222222,
              "#7201a8"
             ],
             [
              0.3333333333333333,
              "#9c179e"
             ],
             [
              0.4444444444444444,
              "#bd3786"
             ],
             [
              0.5555555555555556,
              "#d8576b"
             ],
             [
              0.6666666666666666,
              "#ed7953"
             ],
             [
              0.7777777777777778,
              "#fb9f3a"
             ],
             [
              0.8888888888888888,
              "#fdca26"
             ],
             [
              1,
              "#f0f921"
             ]
            ],
            "type": "histogram2dcontour"
           }
          ],
          "mesh3d": [
           {
            "colorbar": {
             "outlinewidth": 0,
             "ticks": ""
            },
            "type": "mesh3d"
           }
          ],
          "parcoords": [
           {
            "line": {
             "colorbar": {
              "outlinewidth": 0,
              "ticks": ""
             }
            },
            "type": "parcoords"
           }
          ],
          "pie": [
           {
            "automargin": true,
            "type": "pie"
           }
          ],
          "scatter": [
           {
            "fillpattern": {
             "fillmode": "overlay",
             "size": 10,
             "solidity": 0.2
            },
            "type": "scatter"
           }
          ],
          "scatter3d": [
           {
            "line": {
             "colorbar": {
              "outlinewidth": 0,
              "ticks": ""
             }
            },
            "marker": {
             "colorbar": {
              "outlinewidth": 0,
              "ticks": ""
             }
            },
            "type": "scatter3d"
           }
          ],
          "scattercarpet": [
           {
            "marker": {
             "colorbar": {
              "outlinewidth": 0,
              "ticks": ""
             }
            },
            "type": "scattercarpet"
           }
          ],
          "scattergeo": [
           {
            "marker": {
             "colorbar": {
              "outlinewidth": 0,
              "ticks": ""
             }
            },
            "type": "scattergeo"
           }
          ],
          "scattergl": [
           {
            "marker": {
             "colorbar": {
              "outlinewidth": 0,
              "ticks": ""
             }
            },
            "type": "scattergl"
           }
          ],
          "scattermapbox": [
           {
            "marker": {
             "colorbar": {
              "outlinewidth": 0,
              "ticks": ""
             }
            },
            "type": "scattermapbox"
           }
          ],
          "scatterpolar": [
           {
            "marker": {
             "colorbar": {
              "outlinewidth": 0,
              "ticks": ""
             }
            },
            "type": "scatterpolar"
           }
          ],
          "scatterpolargl": [
           {
            "marker": {
             "colorbar": {
              "outlinewidth": 0,
              "ticks": ""
             }
            },
            "type": "scatterpolargl"
           }
          ],
          "scatterternary": [
           {
            "marker": {
             "colorbar": {
              "outlinewidth": 0,
              "ticks": ""
             }
            },
            "type": "scatterternary"
           }
          ],
          "surface": [
           {
            "colorbar": {
             "outlinewidth": 0,
             "ticks": ""
            },
            "colorscale": [
             [
              0,
              "#0d0887"
             ],
             [
              0.1111111111111111,
              "#46039f"
             ],
             [
              0.2222222222222222,
              "#7201a8"
             ],
             [
              0.3333333333333333,
              "#9c179e"
             ],
             [
              0.4444444444444444,
              "#bd3786"
             ],
             [
              0.5555555555555556,
              "#d8576b"
             ],
             [
              0.6666666666666666,
              "#ed7953"
             ],
             [
              0.7777777777777778,
              "#fb9f3a"
             ],
             [
              0.8888888888888888,
              "#fdca26"
             ],
             [
              1,
              "#f0f921"
             ]
            ],
            "type": "surface"
           }
          ],
          "table": [
           {
            "cells": {
             "fill": {
              "color": "#EBF0F8"
             },
             "line": {
              "color": "white"
             }
            },
            "header": {
             "fill": {
              "color": "#C8D4E3"
             },
             "line": {
              "color": "white"
             }
            },
            "type": "table"
           }
          ]
         },
         "layout": {
          "annotationdefaults": {
           "arrowcolor": "#2a3f5f",
           "arrowhead": 0,
           "arrowwidth": 1
          },
          "autotypenumbers": "strict",
          "coloraxis": {
           "colorbar": {
            "outlinewidth": 0,
            "ticks": ""
           }
          },
          "colorscale": {
           "diverging": [
            [
             0,
             "#8e0152"
            ],
            [
             0.1,
             "#c51b7d"
            ],
            [
             0.2,
             "#de77ae"
            ],
            [
             0.3,
             "#f1b6da"
            ],
            [
             0.4,
             "#fde0ef"
            ],
            [
             0.5,
             "#f7f7f7"
            ],
            [
             0.6,
             "#e6f5d0"
            ],
            [
             0.7,
             "#b8e186"
            ],
            [
             0.8,
             "#7fbc41"
            ],
            [
             0.9,
             "#4d9221"
            ],
            [
             1,
             "#276419"
            ]
           ],
           "sequential": [
            [
             0,
             "#0d0887"
            ],
            [
             0.1111111111111111,
             "#46039f"
            ],
            [
             0.2222222222222222,
             "#7201a8"
            ],
            [
             0.3333333333333333,
             "#9c179e"
            ],
            [
             0.4444444444444444,
             "#bd3786"
            ],
            [
             0.5555555555555556,
             "#d8576b"
            ],
            [
             0.6666666666666666,
             "#ed7953"
            ],
            [
             0.7777777777777778,
             "#fb9f3a"
            ],
            [
             0.8888888888888888,
             "#fdca26"
            ],
            [
             1,
             "#f0f921"
            ]
           ],
           "sequentialminus": [
            [
             0,
             "#0d0887"
            ],
            [
             0.1111111111111111,
             "#46039f"
            ],
            [
             0.2222222222222222,
             "#7201a8"
            ],
            [
             0.3333333333333333,
             "#9c179e"
            ],
            [
             0.4444444444444444,
             "#bd3786"
            ],
            [
             0.5555555555555556,
             "#d8576b"
            ],
            [
             0.6666666666666666,
             "#ed7953"
            ],
            [
             0.7777777777777778,
             "#fb9f3a"
            ],
            [
             0.8888888888888888,
             "#fdca26"
            ],
            [
             1,
             "#f0f921"
            ]
           ]
          },
          "colorway": [
           "#636efa",
           "#EF553B",
           "#00cc96",
           "#ab63fa",
           "#FFA15A",
           "#19d3f3",
           "#FF6692",
           "#B6E880",
           "#FF97FF",
           "#FECB52"
          ],
          "font": {
           "color": "#2a3f5f"
          },
          "geo": {
           "bgcolor": "white",
           "lakecolor": "white",
           "landcolor": "#E5ECF6",
           "showlakes": true,
           "showland": true,
           "subunitcolor": "white"
          },
          "hoverlabel": {
           "align": "left"
          },
          "hovermode": "closest",
          "mapbox": {
           "style": "light"
          },
          "paper_bgcolor": "white",
          "plot_bgcolor": "#E5ECF6",
          "polar": {
           "angularaxis": {
            "gridcolor": "white",
            "linecolor": "white",
            "ticks": ""
           },
           "bgcolor": "#E5ECF6",
           "radialaxis": {
            "gridcolor": "white",
            "linecolor": "white",
            "ticks": ""
           }
          },
          "scene": {
           "xaxis": {
            "backgroundcolor": "#E5ECF6",
            "gridcolor": "white",
            "gridwidth": 2,
            "linecolor": "white",
            "showbackground": true,
            "ticks": "",
            "zerolinecolor": "white"
           },
           "yaxis": {
            "backgroundcolor": "#E5ECF6",
            "gridcolor": "white",
            "gridwidth": 2,
            "linecolor": "white",
            "showbackground": true,
            "ticks": "",
            "zerolinecolor": "white"
           },
           "zaxis": {
            "backgroundcolor": "#E5ECF6",
            "gridcolor": "white",
            "gridwidth": 2,
            "linecolor": "white",
            "showbackground": true,
            "ticks": "",
            "zerolinecolor": "white"
           }
          },
          "shapedefaults": {
           "line": {
            "color": "#2a3f5f"
           }
          },
          "ternary": {
           "aaxis": {
            "gridcolor": "white",
            "linecolor": "white",
            "ticks": ""
           },
           "baxis": {
            "gridcolor": "white",
            "linecolor": "white",
            "ticks": ""
           },
           "bgcolor": "#E5ECF6",
           "caxis": {
            "gridcolor": "white",
            "linecolor": "white",
            "ticks": ""
           }
          },
          "title": {
           "x": 0.05
          },
          "xaxis": {
           "automargin": true,
           "gridcolor": "white",
           "linecolor": "white",
           "ticks": "",
           "title": {
            "standoff": 15
           },
           "zerolinecolor": "white",
           "zerolinewidth": 2
          },
          "yaxis": {
           "automargin": true,
           "gridcolor": "white",
           "linecolor": "white",
           "ticks": "",
           "title": {
            "standoff": 15
           },
           "zerolinecolor": "white",
           "zerolinewidth": 2
          }
         }
        },
        "width": 700,
        "xaxis": {
         "anchor": "y",
         "domain": [
          0,
          1
         ],
         "gridcolor": "white",
         "linecolor": "black",
         "mirror": false,
         "rangeslider": {
          "visible": true
         },
         "tickfont": {
          "size": 16
         },
         "ticks": "inside",
         "title": {
          "text": "Time"
         },
         "type": "date"
        },
        "yaxis": {
         "anchor": "x",
         "categoryarray": [
          "S-Speech",
          "T-Speech",
          "Music"
         ],
         "categoryorder": "total ascending",
         "domain": [
          0,
          1
         ],
         "gridcolor": "lightgray",
         "linecolor": "black",
         "mirror": false,
         "tickfont": {
          "size": 16
         },
         "title": {
          "font": {
           "size": 16
          },
          "text": "Speaker"
         }
        }
       }
      },
      "text/html": [
       "<div>                            <div id=\"2bdd4e63-107a-4ba7-ade7-e3b49346c484\" class=\"plotly-graph-div\" style=\"height:450px; width:700px;\"></div>            <script type=\"text/javascript\">                require([\"plotly\"], function(Plotly) {                    window.PLOTLYENV=window.PLOTLYENV || {};                                    if (document.getElementById(\"2bdd4e63-107a-4ba7-ade7-e3b49346c484\")) {                    Plotly.newPlot(                        \"2bdd4e63-107a-4ba7-ade7-e3b49346c484\",                        [{\"alignmentgroup\":\"True\",\"base\":[\"2018-07-19T00:00:00\",\"2018-07-19T00:01:08\",\"2018-07-19T00:01:45\",\"2018-07-19T00:02:47\",\"2018-07-19T00:02:59\",\"2018-07-19T00:04:09\",\"2018-07-19T00:05:38\",\"2018-07-19T00:06:31\",\"2018-07-19T00:07:43\",\"2018-07-19T00:09:09\",\"2018-07-19T00:10:31\",\"2018-07-19T00:11:11\",\"2018-07-19T00:11:25\",\"2018-07-19T00:11:30\",\"2018-07-19T00:11:43\",\"2018-07-19T00:12:10\",\"2018-07-19T00:13:07\",\"2018-07-19T00:13:37\",\"2018-07-19T00:14:49\",\"2018-07-19T00:15:59\",\"2018-07-19T00:16:15\",\"2018-07-19T00:16:32\",\"2018-07-19T00:17:03\",\"2018-07-19T00:17:11\",\"2018-07-19T00:17:55\",\"2018-07-19T00:18:05\",\"2018-07-19T00:18:13\",\"2018-07-19T00:18:25\",\"2018-07-19T00:18:49\",\"2018-07-19T00:19:06\",\"2018-07-19T00:19:39\",\"2018-07-19T00:20:43\",\"2018-07-19T00:20:59\",\"2018-07-19T00:21:14\",\"2018-07-19T00:21:23\"],\"hovertemplate\":\"Speaker=%{y}<br>start=%{base}<br>end=%{x}<extra></extra>\",\"legendgroup\":\"Music\",\"marker\":{\"color\":\"blue\",\"pattern\":{\"shape\":\"\"}},\"name\":\"Music\",\"offsetgroup\":\"Music\",\"orientation\":\"h\",\"showlegend\":false,\"textposition\":\"inside\",\"x\":[44000.0,24000.0,46000.0,3000.0,67000.0,87000.0,39000.0,66000.0,71000.0,78000.0,35000.0,7000.0,4000.0,6000.0,5000.0,50000.0,28000.0,66000.0,67000.0,11000.0,14000.0,29000.0,5000.0,41000.0,4000.0,4000.0,5000.0,3000.0,10000.0,10000.0,61000.0,9000.0,9000.0,7000.0,34000.0],\"xaxis\":\"x\",\"y\":[\"Music\",\"Music\",\"Music\",\"Music\",\"Music\",\"Music\",\"Music\",\"Music\",\"Music\",\"Music\",\"Music\",\"Music\",\"Music\",\"Music\",\"Music\",\"Music\",\"Music\",\"Music\",\"Music\",\"Music\",\"Music\",\"Music\",\"Music\",\"Music\",\"Music\",\"Music\",\"Music\",\"Music\",\"Music\",\"Music\",\"Music\",\"Music\",\"Music\",\"Music\",\"Music\"],\"yaxis\":\"y\",\"type\":\"bar\"},{\"alignmentgroup\":\"True\",\"base\":[\"2018-07-19T00:00:10\",\"2018-07-19T00:00:17\",\"2018-07-19T00:00:22\",\"2018-07-19T00:00:24\",\"2018-07-19T00:00:30\",\"2018-07-19T00:00:34\",\"2018-07-19T00:00:40\",\"2018-07-19T00:00:48\",\"2018-07-19T00:00:51\",\"2018-07-19T00:00:58\",\"2018-07-19T00:01:05\",\"2018-07-19T00:01:18\",\"2018-07-19T00:01:29\",\"2018-07-19T00:01:33\",\"2018-07-19T00:01:38\",\"2018-07-19T00:01:43\",\"2018-07-19T00:01:56\",\"2018-07-19T00:02:12\",\"2018-07-19T00:02:26\",\"2018-07-19T00:02:33\",\"2018-07-19T00:02:46\",\"2018-07-19T00:02:52\",\"2018-07-19T00:03:13\",\"2018-07-19T00:03:19\",\"2018-07-19T00:03:23\",\"2018-07-19T00:03:28\",\"2018-07-19T00:03:38\",\"2018-07-19T00:03:47\",\"2018-07-19T00:03:53\",\"2018-07-19T00:03:59\",\"2018-07-19T00:04:31\",\"2018-07-19T00:04:52\",\"2018-07-19T00:05:15\",\"2018-07-19T00:05:34\",\"2018-07-19T00:05:51\",\"2018-07-19T00:06:03\",\"2018-07-19T00:06:16\",\"2018-07-19T00:06:27\",\"2018-07-19T00:06:36\",\"2018-07-19T00:07:25\",\"2018-07-19T00:07:36\",\"2018-07-19T00:08:19\",\"2018-07-19T00:08:34\",\"2018-07-19T00:08:51\",\"2018-07-19T00:09:00\",\"2018-07-19T00:09:27\",\"2018-07-19T00:09:46\",\"2018-07-19T00:10:02\",\"2018-07-19T00:10:24\",\"2018-07-19T00:10:44\",\"2018-07-19T00:10:53\",\"2018-07-19T00:11:07\",\"2018-07-19T00:11:15\",\"2018-07-19T00:11:29\",\"2018-07-19T00:11:41\",\"2018-07-19T00:11:47\",\"2018-07-19T00:11:50\",\"2018-07-19T00:12:04\",\"2018-07-19T00:12:05\",\"2018-07-19T00:12:20\",\"2018-07-19T00:12:52\",\"2018-07-19T00:12:58\",\"2018-07-19T00:13:06\",\"2018-07-19T00:13:23\",\"2018-07-19T00:13:34\",\"2018-07-19T00:13:40\",\"2018-07-19T00:13:48\",\"2018-07-19T00:13:51\",\"2018-07-19T00:14:01\",\"2018-07-19T00:14:12\",\"2018-07-19T00:14:21\",\"2018-07-19T00:14:33\",\"2018-07-19T00:14:43\",\"2018-07-19T00:14:48\",\"2018-07-19T00:15:01\",\"2018-07-19T00:15:12\",\"2018-07-19T00:15:49\",\"2018-07-19T00:15:54\",\"2018-07-19T00:16:00\",\"2018-07-19T00:16:06\",\"2018-07-19T00:16:11\",\"2018-07-19T00:16:20\",\"2018-07-19T00:16:25\",\"2018-07-19T00:16:31\",\"2018-07-19T00:16:49\",\"2018-07-19T00:16:55\",\"2018-07-19T00:16:59\",\"2018-07-19T00:17:06\",\"2018-07-19T00:17:11\",\"2018-07-19T00:17:13\",\"2018-07-19T00:17:23\",\"2018-07-19T00:17:30\",\"2018-07-19T00:17:37\",\"2018-07-19T00:17:46\",\"2018-07-19T00:18:08\",\"2018-07-19T00:18:17\",\"2018-07-19T00:18:45\",\"2018-07-19T00:19:07\",\"2018-07-19T00:19:18\",\"2018-07-19T00:19:20\",\"2018-07-19T00:19:29\",\"2018-07-19T00:19:39\",\"2018-07-19T00:19:55\",\"2018-07-19T00:20:30\",\"2018-07-19T00:20:39\",\"2018-07-19T00:20:48\",\"2018-07-19T00:20:51\",\"2018-07-19T00:21:06\",\"2018-07-19T00:21:18\",\"2018-07-19T00:21:58\"],\"hovertemplate\":\"Speaker=%{y}<br>start=%{base}<br>end=%{x}<extra></extra>\",\"legendgroup\":\"T-Speech\",\"marker\":{\"color\":\"limegreen\",\"pattern\":{\"shape\":\"\"}},\"name\":\"T-Speech\",\"offsetgroup\":\"T-Speech\",\"orientation\":\"h\",\"showlegend\":false,\"textposition\":\"inside\",\"x\":[5000.0,3000.0,1000.0,3000.0,3000.0,4000.0,7000.0,1000.0,4000.0,6000.0,1000.0,6000.0,1000.0,2000.0,3000.0,2000.0,2000.0,2000.0,6000.0,9000.0,3000.0,8000.0,1000.0,3000.0,2000.0,2000.0,7000.0,1000.0,1000.0,3000.0,2000.0,2000.0,3000.0,6000.0,5000.0,15000.0,3000.0,3000.0,2000.0,2000.0,4000.0,6000.0,4000.0,5000.0,12000.0,7000.0,2000.0,3000.0,16000.0,2000.0,4000.0,7000.0,11000.0,10000.0,4000.0,2000.0,8000.0,2000.0,5000.0,4000.0,4000.0,2000.0,3000.0,2000.0,6000.0,1000.0,2000.0,5000.0,4000.0,3000.0,2000.0,2000.0,4000.0,9000.0,3000.0,1000.0,3000.0,3000.0,3000.0,2000.0,4000.0,3000.0,1000.0,1000.0,3000.0,2000.0,2000.0,2000.0,1000.0,4000.0,5000.0,3000.0,5000.0,13000.0,3000.0,8000.0,19000.0,8000.0,2000.0,3000.0,5000.0,2000.0,1000.0,2000.0,5000.0,2000.0,8000.0,9000.0,3000.0,4000.0],\"xaxis\":\"x\",\"y\":[\"T-Speech\",\"T-Speech\",\"T-Speech\",\"T-Speech\",\"T-Speech\",\"T-Speech\",\"T-Speech\",\"T-Speech\",\"T-Speech\",\"T-Speech\",\"T-Speech\",\"T-Speech\",\"T-Speech\",\"T-Speech\",\"T-Speech\",\"T-Speech\",\"T-Speech\",\"T-Speech\",\"T-Speech\",\"T-Speech\",\"T-Speech\",\"T-Speech\",\"T-Speech\",\"T-Speech\",\"T-Speech\",\"T-Speech\",\"T-Speech\",\"T-Speech\",\"T-Speech\",\"T-Speech\",\"T-Speech\",\"T-Speech\",\"T-Speech\",\"T-Speech\",\"T-Speech\",\"T-Speech\",\"T-Speech\",\"T-Speech\",\"T-Speech\",\"T-Speech\",\"T-Speech\",\"T-Speech\",\"T-Speech\",\"T-Speech\",\"T-Speech\",\"T-Speech\",\"T-Speech\",\"T-Speech\",\"T-Speech\",\"T-Speech\",\"T-Speech\",\"T-Speech\",\"T-Speech\",\"T-Speech\",\"T-Speech\",\"T-Speech\",\"T-Speech\",\"T-Speech\",\"T-Speech\",\"T-Speech\",\"T-Speech\",\"T-Speech\",\"T-Speech\",\"T-Speech\",\"T-Speech\",\"T-Speech\",\"T-Speech\",\"T-Speech\",\"T-Speech\",\"T-Speech\",\"T-Speech\",\"T-Speech\",\"T-Speech\",\"T-Speech\",\"T-Speech\",\"T-Speech\",\"T-Speech\",\"T-Speech\",\"T-Speech\",\"T-Speech\",\"T-Speech\",\"T-Speech\",\"T-Speech\",\"T-Speech\",\"T-Speech\",\"T-Speech\",\"T-Speech\",\"T-Speech\",\"T-Speech\",\"T-Speech\",\"T-Speech\",\"T-Speech\",\"T-Speech\",\"T-Speech\",\"T-Speech\",\"T-Speech\",\"T-Speech\",\"T-Speech\",\"T-Speech\",\"T-Speech\",\"T-Speech\",\"T-Speech\",\"T-Speech\",\"T-Speech\",\"T-Speech\",\"T-Speech\",\"T-Speech\",\"T-Speech\",\"T-Speech\",\"T-Speech\"],\"yaxis\":\"y\",\"type\":\"bar\"},{\"alignmentgroup\":\"True\",\"base\":[\"2018-07-19T00:00:25\",\"2018-07-19T00:00:43\",\"2018-07-19T00:00:54\",\"2018-07-19T00:01:00\",\"2018-07-19T00:01:03\",\"2018-07-19T00:01:23\",\"2018-07-19T00:01:39\",\"2018-07-19T00:01:57\",\"2018-07-19T00:02:23\",\"2018-07-19T00:02:27\",\"2018-07-19T00:02:31\",\"2018-07-19T00:02:42\",\"2018-07-19T00:02:56\",\"2018-07-19T00:03:06\",\"2018-07-19T00:03:45\",\"2018-07-19T00:03:48\",\"2018-07-19T00:04:01\",\"2018-07-19T00:04:16\",\"2018-07-19T00:04:36\",\"2018-07-19T00:04:49\",\"2018-07-19T00:04:54\",\"2018-07-19T00:05:01\",\"2018-07-19T00:05:06\",\"2018-07-19T00:05:20\",\"2018-07-19T00:05:43\",\"2018-07-19T00:06:06\",\"2018-07-19T00:06:18\",\"2018-07-19T00:06:28\",\"2018-07-19T00:06:33\",\"2018-07-19T00:07:06\",\"2018-07-19T00:07:18\",\"2018-07-19T00:07:33\",\"2018-07-19T00:07:39\",\"2018-07-19T00:08:24\",\"2018-07-19T00:08:39\",\"2018-07-19T00:09:00\",\"2018-07-19T00:09:12\",\"2018-07-19T00:09:30\",\"2018-07-19T00:09:49\",\"2018-07-19T00:10:28\",\"2018-07-19T00:10:45\",\"2018-07-19T00:10:52\",\"2018-07-19T00:10:56\",\"2018-07-19T00:11:00\",\"2018-07-19T00:11:10\",\"2018-07-19T00:11:20\",\"2018-07-19T00:11:48\",\"2018-07-19T00:11:56\",\"2018-07-19T00:12:01\",\"2018-07-19T00:12:05\",\"2018-07-19T00:12:09\",\"2018-07-19T00:12:16\",\"2018-07-19T00:12:56\",\"2018-07-19T00:12:59\",\"2018-07-19T00:13:37\",\"2018-07-19T00:13:49\",\"2018-07-19T00:14:04\",\"2018-07-19T00:14:21\",\"2018-07-19T00:14:44\",\"2018-07-19T00:14:47\",\"2018-07-19T00:14:54\",\"2018-07-19T00:15:13\",\"2018-07-19T00:15:41\",\"2018-07-19T00:15:51\",\"2018-07-19T00:15:56\",\"2018-07-19T00:16:01\",\"2018-07-19T00:16:05\",\"2018-07-19T00:16:08\",\"2018-07-19T00:16:18\",\"2018-07-19T00:16:29\",\"2018-07-19T00:16:36\",\"2018-07-19T00:16:43\",\"2018-07-19T00:17:18\",\"2018-07-19T00:17:27\",\"2018-07-19T00:17:41\",\"2018-07-19T00:17:49\",\"2018-07-19T00:17:57\",\"2018-07-19T00:18:10\",\"2018-07-19T00:18:18\",\"2018-07-19T00:18:23\",\"2018-07-19T00:18:29\",\"2018-07-19T00:18:46\",\"2018-07-19T00:18:50\",\"2018-07-19T00:18:56\",\"2018-07-19T00:19:01\",\"2018-07-19T00:19:14\",\"2018-07-19T00:19:17\",\"2018-07-19T00:19:24\",\"2018-07-19T00:19:45\",\"2018-07-19T00:19:52\",\"2018-07-19T00:19:57\",\"2018-07-19T00:21:13\",\"2018-07-19T00:21:56\"],\"hovertemplate\":\"Speaker=%{y}<br>start=%{base}<br>end=%{x}<extra></extra>\",\"legendgroup\":\"S-Speech\",\"marker\":{\"color\":\"red\",\"pattern\":{\"shape\":\"\"}},\"name\":\"S-Speech\",\"offsetgroup\":\"S-Speech\",\"orientation\":\"h\",\"showlegend\":false,\"textposition\":\"inside\",\"x\":[1000.0,9000.0,5000.0,2000.0,13000.0,16000.0,6000.0,1000.0,1000.0,3000.0,3000.0,11000.0,2000.0,14000.0,1000.0,2000.0,8000.0,9000.0,7000.0,4000.0,1000.0,1000.0,10000.0,7000.0,8000.0,2000.0,9000.0,3000.0,2000.0,7000.0,4000.0,2000.0,5000.0,2000.0,20000.0,9000.0,6000.0,4000.0,3000.0,2000.0,1000.0,2000.0,2000.0,9000.0,2000.0,2000.0,2000.0,3000.0,3000.0,2000.0,1000.0,6000.0,2000.0,6000.0,3000.0,2000.0,2000.0,3000.0,1000.0,5000.0,4000.0,3000.0,7000.0,2000.0,3000.0,2000.0,1000.0,3000.0,2000.0,3000.0,3000.0,3000.0,2000.0,2000.0,5000.0,3000.0,12000.0,7000.0,3000.0,5000.0,16000.0,3000.0,4000.0,2000.0,5000.0,2000.0,4000.0,3000.0,2000.0,2000.0,2000.0,2000.0,6000.0],\"xaxis\":\"x\",\"y\":[\"S-Speech\",\"S-Speech\",\"S-Speech\",\"S-Speech\",\"S-Speech\",\"S-Speech\",\"S-Speech\",\"S-Speech\",\"S-Speech\",\"S-Speech\",\"S-Speech\",\"S-Speech\",\"S-Speech\",\"S-Speech\",\"S-Speech\",\"S-Speech\",\"S-Speech\",\"S-Speech\",\"S-Speech\",\"S-Speech\",\"S-Speech\",\"S-Speech\",\"S-Speech\",\"S-Speech\",\"S-Speech\",\"S-Speech\",\"S-Speech\",\"S-Speech\",\"S-Speech\",\"S-Speech\",\"S-Speech\",\"S-Speech\",\"S-Speech\",\"S-Speech\",\"S-Speech\",\"S-Speech\",\"S-Speech\",\"S-Speech\",\"S-Speech\",\"S-Speech\",\"S-Speech\",\"S-Speech\",\"S-Speech\",\"S-Speech\",\"S-Speech\",\"S-Speech\",\"S-Speech\",\"S-Speech\",\"S-Speech\",\"S-Speech\",\"S-Speech\",\"S-Speech\",\"S-Speech\",\"S-Speech\",\"S-Speech\",\"S-Speech\",\"S-Speech\",\"S-Speech\",\"S-Speech\",\"S-Speech\",\"S-Speech\",\"S-Speech\",\"S-Speech\",\"S-Speech\",\"S-Speech\",\"S-Speech\",\"S-Speech\",\"S-Speech\",\"S-Speech\",\"S-Speech\",\"S-Speech\",\"S-Speech\",\"S-Speech\",\"S-Speech\",\"S-Speech\",\"S-Speech\",\"S-Speech\",\"S-Speech\",\"S-Speech\",\"S-Speech\",\"S-Speech\",\"S-Speech\",\"S-Speech\",\"S-Speech\",\"S-Speech\",\"S-Speech\",\"S-Speech\",\"S-Speech\",\"S-Speech\",\"S-Speech\",\"S-Speech\",\"S-Speech\",\"S-Speech\"],\"yaxis\":\"y\",\"type\":\"bar\"}],                        {\"template\":{\"data\":{\"histogram2dcontour\":[{\"type\":\"histogram2dcontour\",\"colorbar\":{\"outlinewidth\":0,\"ticks\":\"\"},\"colorscale\":[[0.0,\"#0d0887\"],[0.1111111111111111,\"#46039f\"],[0.2222222222222222,\"#7201a8\"],[0.3333333333333333,\"#9c179e\"],[0.4444444444444444,\"#bd3786\"],[0.5555555555555556,\"#d8576b\"],[0.6666666666666666,\"#ed7953\"],[0.7777777777777778,\"#fb9f3a\"],[0.8888888888888888,\"#fdca26\"],[1.0,\"#f0f921\"]]}],\"choropleth\":[{\"type\":\"choropleth\",\"colorbar\":{\"outlinewidth\":0,\"ticks\":\"\"}}],\"histogram2d\":[{\"type\":\"histogram2d\",\"colorbar\":{\"outlinewidth\":0,\"ticks\":\"\"},\"colorscale\":[[0.0,\"#0d0887\"],[0.1111111111111111,\"#46039f\"],[0.2222222222222222,\"#7201a8\"],[0.3333333333333333,\"#9c179e\"],[0.4444444444444444,\"#bd3786\"],[0.5555555555555556,\"#d8576b\"],[0.6666666666666666,\"#ed7953\"],[0.7777777777777778,\"#fb9f3a\"],[0.8888888888888888,\"#fdca26\"],[1.0,\"#f0f921\"]]}],\"heatmap\":[{\"type\":\"heatmap\",\"colorbar\":{\"outlinewidth\":0,\"ticks\":\"\"},\"colorscale\":[[0.0,\"#0d0887\"],[0.1111111111111111,\"#46039f\"],[0.2222222222222222,\"#7201a8\"],[0.3333333333333333,\"#9c179e\"],[0.4444444444444444,\"#bd3786\"],[0.5555555555555556,\"#d8576b\"],[0.6666666666666666,\"#ed7953\"],[0.7777777777777778,\"#fb9f3a\"],[0.8888888888888888,\"#fdca26\"],[1.0,\"#f0f921\"]]}],\"heatmapgl\":[{\"type\":\"heatmapgl\",\"colorbar\":{\"outlinewidth\":0,\"ticks\":\"\"},\"colorscale\":[[0.0,\"#0d0887\"],[0.1111111111111111,\"#46039f\"],[0.2222222222222222,\"#7201a8\"],[0.3333333333333333,\"#9c179e\"],[0.4444444444444444,\"#bd3786\"],[0.5555555555555556,\"#d8576b\"],[0.6666666666666666,\"#ed7953\"],[0.7777777777777778,\"#fb9f3a\"],[0.8888888888888888,\"#fdca26\"],[1.0,\"#f0f921\"]]}],\"contourcarpet\":[{\"type\":\"contourcarpet\",\"colorbar\":{\"outlinewidth\":0,\"ticks\":\"\"}}],\"contour\":[{\"type\":\"contour\",\"colorbar\":{\"outlinewidth\":0,\"ticks\":\"\"},\"colorscale\":[[0.0,\"#0d0887\"],[0.1111111111111111,\"#46039f\"],[0.2222222222222222,\"#7201a8\"],[0.3333333333333333,\"#9c179e\"],[0.4444444444444444,\"#bd3786\"],[0.5555555555555556,\"#d8576b\"],[0.6666666666666666,\"#ed7953\"],[0.7777777777777778,\"#fb9f3a\"],[0.8888888888888888,\"#fdca26\"],[1.0,\"#f0f921\"]]}],\"surface\":[{\"type\":\"surface\",\"colorbar\":{\"outlinewidth\":0,\"ticks\":\"\"},\"colorscale\":[[0.0,\"#0d0887\"],[0.1111111111111111,\"#46039f\"],[0.2222222222222222,\"#7201a8\"],[0.3333333333333333,\"#9c179e\"],[0.4444444444444444,\"#bd3786\"],[0.5555555555555556,\"#d8576b\"],[0.6666666666666666,\"#ed7953\"],[0.7777777777777778,\"#fb9f3a\"],[0.8888888888888888,\"#fdca26\"],[1.0,\"#f0f921\"]]}],\"mesh3d\":[{\"type\":\"mesh3d\",\"colorbar\":{\"outlinewidth\":0,\"ticks\":\"\"}}],\"scatter\":[{\"fillpattern\":{\"fillmode\":\"overlay\",\"size\":10,\"solidity\":0.2},\"type\":\"scatter\"}],\"parcoords\":[{\"type\":\"parcoords\",\"line\":{\"colorbar\":{\"outlinewidth\":0,\"ticks\":\"\"}}}],\"scatterpolargl\":[{\"type\":\"scatterpolargl\",\"marker\":{\"colorbar\":{\"outlinewidth\":0,\"ticks\":\"\"}}}],\"bar\":[{\"error_x\":{\"color\":\"#2a3f5f\"},\"error_y\":{\"color\":\"#2a3f5f\"},\"marker\":{\"line\":{\"color\":\"#E5ECF6\",\"width\":0.5},\"pattern\":{\"fillmode\":\"overlay\",\"size\":10,\"solidity\":0.2}},\"type\":\"bar\"}],\"scattergeo\":[{\"type\":\"scattergeo\",\"marker\":{\"colorbar\":{\"outlinewidth\":0,\"ticks\":\"\"}}}],\"scatterpolar\":[{\"type\":\"scatterpolar\",\"marker\":{\"colorbar\":{\"outlinewidth\":0,\"ticks\":\"\"}}}],\"histogram\":[{\"marker\":{\"pattern\":{\"fillmode\":\"overlay\",\"size\":10,\"solidity\":0.2}},\"type\":\"histogram\"}],\"scattergl\":[{\"type\":\"scattergl\",\"marker\":{\"colorbar\":{\"outlinewidth\":0,\"ticks\":\"\"}}}],\"scatter3d\":[{\"type\":\"scatter3d\",\"line\":{\"colorbar\":{\"outlinewidth\":0,\"ticks\":\"\"}},\"marker\":{\"colorbar\":{\"outlinewidth\":0,\"ticks\":\"\"}}}],\"scattermapbox\":[{\"type\":\"scattermapbox\",\"marker\":{\"colorbar\":{\"outlinewidth\":0,\"ticks\":\"\"}}}],\"scatterternary\":[{\"type\":\"scatterternary\",\"marker\":{\"colorbar\":{\"outlinewidth\":0,\"ticks\":\"\"}}}],\"scattercarpet\":[{\"type\":\"scattercarpet\",\"marker\":{\"colorbar\":{\"outlinewidth\":0,\"ticks\":\"\"}}}],\"carpet\":[{\"aaxis\":{\"endlinecolor\":\"#2a3f5f\",\"gridcolor\":\"white\",\"linecolor\":\"white\",\"minorgridcolor\":\"white\",\"startlinecolor\":\"#2a3f5f\"},\"baxis\":{\"endlinecolor\":\"#2a3f5f\",\"gridcolor\":\"white\",\"linecolor\":\"white\",\"minorgridcolor\":\"white\",\"startlinecolor\":\"#2a3f5f\"},\"type\":\"carpet\"}],\"table\":[{\"cells\":{\"fill\":{\"color\":\"#EBF0F8\"},\"line\":{\"color\":\"white\"}},\"header\":{\"fill\":{\"color\":\"#C8D4E3\"},\"line\":{\"color\":\"white\"}},\"type\":\"table\"}],\"barpolar\":[{\"marker\":{\"line\":{\"color\":\"#E5ECF6\",\"width\":0.5},\"pattern\":{\"fillmode\":\"overlay\",\"size\":10,\"solidity\":0.2}},\"type\":\"barpolar\"}],\"pie\":[{\"automargin\":true,\"type\":\"pie\"}]},\"layout\":{\"autotypenumbers\":\"strict\",\"colorway\":[\"#636efa\",\"#EF553B\",\"#00cc96\",\"#ab63fa\",\"#FFA15A\",\"#19d3f3\",\"#FF6692\",\"#B6E880\",\"#FF97FF\",\"#FECB52\"],\"font\":{\"color\":\"#2a3f5f\"},\"hovermode\":\"closest\",\"hoverlabel\":{\"align\":\"left\"},\"paper_bgcolor\":\"white\",\"plot_bgcolor\":\"#E5ECF6\",\"polar\":{\"bgcolor\":\"#E5ECF6\",\"angularaxis\":{\"gridcolor\":\"white\",\"linecolor\":\"white\",\"ticks\":\"\"},\"radialaxis\":{\"gridcolor\":\"white\",\"linecolor\":\"white\",\"ticks\":\"\"}},\"ternary\":{\"bgcolor\":\"#E5ECF6\",\"aaxis\":{\"gridcolor\":\"white\",\"linecolor\":\"white\",\"ticks\":\"\"},\"baxis\":{\"gridcolor\":\"white\",\"linecolor\":\"white\",\"ticks\":\"\"},\"caxis\":{\"gridcolor\":\"white\",\"linecolor\":\"white\",\"ticks\":\"\"}},\"coloraxis\":{\"colorbar\":{\"outlinewidth\":0,\"ticks\":\"\"}},\"colorscale\":{\"sequential\":[[0.0,\"#0d0887\"],[0.1111111111111111,\"#46039f\"],[0.2222222222222222,\"#7201a8\"],[0.3333333333333333,\"#9c179e\"],[0.4444444444444444,\"#bd3786\"],[0.5555555555555556,\"#d8576b\"],[0.6666666666666666,\"#ed7953\"],[0.7777777777777778,\"#fb9f3a\"],[0.8888888888888888,\"#fdca26\"],[1.0,\"#f0f921\"]],\"sequentialminus\":[[0.0,\"#0d0887\"],[0.1111111111111111,\"#46039f\"],[0.2222222222222222,\"#7201a8\"],[0.3333333333333333,\"#9c179e\"],[0.4444444444444444,\"#bd3786\"],[0.5555555555555556,\"#d8576b\"],[0.6666666666666666,\"#ed7953\"],[0.7777777777777778,\"#fb9f3a\"],[0.8888888888888888,\"#fdca26\"],[1.0,\"#f0f921\"]],\"diverging\":[[0,\"#8e0152\"],[0.1,\"#c51b7d\"],[0.2,\"#de77ae\"],[0.3,\"#f1b6da\"],[0.4,\"#fde0ef\"],[0.5,\"#f7f7f7\"],[0.6,\"#e6f5d0\"],[0.7,\"#b8e186\"],[0.8,\"#7fbc41\"],[0.9,\"#4d9221\"],[1,\"#276419\"]]},\"xaxis\":{\"gridcolor\":\"white\",\"linecolor\":\"white\",\"ticks\":\"\",\"title\":{\"standoff\":15},\"zerolinecolor\":\"white\",\"automargin\":true,\"zerolinewidth\":2},\"yaxis\":{\"gridcolor\":\"white\",\"linecolor\":\"white\",\"ticks\":\"\",\"title\":{\"standoff\":15},\"zerolinecolor\":\"white\",\"automargin\":true,\"zerolinewidth\":2},\"scene\":{\"xaxis\":{\"backgroundcolor\":\"#E5ECF6\",\"gridcolor\":\"white\",\"linecolor\":\"white\",\"showbackground\":true,\"ticks\":\"\",\"zerolinecolor\":\"white\",\"gridwidth\":2},\"yaxis\":{\"backgroundcolor\":\"#E5ECF6\",\"gridcolor\":\"white\",\"linecolor\":\"white\",\"showbackground\":true,\"ticks\":\"\",\"zerolinecolor\":\"white\",\"gridwidth\":2},\"zaxis\":{\"backgroundcolor\":\"#E5ECF6\",\"gridcolor\":\"white\",\"linecolor\":\"white\",\"showbackground\":true,\"ticks\":\"\",\"zerolinecolor\":\"white\",\"gridwidth\":2}},\"shapedefaults\":{\"line\":{\"color\":\"#2a3f5f\"}},\"annotationdefaults\":{\"arrowcolor\":\"#2a3f5f\",\"arrowhead\":0,\"arrowwidth\":1},\"geo\":{\"bgcolor\":\"white\",\"landcolor\":\"#E5ECF6\",\"subunitcolor\":\"white\",\"showland\":true,\"showlakes\":true,\"lakecolor\":\"white\"},\"title\":{\"x\":0.05},\"mapbox\":{\"style\":\"light\"}}},\"xaxis\":{\"anchor\":\"y\",\"domain\":[0.0,1.0],\"type\":\"date\",\"tickfont\":{\"size\":16},\"linecolor\":\"black\",\"gridcolor\":\"white\",\"mirror\":false,\"ticks\":\"inside\",\"title\":{\"text\":\"Time\"},\"rangeslider\":{\"visible\":true}},\"yaxis\":{\"anchor\":\"x\",\"domain\":[0.0,1.0],\"title\":{\"text\":\"Speaker\",\"font\":{\"size\":16}},\"categoryorder\":\"total ascending\",\"categoryarray\":[\"S-Speech\",\"T-Speech\",\"Music\"],\"tickfont\":{\"size\":16},\"linecolor\":\"black\",\"gridcolor\":\"lightgray\",\"mirror\":false},\"legend\":{\"title\":{\"text\":\"Speaker\"},\"tracegroupgap\":0},\"margin\":{\"t\":60},\"barmode\":\"overlay\",\"plot_bgcolor\":\"white\",\"width\":700,\"height\":450},                        {\"responsive\": true}                    ).then(function(){\n",
       "                            \n",
       "var gd = document.getElementById('2bdd4e63-107a-4ba7-ade7-e3b49346c484');\n",
       "var x = new MutationObserver(function (mutations, observer) {{\n",
       "        var display = window.getComputedStyle(gd).display;\n",
       "        if (!display || display === 'none') {{\n",
       "            console.log([gd, 'removed!']);\n",
       "            Plotly.purge(gd);\n",
       "            observer.disconnect();\n",
       "        }}\n",
       "}});\n",
       "\n",
       "// Listen for the removal of the full notebook cells\n",
       "var notebookContainer = gd.closest('#notebook-container');\n",
       "if (notebookContainer) {{\n",
       "    x.observe(notebookContainer, {childList: true});\n",
       "}}\n",
       "\n",
       "// Listen for the clearing of the current output cell\n",
       "var outputEl = gd.closest('.output');\n",
       "if (outputEl) {{\n",
       "    x.observe(outputEl, {childList: true});\n",
       "}}\n",
       "\n",
       "                        })                };                });            </script>        </div>"
      ]
     },
     "metadata": {},
     "output_type": "display_data"
    }
   ],
   "source": [
    "#Music、T-Speech、S-Speechの色付け\n",
    "#参考：https://plotly.com/python/gantt/\n",
    "\n",
    "import pandas as pd\n",
    "import datetime\n",
    "import plotly.express as px\n",
    "import plotly.io as pio\n",
    "import numpy as np\n",
    "import plotly.colors\n",
    "from datetime import timedelta\n",
    "import matplotlib\n",
    "import plotly.graph_objects as go\n",
    "\n",
    "df= pd.read_excel('./分析データto三浦さん/エクセルファイル/ameria(修正+label).xlsx', sheet_name='1')\n",
    "\n",
    "total_time=sum((df['end']-df['start']).dt.total_seconds()/60) #合計時間\n",
    "df_m=df[(df['Speaker']=='Music')]\n",
    "df_t=df[(df['Speaker']=='T-Speech')]\n",
    "df_s=df[(df['Speaker']=='S-Speech')]   \n",
    "m_time=sum((df_m['end']-df_m['start']).dt.total_seconds()/60) #演奏時間\n",
    "t_time=sum((df_t['end']-df_t['start']).dt.total_seconds()/60) #教師の発話時間\n",
    "s_time=sum((df_s['end']-df_s['start']).dt.total_seconds()/60) #生徒の発話時間\n",
    "m_ratio=(m_time/total_time)*100 #稼働率\n",
    "t_ratio=(t_time/total_time)*100 #稼働率\n",
    "s_ratio=(s_time/total_time)*100 #稼働率\n",
    "\n",
    "fig= px.timeline(df, x_start=\"start\", x_end=\"end\", y=\"Speaker\",\n",
    "                 category_orders={\"Speaker\":[\"Music\",\"T-Speech\",\"S-Speech\"]},\n",
    "                 color=\"Speaker\", color_discrete_map={'Music':'blue',\n",
    "                                                      'T-Speech':'limegreen',\n",
    "                                                      'S-Speech':'red'})#\"大分類\", #大分類で色分け\n",
    "                            #color_discrete_map={'A':'rgb(255,50,50)',\n",
    "                                                                   #'B':'rgb(255,153,50)',\n",
    "                                                                   #'C':'rgb(0,203,152)',\n",
    "                                                                   #'D':'rgb(127,0,255)',\n",
    "                                                                   #'E':'rgb(101,140,255)'},\n",
    "                            #title=f\"教師の発話時間:{round(t_time, 1)}min,割合:{round(t_ratio, 1)}%,生徒の発話時間:{round(s_time, 1)}min,割合:{round(s_ratio, 1)}%,演奏時間:{round(m_time, 1)}min,割合:{round(m_ratio, 1)}%\")\n",
    "                  \n",
    "fig.update_traces(textposition=\"inside\", orientation=\"h\", showlegend=False)\n",
    "fig.update_xaxes(linecolor='black', gridcolor='white',mirror=False, ticks='inside',\n",
    "                 tickfont=dict(size=16), title='Time')\n",
    "fig.update_yaxes(categoryorder='total ascending', linecolor='black', gridcolor='lightgray',\n",
    "                 mirror=False, tickfont=dict(size=16), title_font_size=16)\n",
    "fig.update_layout(plot_bgcolor=\"white\", width=700, height=450)\n",
    "fig.update_xaxes(rangeslider_visible=True)\n",
    "fig.show()"
   ]
  },
  {
   "cell_type": "code",
   "execution_count": 3,
   "metadata": {},
   "outputs": [
    {
     "data": {
      "application/vnd.plotly.v1+json": {
       "config": {
        "plotlyServerURL": "https://plot.ly"
       },
       "data": [
        {
         "alignmentgroup": "True",
         "base": [
          "2018-08-03T00:00:00",
          "2018-08-03T00:00:53.500000",
          "2018-08-03T00:02:39.240000",
          "2018-08-03T00:02:46.360000",
          "2018-08-03T00:03:02.600000",
          "2018-08-03T00:03:06.180000",
          "2018-08-03T00:04:32.780000",
          "2018-08-03T00:04:51.160000",
          "2018-08-03T00:05:10.520000",
          "2018-08-03T00:08:24.140000",
          "2018-08-03T00:09:59.500000",
          "2018-08-03T00:10:33.400000",
          "2018-08-03T00:10:37.880000",
          "2018-08-03T00:11:47.800000",
          "2018-08-03T00:12:37.260000",
          "2018-08-03T00:14:55.220000",
          "2018-08-03T00:15:10.760000",
          "2018-08-03T00:17:04.800000",
          "2018-08-03T00:18:06.540000",
          "2018-08-03T00:18:24.760000",
          "2018-08-03T00:18:29.520000",
          "2018-08-03T00:20:22.080000",
          "2018-08-03T00:22:07.680000",
          "2018-08-03T00:22:34.140000",
          "2018-08-03T00:23:30.680000"
         ],
         "hovertemplate": "label(大)=-<br>start=%{base}<br>end=%{x}<br>Speaker=%{y}<extra></extra>",
         "legendgroup": "-",
         "marker": {
          "color": "blue",
          "pattern": {
           "shape": ""
          }
         },
         "name": "-",
         "offsetgroup": "-",
         "orientation": "h",
         "showlegend": false,
         "textposition": "inside",
         "type": "bar",
         "x": [
          35640,
          101140,
          6700,
          15400,
          2800,
          79400,
          12400,
          16780,
          193200,
          64400,
          27020,
          3900,
          66600,
          47400,
          133740,
          12700,
          112640,
          51320,
          7380,
          4180,
          112040,
          97380,
          21260,
          56080,
          101780
         ],
         "xaxis": "x",
         "y": [
          "Music",
          "Music",
          "Music",
          "Music",
          "Music",
          "Music",
          "Music",
          "Music",
          "Music",
          "Music",
          "Music",
          "Music",
          "Music",
          "Music",
          "Music",
          "Music",
          "Music",
          "Music",
          "Music",
          "Music",
          "Music",
          "Music",
          "Music",
          "Music",
          "Music"
         ],
         "yaxis": "y"
        },
        {
         "alignmentgroup": "True",
         "base": [
          "2018-08-03T00:00:02",
          "2018-08-03T00:00:22",
          "2018-08-03T00:00:31",
          "2018-08-03T00:01:06",
          "2018-08-03T00:01:16",
          "2018-08-03T00:01:22",
          "2018-08-03T00:01:34",
          "2018-08-03T00:01:43",
          "2018-08-03T00:02:00",
          "2018-08-03T00:02:27",
          "2018-08-03T00:02:44",
          "2018-08-03T00:02:52",
          "2018-08-03T00:03:46",
          "2018-08-03T00:04:24",
          "2018-08-03T00:04:28",
          "2018-08-03T00:04:37",
          "2018-08-03T00:04:51",
          "2018-08-03T00:06:04",
          "2018-08-03T00:06:22",
          "2018-08-03T00:06:29",
          "2018-08-03T00:07:57",
          "2018-08-03T00:08:15",
          "2018-08-03T00:08:22",
          "2018-08-03T00:09:39",
          "2018-08-03T00:10:14",
          "2018-08-03T00:10:27",
          "2018-08-03T00:11:04",
          "2018-08-03T00:11:45",
          "2018-08-03T00:12:08",
          "2018-08-03T00:12:24",
          "2018-08-03T00:12:29",
          "2018-08-03T00:13:25",
          "2018-08-03T00:13:46",
          "2018-08-03T00:15:27",
          "2018-08-03T00:15:44",
          "2018-08-03T00:16:04",
          "2018-08-03T00:16:32",
          "2018-08-03T00:17:30",
          "2018-08-03T00:19:06",
          "2018-08-03T00:19:59",
          "2018-08-03T00:20:05",
          "2018-08-03T00:20:29",
          "2018-08-03T00:20:48",
          "2018-08-03T00:20:50",
          "2018-08-03T00:21:00",
          "2018-08-03T00:21:41",
          "2018-08-03T00:22:29",
          "2018-08-03T00:22:44",
          "2018-08-03T00:23:06",
          "2018-08-03T00:23:43",
          "2018-08-03T00:24:24",
          "2018-08-03T00:24:50",
          "2018-08-03T00:25:15",
          "2018-08-03T00:00:00",
          "2018-08-03T00:00:09",
          "2018-08-03T00:00:18",
          "2018-08-03T00:00:20",
          "2018-08-03T00:00:24",
          "2018-08-03T00:01:02",
          "2018-08-03T00:01:17",
          "2018-08-03T00:01:39",
          "2018-08-03T00:01:49",
          "2018-08-03T00:02:19",
          "2018-08-03T00:02:47",
          "2018-08-03T00:03:27",
          "2018-08-03T00:03:43",
          "2018-08-03T00:04:22",
          "2018-08-03T00:04:25",
          "2018-08-03T00:04:34",
          "2018-08-03T00:04:51",
          "2018-08-03T00:05:47",
          "2018-08-03T00:06:26",
          "2018-08-03T00:06:44",
          "2018-08-03T00:07:06",
          "2018-08-03T00:07:39",
          "2018-08-03T00:07:44",
          "2018-08-03T00:07:57",
          "2018-08-03T00:07:59",
          "2018-08-03T00:08:13",
          "2018-08-03T00:08:25",
          "2018-08-03T00:08:28",
          "2018-08-03T00:08:39",
          "2018-08-03T00:08:51",
          "2018-08-03T00:09:11",
          "2018-08-03T00:09:59",
          "2018-08-03T00:10:10",
          "2018-08-03T00:10:14",
          "2018-08-03T00:10:17",
          "2018-08-03T00:10:21",
          "2018-08-03T00:10:29",
          "2018-08-03T00:10:33",
          "2018-08-03T00:10:42",
          "2018-08-03T00:10:57",
          "2018-08-03T00:11:32",
          "2018-08-03T00:11:49",
          "2018-08-03T00:11:57",
          "2018-08-03T00:12:24",
          "2018-08-03T00:12:38",
          "2018-08-03T00:12:50",
          "2018-08-03T00:13:07",
          "2018-08-03T00:13:40",
          "2018-08-03T00:13:50",
          "2018-08-03T00:13:58",
          "2018-08-03T00:14:05",
          "2018-08-03T00:15:22",
          "2018-08-03T00:15:31",
          "2018-08-03T00:15:42",
          "2018-08-03T00:16:00",
          "2018-08-03T00:16:03",
          "2018-08-03T00:16:26",
          "2018-08-03T00:16:44",
          "2018-08-03T00:17:08",
          "2018-08-03T00:17:23",
          "2018-08-03T00:17:32",
          "2018-08-03T00:18:35",
          "2018-08-03T00:19:00",
          "2018-08-03T00:19:13",
          "2018-08-03T00:19:56",
          "2018-08-03T00:20:08",
          "2018-08-03T00:20:16",
          "2018-08-03T00:20:42",
          "2018-08-03T00:21:01",
          "2018-08-03T00:21:13",
          "2018-08-03T00:21:32",
          "2018-08-03T00:22:00",
          "2018-08-03T00:22:26",
          "2018-08-03T00:22:36",
          "2018-08-03T00:22:47",
          "2018-08-03T00:22:59",
          "2018-08-03T00:23:23",
          "2018-08-03T00:24:25",
          "2018-08-03T00:24:42",
          "2018-08-03T00:25:08",
          "2018-08-03T00:25:19"
         ],
         "hovertemplate": "label(大)=(b)意図的に用いる音楽表現<br>start=%{base}<br>end=%{x}<br>Speaker=%{y}<extra></extra>",
         "legendgroup": "(b)意図的に用いる音楽表現",
         "marker": {
          "color": "orange",
          "pattern": {
           "shape": ""
          }
         },
         "name": "(b)意図的に用いる音楽表現",
         "offsetgroup": "(b)意図的に用いる音楽表現",
         "orientation": "h",
         "showlegend": false,
         "textposition": "inside",
         "type": "bar",
         "x": [
          2000,
          1000,
          3000,
          6000,
          2000,
          6000,
          2000,
          6000,
          1000,
          13000,
          4000,
          5000,
          2000,
          1000,
          6000,
          10000,
          5000,
          2000,
          3000,
          1000,
          1000,
          1000,
          2000,
          20000,
          1000,
          6000,
          2000,
          4000,
          2000,
          1000,
          8000,
          3000,
          1000,
          4000,
          5000,
          2000,
          1000,
          3000,
          3000,
          5000,
          1000,
          2000,
          1000,
          2000,
          2000,
          2000,
          7000,
          3000,
          2000,
          1000,
          2000,
          1000,
          3000,
          7000,
          4000,
          2000,
          3000,
          7000,
          7000,
          11000,
          7000,
          11000,
          12000,
          11000,
          3000,
          10000,
          2000,
          4000,
          9000,
          2000,
          3000,
          3000,
          2000,
          4000,
          2000,
          5000,
          1000,
          3000,
          6000,
          1000,
          4000,
          6000,
          2000,
          29000,
          7000,
          3000,
          2000,
          3000,
          7000,
          3000,
          4000,
          4000,
          7000,
          14000,
          4000,
          23000,
          9000,
          2000,
          8000,
          2000,
          3000,
          2000,
          6000,
          2000,
          6000,
          9000,
          5000,
          2000,
          2000,
          11000,
          13000,
          4000,
          6000,
          2000,
          8000,
          5000,
          1000,
          4000,
          4000,
          5000,
          5000,
          10000,
          12000,
          2000,
          19000,
          5000,
          9000,
          7000,
          12000,
          8000,
          6000,
          2000,
          10000,
          1000
         ],
         "xaxis": "x",
         "y": [
          "S-Speech",
          "S-Speech",
          "S-Speech",
          "S-Speech",
          "S-Speech",
          "S-Speech",
          "S-Speech",
          "S-Speech",
          "S-Speech",
          "S-Speech",
          "S-Speech",
          "S-Speech",
          "S-Speech",
          "S-Speech",
          "S-Speech",
          "S-Speech",
          "S-Speech",
          "S-Speech",
          "S-Speech",
          "S-Speech",
          "S-Speech",
          "S-Speech",
          "S-Speech",
          "S-Speech",
          "S-Speech",
          "S-Speech",
          "S-Speech",
          "S-Speech",
          "S-Speech",
          "S-Speech",
          "S-Speech",
          "S-Speech",
          "S-Speech",
          "S-Speech",
          "S-Speech",
          "S-Speech",
          "S-Speech",
          "S-Speech",
          "S-Speech",
          "S-Speech",
          "S-Speech",
          "S-Speech",
          "S-Speech",
          "S-Speech",
          "S-Speech",
          "S-Speech",
          "S-Speech",
          "S-Speech",
          "S-Speech",
          "S-Speech",
          "S-Speech",
          "S-Speech",
          "S-Speech",
          "T-Speech",
          "T-Speech",
          "T-Speech",
          "T-Speech",
          "T-Speech",
          "T-Speech",
          "T-Speech",
          "T-Speech",
          "T-Speech",
          "T-Speech",
          "T-Speech",
          "T-Speech",
          "T-Speech",
          "T-Speech",
          "T-Speech",
          "T-Speech",
          "T-Speech",
          "T-Speech",
          "T-Speech",
          "T-Speech",
          "T-Speech",
          "T-Speech",
          "T-Speech",
          "T-Speech",
          "T-Speech",
          "T-Speech",
          "T-Speech",
          "T-Speech",
          "T-Speech",
          "T-Speech",
          "T-Speech",
          "T-Speech",
          "T-Speech",
          "T-Speech",
          "T-Speech",
          "T-Speech",
          "T-Speech",
          "T-Speech",
          "T-Speech",
          "T-Speech",
          "T-Speech",
          "T-Speech",
          "T-Speech",
          "T-Speech",
          "T-Speech",
          "T-Speech",
          "T-Speech",
          "T-Speech",
          "T-Speech",
          "T-Speech",
          "T-Speech",
          "T-Speech",
          "T-Speech",
          "T-Speech",
          "T-Speech",
          "T-Speech",
          "T-Speech",
          "T-Speech",
          "T-Speech",
          "T-Speech",
          "T-Speech",
          "T-Speech",
          "T-Speech",
          "T-Speech",
          "T-Speech",
          "T-Speech",
          "T-Speech",
          "T-Speech",
          "T-Speech",
          "T-Speech",
          "T-Speech",
          "T-Speech",
          "T-Speech",
          "T-Speech",
          "T-Speech",
          "T-Speech",
          "T-Speech",
          "T-Speech",
          "T-Speech",
          "T-Speech",
          "T-Speech"
         ],
         "yaxis": "y"
        },
        {
         "alignmentgroup": "True",
         "base": [
          "2018-08-03T00:00:35",
          "2018-08-03T00:00:42",
          "2018-08-03T00:00:50",
          "2018-08-03T00:02:58",
          "2018-08-03T00:00:33",
          "2018-08-03T00:00:45",
          "2018-08-03T00:18:24"
         ],
         "hovertemplate": "label(大)=(d)その他<br>start=%{base}<br>end=%{x}<br>Speaker=%{y}<extra></extra>",
         "legendgroup": "(d)その他",
         "marker": {
          "color": "gray",
          "pattern": {
           "shape": ""
          }
         },
         "name": "(d)その他",
         "offsetgroup": "(d)その他",
         "orientation": "h",
         "showlegend": false,
         "textposition": "inside",
         "type": "bar",
         "x": [
          5000,
          2000,
          3000,
          30000,
          8000,
          5000,
          3000
         ],
         "xaxis": "x",
         "y": [
          "S-Speech",
          "S-Speech",
          "S-Speech",
          "S-Speech",
          "T-Speech",
          "T-Speech",
          "T-Speech"
         ],
         "yaxis": "y"
        },
        {
         "alignmentgroup": "True",
         "base": [
          "2018-08-03T00:00:54",
          "2018-08-03T00:01:01",
          "2018-08-03T00:02:06",
          "2018-08-03T00:02:10",
          "2018-08-03T00:02:16",
          "2018-08-03T00:05:00",
          "2018-08-03T00:05:06",
          "2018-08-03T00:07:33",
          "2018-08-03T00:11:14",
          "2018-08-03T00:11:32",
          "2018-08-03T00:14:22",
          "2018-08-03T00:14:48",
          "2018-08-03T00:15:03",
          "2018-08-03T00:17:40",
          "2018-08-03T00:17:47",
          "2018-08-03T00:17:56",
          "2018-08-03T00:18:02",
          "2018-08-03T00:18:11",
          "2018-08-03T00:18:14",
          "2018-08-03T00:02:05",
          "2018-08-03T00:04:55",
          "2018-08-03T00:07:28",
          "2018-08-03T00:11:08",
          "2018-08-03T00:11:15",
          "2018-08-03T00:11:26",
          "2018-08-03T00:14:17",
          "2018-08-03T00:14:24",
          "2018-08-03T00:14:40",
          "2018-08-03T00:14:50",
          "2018-08-03T00:14:57",
          "2018-08-03T00:15:05",
          "2018-08-03T00:15:08",
          "2018-08-03T00:17:37",
          "2018-08-03T00:17:45",
          "2018-08-03T00:17:57",
          "2018-08-03T00:21:48"
         ],
         "hovertemplate": "label(大)=(c)身体的なテクニック<br>start=%{base}<br>end=%{x}<br>Speaker=%{y}<extra></extra>",
         "legendgroup": "(c)身体的なテクニック",
         "marker": {
          "color": "red",
          "pattern": {
           "shape": ""
          }
         },
         "name": "(c)身体的なテクニック",
         "offsetgroup": "(c)身体的なテクニック",
         "orientation": "h",
         "showlegend": false,
         "textposition": "inside",
         "type": "bar",
         "x": [
          2000,
          2000,
          3000,
          5000,
          3000,
          4000,
          4000,
          3000,
          3000,
          1000,
          3000,
          2000,
          7000,
          2000,
          1000,
          2000,
          7000,
          2000,
          11000,
          13000,
          9000,
          8000,
          3000,
          2000,
          2000,
          6000,
          6000,
          9000,
          5000,
          6000,
          2000,
          2000,
          3000,
          11000,
          7000,
          2000
         ],
         "xaxis": "x",
         "y": [
          "S-Speech",
          "S-Speech",
          "S-Speech",
          "S-Speech",
          "S-Speech",
          "S-Speech",
          "S-Speech",
          "S-Speech",
          "S-Speech",
          "S-Speech",
          "S-Speech",
          "S-Speech",
          "S-Speech",
          "S-Speech",
          "S-Speech",
          "S-Speech",
          "S-Speech",
          "S-Speech",
          "S-Speech",
          "T-Speech",
          "T-Speech",
          "T-Speech",
          "T-Speech",
          "T-Speech",
          "T-Speech",
          "T-Speech",
          "T-Speech",
          "T-Speech",
          "T-Speech",
          "T-Speech",
          "T-Speech",
          "T-Speech",
          "T-Speech",
          "T-Speech",
          "T-Speech",
          "T-Speech"
         ],
         "yaxis": "y"
        }
       ],
       "layout": {
        "barmode": "overlay",
        "height": 450,
        "legend": {
         "title": {
          "text": "label(大)"
         },
         "tracegroupgap": 0
        },
        "margin": {
         "t": 60
        },
        "plot_bgcolor": "white",
        "template": {
         "data": {
          "bar": [
           {
            "error_x": {
             "color": "#2a3f5f"
            },
            "error_y": {
             "color": "#2a3f5f"
            },
            "marker": {
             "line": {
              "color": "#E5ECF6",
              "width": 0.5
             },
             "pattern": {
              "fillmode": "overlay",
              "size": 10,
              "solidity": 0.2
             }
            },
            "type": "bar"
           }
          ],
          "barpolar": [
           {
            "marker": {
             "line": {
              "color": "#E5ECF6",
              "width": 0.5
             },
             "pattern": {
              "fillmode": "overlay",
              "size": 10,
              "solidity": 0.2
             }
            },
            "type": "barpolar"
           }
          ],
          "carpet": [
           {
            "aaxis": {
             "endlinecolor": "#2a3f5f",
             "gridcolor": "white",
             "linecolor": "white",
             "minorgridcolor": "white",
             "startlinecolor": "#2a3f5f"
            },
            "baxis": {
             "endlinecolor": "#2a3f5f",
             "gridcolor": "white",
             "linecolor": "white",
             "minorgridcolor": "white",
             "startlinecolor": "#2a3f5f"
            },
            "type": "carpet"
           }
          ],
          "choropleth": [
           {
            "colorbar": {
             "outlinewidth": 0,
             "ticks": ""
            },
            "type": "choropleth"
           }
          ],
          "contour": [
           {
            "colorbar": {
             "outlinewidth": 0,
             "ticks": ""
            },
            "colorscale": [
             [
              0,
              "#0d0887"
             ],
             [
              0.1111111111111111,
              "#46039f"
             ],
             [
              0.2222222222222222,
              "#7201a8"
             ],
             [
              0.3333333333333333,
              "#9c179e"
             ],
             [
              0.4444444444444444,
              "#bd3786"
             ],
             [
              0.5555555555555556,
              "#d8576b"
             ],
             [
              0.6666666666666666,
              "#ed7953"
             ],
             [
              0.7777777777777778,
              "#fb9f3a"
             ],
             [
              0.8888888888888888,
              "#fdca26"
             ],
             [
              1,
              "#f0f921"
             ]
            ],
            "type": "contour"
           }
          ],
          "contourcarpet": [
           {
            "colorbar": {
             "outlinewidth": 0,
             "ticks": ""
            },
            "type": "contourcarpet"
           }
          ],
          "heatmap": [
           {
            "colorbar": {
             "outlinewidth": 0,
             "ticks": ""
            },
            "colorscale": [
             [
              0,
              "#0d0887"
             ],
             [
              0.1111111111111111,
              "#46039f"
             ],
             [
              0.2222222222222222,
              "#7201a8"
             ],
             [
              0.3333333333333333,
              "#9c179e"
             ],
             [
              0.4444444444444444,
              "#bd3786"
             ],
             [
              0.5555555555555556,
              "#d8576b"
             ],
             [
              0.6666666666666666,
              "#ed7953"
             ],
             [
              0.7777777777777778,
              "#fb9f3a"
             ],
             [
              0.8888888888888888,
              "#fdca26"
             ],
             [
              1,
              "#f0f921"
             ]
            ],
            "type": "heatmap"
           }
          ],
          "heatmapgl": [
           {
            "colorbar": {
             "outlinewidth": 0,
             "ticks": ""
            },
            "colorscale": [
             [
              0,
              "#0d0887"
             ],
             [
              0.1111111111111111,
              "#46039f"
             ],
             [
              0.2222222222222222,
              "#7201a8"
             ],
             [
              0.3333333333333333,
              "#9c179e"
             ],
             [
              0.4444444444444444,
              "#bd3786"
             ],
             [
              0.5555555555555556,
              "#d8576b"
             ],
             [
              0.6666666666666666,
              "#ed7953"
             ],
             [
              0.7777777777777778,
              "#fb9f3a"
             ],
             [
              0.8888888888888888,
              "#fdca26"
             ],
             [
              1,
              "#f0f921"
             ]
            ],
            "type": "heatmapgl"
           }
          ],
          "histogram": [
           {
            "marker": {
             "pattern": {
              "fillmode": "overlay",
              "size": 10,
              "solidity": 0.2
             }
            },
            "type": "histogram"
           }
          ],
          "histogram2d": [
           {
            "colorbar": {
             "outlinewidth": 0,
             "ticks": ""
            },
            "colorscale": [
             [
              0,
              "#0d0887"
             ],
             [
              0.1111111111111111,
              "#46039f"
             ],
             [
              0.2222222222222222,
              "#7201a8"
             ],
             [
              0.3333333333333333,
              "#9c179e"
             ],
             [
              0.4444444444444444,
              "#bd3786"
             ],
             [
              0.5555555555555556,
              "#d8576b"
             ],
             [
              0.6666666666666666,
              "#ed7953"
             ],
             [
              0.7777777777777778,
              "#fb9f3a"
             ],
             [
              0.8888888888888888,
              "#fdca26"
             ],
             [
              1,
              "#f0f921"
             ]
            ],
            "type": "histogram2d"
           }
          ],
          "histogram2dcontour": [
           {
            "colorbar": {
             "outlinewidth": 0,
             "ticks": ""
            },
            "colorscale": [
             [
              0,
              "#0d0887"
             ],
             [
              0.1111111111111111,
              "#46039f"
             ],
             [
              0.2222222222222222,
              "#7201a8"
             ],
             [
              0.3333333333333333,
              "#9c179e"
             ],
             [
              0.4444444444444444,
              "#bd3786"
             ],
             [
              0.5555555555555556,
              "#d8576b"
             ],
             [
              0.6666666666666666,
              "#ed7953"
             ],
             [
              0.7777777777777778,
              "#fb9f3a"
             ],
             [
              0.8888888888888888,
              "#fdca26"
             ],
             [
              1,
              "#f0f921"
             ]
            ],
            "type": "histogram2dcontour"
           }
          ],
          "mesh3d": [
           {
            "colorbar": {
             "outlinewidth": 0,
             "ticks": ""
            },
            "type": "mesh3d"
           }
          ],
          "parcoords": [
           {
            "line": {
             "colorbar": {
              "outlinewidth": 0,
              "ticks": ""
             }
            },
            "type": "parcoords"
           }
          ],
          "pie": [
           {
            "automargin": true,
            "type": "pie"
           }
          ],
          "scatter": [
           {
            "fillpattern": {
             "fillmode": "overlay",
             "size": 10,
             "solidity": 0.2
            },
            "type": "scatter"
           }
          ],
          "scatter3d": [
           {
            "line": {
             "colorbar": {
              "outlinewidth": 0,
              "ticks": ""
             }
            },
            "marker": {
             "colorbar": {
              "outlinewidth": 0,
              "ticks": ""
             }
            },
            "type": "scatter3d"
           }
          ],
          "scattercarpet": [
           {
            "marker": {
             "colorbar": {
              "outlinewidth": 0,
              "ticks": ""
             }
            },
            "type": "scattercarpet"
           }
          ],
          "scattergeo": [
           {
            "marker": {
             "colorbar": {
              "outlinewidth": 0,
              "ticks": ""
             }
            },
            "type": "scattergeo"
           }
          ],
          "scattergl": [
           {
            "marker": {
             "colorbar": {
              "outlinewidth": 0,
              "ticks": ""
             }
            },
            "type": "scattergl"
           }
          ],
          "scattermapbox": [
           {
            "marker": {
             "colorbar": {
              "outlinewidth": 0,
              "ticks": ""
             }
            },
            "type": "scattermapbox"
           }
          ],
          "scatterpolar": [
           {
            "marker": {
             "colorbar": {
              "outlinewidth": 0,
              "ticks": ""
             }
            },
            "type": "scatterpolar"
           }
          ],
          "scatterpolargl": [
           {
            "marker": {
             "colorbar": {
              "outlinewidth": 0,
              "ticks": ""
             }
            },
            "type": "scatterpolargl"
           }
          ],
          "scatterternary": [
           {
            "marker": {
             "colorbar": {
              "outlinewidth": 0,
              "ticks": ""
             }
            },
            "type": "scatterternary"
           }
          ],
          "surface": [
           {
            "colorbar": {
             "outlinewidth": 0,
             "ticks": ""
            },
            "colorscale": [
             [
              0,
              "#0d0887"
             ],
             [
              0.1111111111111111,
              "#46039f"
             ],
             [
              0.2222222222222222,
              "#7201a8"
             ],
             [
              0.3333333333333333,
              "#9c179e"
             ],
             [
              0.4444444444444444,
              "#bd3786"
             ],
             [
              0.5555555555555556,
              "#d8576b"
             ],
             [
              0.6666666666666666,
              "#ed7953"
             ],
             [
              0.7777777777777778,
              "#fb9f3a"
             ],
             [
              0.8888888888888888,
              "#fdca26"
             ],
             [
              1,
              "#f0f921"
             ]
            ],
            "type": "surface"
           }
          ],
          "table": [
           {
            "cells": {
             "fill": {
              "color": "#EBF0F8"
             },
             "line": {
              "color": "white"
             }
            },
            "header": {
             "fill": {
              "color": "#C8D4E3"
             },
             "line": {
              "color": "white"
             }
            },
            "type": "table"
           }
          ]
         },
         "layout": {
          "annotationdefaults": {
           "arrowcolor": "#2a3f5f",
           "arrowhead": 0,
           "arrowwidth": 1
          },
          "autotypenumbers": "strict",
          "coloraxis": {
           "colorbar": {
            "outlinewidth": 0,
            "ticks": ""
           }
          },
          "colorscale": {
           "diverging": [
            [
             0,
             "#8e0152"
            ],
            [
             0.1,
             "#c51b7d"
            ],
            [
             0.2,
             "#de77ae"
            ],
            [
             0.3,
             "#f1b6da"
            ],
            [
             0.4,
             "#fde0ef"
            ],
            [
             0.5,
             "#f7f7f7"
            ],
            [
             0.6,
             "#e6f5d0"
            ],
            [
             0.7,
             "#b8e186"
            ],
            [
             0.8,
             "#7fbc41"
            ],
            [
             0.9,
             "#4d9221"
            ],
            [
             1,
             "#276419"
            ]
           ],
           "sequential": [
            [
             0,
             "#0d0887"
            ],
            [
             0.1111111111111111,
             "#46039f"
            ],
            [
             0.2222222222222222,
             "#7201a8"
            ],
            [
             0.3333333333333333,
             "#9c179e"
            ],
            [
             0.4444444444444444,
             "#bd3786"
            ],
            [
             0.5555555555555556,
             "#d8576b"
            ],
            [
             0.6666666666666666,
             "#ed7953"
            ],
            [
             0.7777777777777778,
             "#fb9f3a"
            ],
            [
             0.8888888888888888,
             "#fdca26"
            ],
            [
             1,
             "#f0f921"
            ]
           ],
           "sequentialminus": [
            [
             0,
             "#0d0887"
            ],
            [
             0.1111111111111111,
             "#46039f"
            ],
            [
             0.2222222222222222,
             "#7201a8"
            ],
            [
             0.3333333333333333,
             "#9c179e"
            ],
            [
             0.4444444444444444,
             "#bd3786"
            ],
            [
             0.5555555555555556,
             "#d8576b"
            ],
            [
             0.6666666666666666,
             "#ed7953"
            ],
            [
             0.7777777777777778,
             "#fb9f3a"
            ],
            [
             0.8888888888888888,
             "#fdca26"
            ],
            [
             1,
             "#f0f921"
            ]
           ]
          },
          "colorway": [
           "#636efa",
           "#EF553B",
           "#00cc96",
           "#ab63fa",
           "#FFA15A",
           "#19d3f3",
           "#FF6692",
           "#B6E880",
           "#FF97FF",
           "#FECB52"
          ],
          "font": {
           "color": "#2a3f5f"
          },
          "geo": {
           "bgcolor": "white",
           "lakecolor": "white",
           "landcolor": "#E5ECF6",
           "showlakes": true,
           "showland": true,
           "subunitcolor": "white"
          },
          "hoverlabel": {
           "align": "left"
          },
          "hovermode": "closest",
          "mapbox": {
           "style": "light"
          },
          "paper_bgcolor": "white",
          "plot_bgcolor": "#E5ECF6",
          "polar": {
           "angularaxis": {
            "gridcolor": "white",
            "linecolor": "white",
            "ticks": ""
           },
           "bgcolor": "#E5ECF6",
           "radialaxis": {
            "gridcolor": "white",
            "linecolor": "white",
            "ticks": ""
           }
          },
          "scene": {
           "xaxis": {
            "backgroundcolor": "#E5ECF6",
            "gridcolor": "white",
            "gridwidth": 2,
            "linecolor": "white",
            "showbackground": true,
            "ticks": "",
            "zerolinecolor": "white"
           },
           "yaxis": {
            "backgroundcolor": "#E5ECF6",
            "gridcolor": "white",
            "gridwidth": 2,
            "linecolor": "white",
            "showbackground": true,
            "ticks": "",
            "zerolinecolor": "white"
           },
           "zaxis": {
            "backgroundcolor": "#E5ECF6",
            "gridcolor": "white",
            "gridwidth": 2,
            "linecolor": "white",
            "showbackground": true,
            "ticks": "",
            "zerolinecolor": "white"
           }
          },
          "shapedefaults": {
           "line": {
            "color": "#2a3f5f"
           }
          },
          "ternary": {
           "aaxis": {
            "gridcolor": "white",
            "linecolor": "white",
            "ticks": ""
           },
           "baxis": {
            "gridcolor": "white",
            "linecolor": "white",
            "ticks": ""
           },
           "bgcolor": "#E5ECF6",
           "caxis": {
            "gridcolor": "white",
            "linecolor": "white",
            "ticks": ""
           }
          },
          "title": {
           "x": 0.05
          },
          "xaxis": {
           "automargin": true,
           "gridcolor": "white",
           "linecolor": "white",
           "ticks": "",
           "title": {
            "standoff": 15
           },
           "zerolinecolor": "white",
           "zerolinewidth": 2
          },
          "yaxis": {
           "automargin": true,
           "gridcolor": "white",
           "linecolor": "white",
           "ticks": "",
           "title": {
            "standoff": 15
           },
           "zerolinecolor": "white",
           "zerolinewidth": 2
          }
         }
        },
        "width": 700,
        "xaxis": {
         "anchor": "y",
         "domain": [
          0,
          1
         ],
         "gridcolor": "white",
         "linecolor": "black",
         "mirror": false,
         "rangeslider": {
          "visible": true
         },
         "tickfont": {
          "size": 16
         },
         "ticks": "inside",
         "title": {
          "text": "Time"
         },
         "type": "date"
        },
        "yaxis": {
         "anchor": "x",
         "categoryorder": "total ascending",
         "domain": [
          0,
          1
         ],
         "gridcolor": "lightgray",
         "linecolor": "black",
         "mirror": false,
         "tickfont": {
          "size": 16
         },
         "title": {
          "font": {
           "size": 16
          },
          "text": "Speaker"
         }
        }
       }
      },
      "text/html": [
       "<div>                            <div id=\"da078320-22d4-47fc-b133-2b1e878ac349\" class=\"plotly-graph-div\" style=\"height:450px; width:700px;\"></div>            <script type=\"text/javascript\">                require([\"plotly\"], function(Plotly) {                    window.PLOTLYENV=window.PLOTLYENV || {};                                    if (document.getElementById(\"da078320-22d4-47fc-b133-2b1e878ac349\")) {                    Plotly.newPlot(                        \"da078320-22d4-47fc-b133-2b1e878ac349\",                        [{\"alignmentgroup\":\"True\",\"base\":[\"2018-08-03T00:00:00\",\"2018-08-03T00:00:53.500000\",\"2018-08-03T00:02:39.240000\",\"2018-08-03T00:02:46.360000\",\"2018-08-03T00:03:02.600000\",\"2018-08-03T00:03:06.180000\",\"2018-08-03T00:04:32.780000\",\"2018-08-03T00:04:51.160000\",\"2018-08-03T00:05:10.520000\",\"2018-08-03T00:08:24.140000\",\"2018-08-03T00:09:59.500000\",\"2018-08-03T00:10:33.400000\",\"2018-08-03T00:10:37.880000\",\"2018-08-03T00:11:47.800000\",\"2018-08-03T00:12:37.260000\",\"2018-08-03T00:14:55.220000\",\"2018-08-03T00:15:10.760000\",\"2018-08-03T00:17:04.800000\",\"2018-08-03T00:18:06.540000\",\"2018-08-03T00:18:24.760000\",\"2018-08-03T00:18:29.520000\",\"2018-08-03T00:20:22.080000\",\"2018-08-03T00:22:07.680000\",\"2018-08-03T00:22:34.140000\",\"2018-08-03T00:23:30.680000\"],\"hovertemplate\":\"label(大)=-<br>start=%{base}<br>end=%{x}<br>Speaker=%{y}<extra></extra>\",\"legendgroup\":\"-\",\"marker\":{\"color\":\"blue\",\"pattern\":{\"shape\":\"\"}},\"name\":\"-\",\"offsetgroup\":\"-\",\"orientation\":\"h\",\"showlegend\":false,\"textposition\":\"inside\",\"x\":[35640.0,101140.0,6700.0,15400.0,2800.0,79400.0,12400.0,16780.0,193200.0,64400.0,27020.0,3900.0,66600.0,47400.0,133740.0,12700.0,112640.0,51320.0,7380.0,4180.0,112040.0,97380.0,21260.0,56080.0,101780.0],\"xaxis\":\"x\",\"y\":[\"Music\",\"Music\",\"Music\",\"Music\",\"Music\",\"Music\",\"Music\",\"Music\",\"Music\",\"Music\",\"Music\",\"Music\",\"Music\",\"Music\",\"Music\",\"Music\",\"Music\",\"Music\",\"Music\",\"Music\",\"Music\",\"Music\",\"Music\",\"Music\",\"Music\"],\"yaxis\":\"y\",\"type\":\"bar\"},{\"alignmentgroup\":\"True\",\"base\":[\"2018-08-03T00:00:02\",\"2018-08-03T00:00:22\",\"2018-08-03T00:00:31\",\"2018-08-03T00:01:06\",\"2018-08-03T00:01:16\",\"2018-08-03T00:01:22\",\"2018-08-03T00:01:34\",\"2018-08-03T00:01:43\",\"2018-08-03T00:02:00\",\"2018-08-03T00:02:27\",\"2018-08-03T00:02:44\",\"2018-08-03T00:02:52\",\"2018-08-03T00:03:46\",\"2018-08-03T00:04:24\",\"2018-08-03T00:04:28\",\"2018-08-03T00:04:37\",\"2018-08-03T00:04:51\",\"2018-08-03T00:06:04\",\"2018-08-03T00:06:22\",\"2018-08-03T00:06:29\",\"2018-08-03T00:07:57\",\"2018-08-03T00:08:15\",\"2018-08-03T00:08:22\",\"2018-08-03T00:09:39\",\"2018-08-03T00:10:14\",\"2018-08-03T00:10:27\",\"2018-08-03T00:11:04\",\"2018-08-03T00:11:45\",\"2018-08-03T00:12:08\",\"2018-08-03T00:12:24\",\"2018-08-03T00:12:29\",\"2018-08-03T00:13:25\",\"2018-08-03T00:13:46\",\"2018-08-03T00:15:27\",\"2018-08-03T00:15:44\",\"2018-08-03T00:16:04\",\"2018-08-03T00:16:32\",\"2018-08-03T00:17:30\",\"2018-08-03T00:19:06\",\"2018-08-03T00:19:59\",\"2018-08-03T00:20:05\",\"2018-08-03T00:20:29\",\"2018-08-03T00:20:48\",\"2018-08-03T00:20:50\",\"2018-08-03T00:21:00\",\"2018-08-03T00:21:41\",\"2018-08-03T00:22:29\",\"2018-08-03T00:22:44\",\"2018-08-03T00:23:06\",\"2018-08-03T00:23:43\",\"2018-08-03T00:24:24\",\"2018-08-03T00:24:50\",\"2018-08-03T00:25:15\",\"2018-08-03T00:00:00\",\"2018-08-03T00:00:09\",\"2018-08-03T00:00:18\",\"2018-08-03T00:00:20\",\"2018-08-03T00:00:24\",\"2018-08-03T00:01:02\",\"2018-08-03T00:01:17\",\"2018-08-03T00:01:39\",\"2018-08-03T00:01:49\",\"2018-08-03T00:02:19\",\"2018-08-03T00:02:47\",\"2018-08-03T00:03:27\",\"2018-08-03T00:03:43\",\"2018-08-03T00:04:22\",\"2018-08-03T00:04:25\",\"2018-08-03T00:04:34\",\"2018-08-03T00:04:51\",\"2018-08-03T00:05:47\",\"2018-08-03T00:06:26\",\"2018-08-03T00:06:44\",\"2018-08-03T00:07:06\",\"2018-08-03T00:07:39\",\"2018-08-03T00:07:44\",\"2018-08-03T00:07:57\",\"2018-08-03T00:07:59\",\"2018-08-03T00:08:13\",\"2018-08-03T00:08:25\",\"2018-08-03T00:08:28\",\"2018-08-03T00:08:39\",\"2018-08-03T00:08:51\",\"2018-08-03T00:09:11\",\"2018-08-03T00:09:59\",\"2018-08-03T00:10:10\",\"2018-08-03T00:10:14\",\"2018-08-03T00:10:17\",\"2018-08-03T00:10:21\",\"2018-08-03T00:10:29\",\"2018-08-03T00:10:33\",\"2018-08-03T00:10:42\",\"2018-08-03T00:10:57\",\"2018-08-03T00:11:32\",\"2018-08-03T00:11:49\",\"2018-08-03T00:11:57\",\"2018-08-03T00:12:24\",\"2018-08-03T00:12:38\",\"2018-08-03T00:12:50\",\"2018-08-03T00:13:07\",\"2018-08-03T00:13:40\",\"2018-08-03T00:13:50\",\"2018-08-03T00:13:58\",\"2018-08-03T00:14:05\",\"2018-08-03T00:15:22\",\"2018-08-03T00:15:31\",\"2018-08-03T00:15:42\",\"2018-08-03T00:16:00\",\"2018-08-03T00:16:03\",\"2018-08-03T00:16:26\",\"2018-08-03T00:16:44\",\"2018-08-03T00:17:08\",\"2018-08-03T00:17:23\",\"2018-08-03T00:17:32\",\"2018-08-03T00:18:35\",\"2018-08-03T00:19:00\",\"2018-08-03T00:19:13\",\"2018-08-03T00:19:56\",\"2018-08-03T00:20:08\",\"2018-08-03T00:20:16\",\"2018-08-03T00:20:42\",\"2018-08-03T00:21:01\",\"2018-08-03T00:21:13\",\"2018-08-03T00:21:32\",\"2018-08-03T00:22:00\",\"2018-08-03T00:22:26\",\"2018-08-03T00:22:36\",\"2018-08-03T00:22:47\",\"2018-08-03T00:22:59\",\"2018-08-03T00:23:23\",\"2018-08-03T00:24:25\",\"2018-08-03T00:24:42\",\"2018-08-03T00:25:08\",\"2018-08-03T00:25:19\"],\"hovertemplate\":\"label(大)=(b)意図的に用いる音楽表現<br>start=%{base}<br>end=%{x}<br>Speaker=%{y}<extra></extra>\",\"legendgroup\":\"(b)意図的に用いる音楽表現\",\"marker\":{\"color\":\"orange\",\"pattern\":{\"shape\":\"\"}},\"name\":\"(b)意図的に用いる音楽表現\",\"offsetgroup\":\"(b)意図的に用いる音楽表現\",\"orientation\":\"h\",\"showlegend\":false,\"textposition\":\"inside\",\"x\":[2000.0,1000.0,3000.0,6000.0,2000.0,6000.0,2000.0,6000.0,1000.0,13000.0,4000.0,5000.0,2000.0,1000.0,6000.0,10000.0,5000.0,2000.0,3000.0,1000.0,1000.0,1000.0,2000.0,20000.0,1000.0,6000.0,2000.0,4000.0,2000.0,1000.0,8000.0,3000.0,1000.0,4000.0,5000.0,2000.0,1000.0,3000.0,3000.0,5000.0,1000.0,2000.0,1000.0,2000.0,2000.0,2000.0,7000.0,3000.0,2000.0,1000.0,2000.0,1000.0,3000.0,7000.0,4000.0,2000.0,3000.0,7000.0,7000.0,11000.0,7000.0,11000.0,12000.0,11000.0,3000.0,10000.0,2000.0,4000.0,9000.0,2000.0,3000.0,3000.0,2000.0,4000.0,2000.0,5000.0,1000.0,3000.0,6000.0,1000.0,4000.0,6000.0,2000.0,29000.0,7000.0,3000.0,2000.0,3000.0,7000.0,3000.0,4000.0,4000.0,7000.0,14000.0,4000.0,23000.0,9000.0,2000.0,8000.0,2000.0,3000.0,2000.0,6000.0,2000.0,6000.0,9000.0,5000.0,2000.0,2000.0,11000.0,13000.0,4000.0,6000.0,2000.0,8000.0,5000.0,1000.0,4000.0,4000.0,5000.0,5000.0,10000.0,12000.0,2000.0,19000.0,5000.0,9000.0,7000.0,12000.0,8000.0,6000.0,2000.0,10000.0,1000.0],\"xaxis\":\"x\",\"y\":[\"S-Speech\",\"S-Speech\",\"S-Speech\",\"S-Speech\",\"S-Speech\",\"S-Speech\",\"S-Speech\",\"S-Speech\",\"S-Speech\",\"S-Speech\",\"S-Speech\",\"S-Speech\",\"S-Speech\",\"S-Speech\",\"S-Speech\",\"S-Speech\",\"S-Speech\",\"S-Speech\",\"S-Speech\",\"S-Speech\",\"S-Speech\",\"S-Speech\",\"S-Speech\",\"S-Speech\",\"S-Speech\",\"S-Speech\",\"S-Speech\",\"S-Speech\",\"S-Speech\",\"S-Speech\",\"S-Speech\",\"S-Speech\",\"S-Speech\",\"S-Speech\",\"S-Speech\",\"S-Speech\",\"S-Speech\",\"S-Speech\",\"S-Speech\",\"S-Speech\",\"S-Speech\",\"S-Speech\",\"S-Speech\",\"S-Speech\",\"S-Speech\",\"S-Speech\",\"S-Speech\",\"S-Speech\",\"S-Speech\",\"S-Speech\",\"S-Speech\",\"S-Speech\",\"S-Speech\",\"T-Speech\",\"T-Speech\",\"T-Speech\",\"T-Speech\",\"T-Speech\",\"T-Speech\",\"T-Speech\",\"T-Speech\",\"T-Speech\",\"T-Speech\",\"T-Speech\",\"T-Speech\",\"T-Speech\",\"T-Speech\",\"T-Speech\",\"T-Speech\",\"T-Speech\",\"T-Speech\",\"T-Speech\",\"T-Speech\",\"T-Speech\",\"T-Speech\",\"T-Speech\",\"T-Speech\",\"T-Speech\",\"T-Speech\",\"T-Speech\",\"T-Speech\",\"T-Speech\",\"T-Speech\",\"T-Speech\",\"T-Speech\",\"T-Speech\",\"T-Speech\",\"T-Speech\",\"T-Speech\",\"T-Speech\",\"T-Speech\",\"T-Speech\",\"T-Speech\",\"T-Speech\",\"T-Speech\",\"T-Speech\",\"T-Speech\",\"T-Speech\",\"T-Speech\",\"T-Speech\",\"T-Speech\",\"T-Speech\",\"T-Speech\",\"T-Speech\",\"T-Speech\",\"T-Speech\",\"T-Speech\",\"T-Speech\",\"T-Speech\",\"T-Speech\",\"T-Speech\",\"T-Speech\",\"T-Speech\",\"T-Speech\",\"T-Speech\",\"T-Speech\",\"T-Speech\",\"T-Speech\",\"T-Speech\",\"T-Speech\",\"T-Speech\",\"T-Speech\",\"T-Speech\",\"T-Speech\",\"T-Speech\",\"T-Speech\",\"T-Speech\",\"T-Speech\",\"T-Speech\",\"T-Speech\",\"T-Speech\",\"T-Speech\",\"T-Speech\",\"T-Speech\"],\"yaxis\":\"y\",\"type\":\"bar\"},{\"alignmentgroup\":\"True\",\"base\":[\"2018-08-03T00:00:35\",\"2018-08-03T00:00:42\",\"2018-08-03T00:00:50\",\"2018-08-03T00:02:58\",\"2018-08-03T00:00:33\",\"2018-08-03T00:00:45\",\"2018-08-03T00:18:24\"],\"hovertemplate\":\"label(大)=(d)その他<br>start=%{base}<br>end=%{x}<br>Speaker=%{y}<extra></extra>\",\"legendgroup\":\"(d)その他\",\"marker\":{\"color\":\"gray\",\"pattern\":{\"shape\":\"\"}},\"name\":\"(d)その他\",\"offsetgroup\":\"(d)その他\",\"orientation\":\"h\",\"showlegend\":false,\"textposition\":\"inside\",\"x\":[5000.0,2000.0,3000.0,30000.0,8000.0,5000.0,3000.0],\"xaxis\":\"x\",\"y\":[\"S-Speech\",\"S-Speech\",\"S-Speech\",\"S-Speech\",\"T-Speech\",\"T-Speech\",\"T-Speech\"],\"yaxis\":\"y\",\"type\":\"bar\"},{\"alignmentgroup\":\"True\",\"base\":[\"2018-08-03T00:00:54\",\"2018-08-03T00:01:01\",\"2018-08-03T00:02:06\",\"2018-08-03T00:02:10\",\"2018-08-03T00:02:16\",\"2018-08-03T00:05:00\",\"2018-08-03T00:05:06\",\"2018-08-03T00:07:33\",\"2018-08-03T00:11:14\",\"2018-08-03T00:11:32\",\"2018-08-03T00:14:22\",\"2018-08-03T00:14:48\",\"2018-08-03T00:15:03\",\"2018-08-03T00:17:40\",\"2018-08-03T00:17:47\",\"2018-08-03T00:17:56\",\"2018-08-03T00:18:02\",\"2018-08-03T00:18:11\",\"2018-08-03T00:18:14\",\"2018-08-03T00:02:05\",\"2018-08-03T00:04:55\",\"2018-08-03T00:07:28\",\"2018-08-03T00:11:08\",\"2018-08-03T00:11:15\",\"2018-08-03T00:11:26\",\"2018-08-03T00:14:17\",\"2018-08-03T00:14:24\",\"2018-08-03T00:14:40\",\"2018-08-03T00:14:50\",\"2018-08-03T00:14:57\",\"2018-08-03T00:15:05\",\"2018-08-03T00:15:08\",\"2018-08-03T00:17:37\",\"2018-08-03T00:17:45\",\"2018-08-03T00:17:57\",\"2018-08-03T00:21:48\"],\"hovertemplate\":\"label(大)=(c)身体的なテクニック<br>start=%{base}<br>end=%{x}<br>Speaker=%{y}<extra></extra>\",\"legendgroup\":\"(c)身体的なテクニック\",\"marker\":{\"color\":\"red\",\"pattern\":{\"shape\":\"\"}},\"name\":\"(c)身体的なテクニック\",\"offsetgroup\":\"(c)身体的なテクニック\",\"orientation\":\"h\",\"showlegend\":false,\"textposition\":\"inside\",\"x\":[2000.0,2000.0,3000.0,5000.0,3000.0,4000.0,4000.0,3000.0,3000.0,1000.0,3000.0,2000.0,7000.0,2000.0,1000.0,2000.0,7000.0,2000.0,11000.0,13000.0,9000.0,8000.0,3000.0,2000.0,2000.0,6000.0,6000.0,9000.0,5000.0,6000.0,2000.0,2000.0,3000.0,11000.0,7000.0,2000.0],\"xaxis\":\"x\",\"y\":[\"S-Speech\",\"S-Speech\",\"S-Speech\",\"S-Speech\",\"S-Speech\",\"S-Speech\",\"S-Speech\",\"S-Speech\",\"S-Speech\",\"S-Speech\",\"S-Speech\",\"S-Speech\",\"S-Speech\",\"S-Speech\",\"S-Speech\",\"S-Speech\",\"S-Speech\",\"S-Speech\",\"S-Speech\",\"T-Speech\",\"T-Speech\",\"T-Speech\",\"T-Speech\",\"T-Speech\",\"T-Speech\",\"T-Speech\",\"T-Speech\",\"T-Speech\",\"T-Speech\",\"T-Speech\",\"T-Speech\",\"T-Speech\",\"T-Speech\",\"T-Speech\",\"T-Speech\",\"T-Speech\"],\"yaxis\":\"y\",\"type\":\"bar\"}],                        {\"template\":{\"data\":{\"histogram2dcontour\":[{\"type\":\"histogram2dcontour\",\"colorbar\":{\"outlinewidth\":0,\"ticks\":\"\"},\"colorscale\":[[0.0,\"#0d0887\"],[0.1111111111111111,\"#46039f\"],[0.2222222222222222,\"#7201a8\"],[0.3333333333333333,\"#9c179e\"],[0.4444444444444444,\"#bd3786\"],[0.5555555555555556,\"#d8576b\"],[0.6666666666666666,\"#ed7953\"],[0.7777777777777778,\"#fb9f3a\"],[0.8888888888888888,\"#fdca26\"],[1.0,\"#f0f921\"]]}],\"choropleth\":[{\"type\":\"choropleth\",\"colorbar\":{\"outlinewidth\":0,\"ticks\":\"\"}}],\"histogram2d\":[{\"type\":\"histogram2d\",\"colorbar\":{\"outlinewidth\":0,\"ticks\":\"\"},\"colorscale\":[[0.0,\"#0d0887\"],[0.1111111111111111,\"#46039f\"],[0.2222222222222222,\"#7201a8\"],[0.3333333333333333,\"#9c179e\"],[0.4444444444444444,\"#bd3786\"],[0.5555555555555556,\"#d8576b\"],[0.6666666666666666,\"#ed7953\"],[0.7777777777777778,\"#fb9f3a\"],[0.8888888888888888,\"#fdca26\"],[1.0,\"#f0f921\"]]}],\"heatmap\":[{\"type\":\"heatmap\",\"colorbar\":{\"outlinewidth\":0,\"ticks\":\"\"},\"colorscale\":[[0.0,\"#0d0887\"],[0.1111111111111111,\"#46039f\"],[0.2222222222222222,\"#7201a8\"],[0.3333333333333333,\"#9c179e\"],[0.4444444444444444,\"#bd3786\"],[0.5555555555555556,\"#d8576b\"],[0.6666666666666666,\"#ed7953\"],[0.7777777777777778,\"#fb9f3a\"],[0.8888888888888888,\"#fdca26\"],[1.0,\"#f0f921\"]]}],\"heatmapgl\":[{\"type\":\"heatmapgl\",\"colorbar\":{\"outlinewidth\":0,\"ticks\":\"\"},\"colorscale\":[[0.0,\"#0d0887\"],[0.1111111111111111,\"#46039f\"],[0.2222222222222222,\"#7201a8\"],[0.3333333333333333,\"#9c179e\"],[0.4444444444444444,\"#bd3786\"],[0.5555555555555556,\"#d8576b\"],[0.6666666666666666,\"#ed7953\"],[0.7777777777777778,\"#fb9f3a\"],[0.8888888888888888,\"#fdca26\"],[1.0,\"#f0f921\"]]}],\"contourcarpet\":[{\"type\":\"contourcarpet\",\"colorbar\":{\"outlinewidth\":0,\"ticks\":\"\"}}],\"contour\":[{\"type\":\"contour\",\"colorbar\":{\"outlinewidth\":0,\"ticks\":\"\"},\"colorscale\":[[0.0,\"#0d0887\"],[0.1111111111111111,\"#46039f\"],[0.2222222222222222,\"#7201a8\"],[0.3333333333333333,\"#9c179e\"],[0.4444444444444444,\"#bd3786\"],[0.5555555555555556,\"#d8576b\"],[0.6666666666666666,\"#ed7953\"],[0.7777777777777778,\"#fb9f3a\"],[0.8888888888888888,\"#fdca26\"],[1.0,\"#f0f921\"]]}],\"surface\":[{\"type\":\"surface\",\"colorbar\":{\"outlinewidth\":0,\"ticks\":\"\"},\"colorscale\":[[0.0,\"#0d0887\"],[0.1111111111111111,\"#46039f\"],[0.2222222222222222,\"#7201a8\"],[0.3333333333333333,\"#9c179e\"],[0.4444444444444444,\"#bd3786\"],[0.5555555555555556,\"#d8576b\"],[0.6666666666666666,\"#ed7953\"],[0.7777777777777778,\"#fb9f3a\"],[0.8888888888888888,\"#fdca26\"],[1.0,\"#f0f921\"]]}],\"mesh3d\":[{\"type\":\"mesh3d\",\"colorbar\":{\"outlinewidth\":0,\"ticks\":\"\"}}],\"scatter\":[{\"fillpattern\":{\"fillmode\":\"overlay\",\"size\":10,\"solidity\":0.2},\"type\":\"scatter\"}],\"parcoords\":[{\"type\":\"parcoords\",\"line\":{\"colorbar\":{\"outlinewidth\":0,\"ticks\":\"\"}}}],\"scatterpolargl\":[{\"type\":\"scatterpolargl\",\"marker\":{\"colorbar\":{\"outlinewidth\":0,\"ticks\":\"\"}}}],\"bar\":[{\"error_x\":{\"color\":\"#2a3f5f\"},\"error_y\":{\"color\":\"#2a3f5f\"},\"marker\":{\"line\":{\"color\":\"#E5ECF6\",\"width\":0.5},\"pattern\":{\"fillmode\":\"overlay\",\"size\":10,\"solidity\":0.2}},\"type\":\"bar\"}],\"scattergeo\":[{\"type\":\"scattergeo\",\"marker\":{\"colorbar\":{\"outlinewidth\":0,\"ticks\":\"\"}}}],\"scatterpolar\":[{\"type\":\"scatterpolar\",\"marker\":{\"colorbar\":{\"outlinewidth\":0,\"ticks\":\"\"}}}],\"histogram\":[{\"marker\":{\"pattern\":{\"fillmode\":\"overlay\",\"size\":10,\"solidity\":0.2}},\"type\":\"histogram\"}],\"scattergl\":[{\"type\":\"scattergl\",\"marker\":{\"colorbar\":{\"outlinewidth\":0,\"ticks\":\"\"}}}],\"scatter3d\":[{\"type\":\"scatter3d\",\"line\":{\"colorbar\":{\"outlinewidth\":0,\"ticks\":\"\"}},\"marker\":{\"colorbar\":{\"outlinewidth\":0,\"ticks\":\"\"}}}],\"scattermapbox\":[{\"type\":\"scattermapbox\",\"marker\":{\"colorbar\":{\"outlinewidth\":0,\"ticks\":\"\"}}}],\"scatterternary\":[{\"type\":\"scatterternary\",\"marker\":{\"colorbar\":{\"outlinewidth\":0,\"ticks\":\"\"}}}],\"scattercarpet\":[{\"type\":\"scattercarpet\",\"marker\":{\"colorbar\":{\"outlinewidth\":0,\"ticks\":\"\"}}}],\"carpet\":[{\"aaxis\":{\"endlinecolor\":\"#2a3f5f\",\"gridcolor\":\"white\",\"linecolor\":\"white\",\"minorgridcolor\":\"white\",\"startlinecolor\":\"#2a3f5f\"},\"baxis\":{\"endlinecolor\":\"#2a3f5f\",\"gridcolor\":\"white\",\"linecolor\":\"white\",\"minorgridcolor\":\"white\",\"startlinecolor\":\"#2a3f5f\"},\"type\":\"carpet\"}],\"table\":[{\"cells\":{\"fill\":{\"color\":\"#EBF0F8\"},\"line\":{\"color\":\"white\"}},\"header\":{\"fill\":{\"color\":\"#C8D4E3\"},\"line\":{\"color\":\"white\"}},\"type\":\"table\"}],\"barpolar\":[{\"marker\":{\"line\":{\"color\":\"#E5ECF6\",\"width\":0.5},\"pattern\":{\"fillmode\":\"overlay\",\"size\":10,\"solidity\":0.2}},\"type\":\"barpolar\"}],\"pie\":[{\"automargin\":true,\"type\":\"pie\"}]},\"layout\":{\"autotypenumbers\":\"strict\",\"colorway\":[\"#636efa\",\"#EF553B\",\"#00cc96\",\"#ab63fa\",\"#FFA15A\",\"#19d3f3\",\"#FF6692\",\"#B6E880\",\"#FF97FF\",\"#FECB52\"],\"font\":{\"color\":\"#2a3f5f\"},\"hovermode\":\"closest\",\"hoverlabel\":{\"align\":\"left\"},\"paper_bgcolor\":\"white\",\"plot_bgcolor\":\"#E5ECF6\",\"polar\":{\"bgcolor\":\"#E5ECF6\",\"angularaxis\":{\"gridcolor\":\"white\",\"linecolor\":\"white\",\"ticks\":\"\"},\"radialaxis\":{\"gridcolor\":\"white\",\"linecolor\":\"white\",\"ticks\":\"\"}},\"ternary\":{\"bgcolor\":\"#E5ECF6\",\"aaxis\":{\"gridcolor\":\"white\",\"linecolor\":\"white\",\"ticks\":\"\"},\"baxis\":{\"gridcolor\":\"white\",\"linecolor\":\"white\",\"ticks\":\"\"},\"caxis\":{\"gridcolor\":\"white\",\"linecolor\":\"white\",\"ticks\":\"\"}},\"coloraxis\":{\"colorbar\":{\"outlinewidth\":0,\"ticks\":\"\"}},\"colorscale\":{\"sequential\":[[0.0,\"#0d0887\"],[0.1111111111111111,\"#46039f\"],[0.2222222222222222,\"#7201a8\"],[0.3333333333333333,\"#9c179e\"],[0.4444444444444444,\"#bd3786\"],[0.5555555555555556,\"#d8576b\"],[0.6666666666666666,\"#ed7953\"],[0.7777777777777778,\"#fb9f3a\"],[0.8888888888888888,\"#fdca26\"],[1.0,\"#f0f921\"]],\"sequentialminus\":[[0.0,\"#0d0887\"],[0.1111111111111111,\"#46039f\"],[0.2222222222222222,\"#7201a8\"],[0.3333333333333333,\"#9c179e\"],[0.4444444444444444,\"#bd3786\"],[0.5555555555555556,\"#d8576b\"],[0.6666666666666666,\"#ed7953\"],[0.7777777777777778,\"#fb9f3a\"],[0.8888888888888888,\"#fdca26\"],[1.0,\"#f0f921\"]],\"diverging\":[[0,\"#8e0152\"],[0.1,\"#c51b7d\"],[0.2,\"#de77ae\"],[0.3,\"#f1b6da\"],[0.4,\"#fde0ef\"],[0.5,\"#f7f7f7\"],[0.6,\"#e6f5d0\"],[0.7,\"#b8e186\"],[0.8,\"#7fbc41\"],[0.9,\"#4d9221\"],[1,\"#276419\"]]},\"xaxis\":{\"gridcolor\":\"white\",\"linecolor\":\"white\",\"ticks\":\"\",\"title\":{\"standoff\":15},\"zerolinecolor\":\"white\",\"automargin\":true,\"zerolinewidth\":2},\"yaxis\":{\"gridcolor\":\"white\",\"linecolor\":\"white\",\"ticks\":\"\",\"title\":{\"standoff\":15},\"zerolinecolor\":\"white\",\"automargin\":true,\"zerolinewidth\":2},\"scene\":{\"xaxis\":{\"backgroundcolor\":\"#E5ECF6\",\"gridcolor\":\"white\",\"linecolor\":\"white\",\"showbackground\":true,\"ticks\":\"\",\"zerolinecolor\":\"white\",\"gridwidth\":2},\"yaxis\":{\"backgroundcolor\":\"#E5ECF6\",\"gridcolor\":\"white\",\"linecolor\":\"white\",\"showbackground\":true,\"ticks\":\"\",\"zerolinecolor\":\"white\",\"gridwidth\":2},\"zaxis\":{\"backgroundcolor\":\"#E5ECF6\",\"gridcolor\":\"white\",\"linecolor\":\"white\",\"showbackground\":true,\"ticks\":\"\",\"zerolinecolor\":\"white\",\"gridwidth\":2}},\"shapedefaults\":{\"line\":{\"color\":\"#2a3f5f\"}},\"annotationdefaults\":{\"arrowcolor\":\"#2a3f5f\",\"arrowhead\":0,\"arrowwidth\":1},\"geo\":{\"bgcolor\":\"white\",\"landcolor\":\"#E5ECF6\",\"subunitcolor\":\"white\",\"showland\":true,\"showlakes\":true,\"lakecolor\":\"white\"},\"title\":{\"x\":0.05},\"mapbox\":{\"style\":\"light\"}}},\"xaxis\":{\"anchor\":\"y\",\"domain\":[0.0,1.0],\"type\":\"date\",\"tickfont\":{\"size\":16},\"linecolor\":\"black\",\"gridcolor\":\"white\",\"mirror\":false,\"ticks\":\"inside\",\"title\":{\"text\":\"Time\"},\"rangeslider\":{\"visible\":true}},\"yaxis\":{\"anchor\":\"x\",\"domain\":[0.0,1.0],\"title\":{\"text\":\"Speaker\",\"font\":{\"size\":16}},\"tickfont\":{\"size\":16},\"categoryorder\":\"total ascending\",\"linecolor\":\"black\",\"gridcolor\":\"lightgray\",\"mirror\":false},\"legend\":{\"title\":{\"text\":\"label(大)\"},\"tracegroupgap\":0},\"margin\":{\"t\":60},\"barmode\":\"overlay\",\"plot_bgcolor\":\"white\",\"width\":700,\"height\":450},                        {\"responsive\": true}                    ).then(function(){\n",
       "                            \n",
       "var gd = document.getElementById('da078320-22d4-47fc-b133-2b1e878ac349');\n",
       "var x = new MutationObserver(function (mutations, observer) {{\n",
       "        var display = window.getComputedStyle(gd).display;\n",
       "        if (!display || display === 'none') {{\n",
       "            console.log([gd, 'removed!']);\n",
       "            Plotly.purge(gd);\n",
       "            observer.disconnect();\n",
       "        }}\n",
       "}});\n",
       "\n",
       "// Listen for the removal of the full notebook cells\n",
       "var notebookContainer = gd.closest('#notebook-container');\n",
       "if (notebookContainer) {{\n",
       "    x.observe(notebookContainer, {childList: true});\n",
       "}}\n",
       "\n",
       "// Listen for the clearing of the current output cell\n",
       "var outputEl = gd.closest('.output');\n",
       "if (outputEl) {{\n",
       "    x.observe(outputEl, {childList: true});\n",
       "}}\n",
       "\n",
       "                        })                };                });            </script>        </div>"
      ]
     },
     "metadata": {},
     "output_type": "display_data"
    }
   ],
   "source": [
    "#上位ラベルの色付け\n",
    "\n",
    "import pandas as pd\n",
    "import datetime\n",
    "import plotly.express as px\n",
    "import plotly.io as pio\n",
    "import numpy as np\n",
    "import plotly.colors\n",
    "from datetime import timedelta\n",
    "import matplotlib\n",
    "import plotly.graph_objects as go\n",
    "#import streamlit as st\n",
    "\n",
    "import warnings\n",
    "warnings.simplefilter(action='ignore', category=UserWarning)\n",
    "\n",
    "df= pd.read_excel('./分析データto三浦さん/エクセルファイル/ameria(修正+label).xlsx', sheet_name='3')\n",
    "\n",
    "total_time=sum((df['end']-df['start']).dt.total_seconds()/60) #合計時間\n",
    "df_m=df[(df['Speaker']=='Music')]\n",
    "df_t=df[(df['Speaker']=='T-Speech')]\n",
    "df_s=df[(df['Speaker']=='S-Speech')]   \n",
    "m_time=sum((df_m['end']-df_m['start']).dt.total_seconds()/60) #演奏時間\n",
    "t_time=sum((df_t['end']-df_t['start']).dt.total_seconds()/60) #教師の発話時間\n",
    "s_time=sum((df_s['end']-df_s['start']).dt.total_seconds()/60) #生徒の発話時間\n",
    "m_ratio=(m_time/total_time)*100 #稼働率\n",
    "t_ratio=(t_time/total_time)*100 #稼働率\n",
    "s_ratio=(s_time/total_time)*100 #稼働率\n",
    "\n",
    "fig= px.timeline(df, x_start=\"start\", x_end=\"end\", y=\"Speaker\",\n",
    "                 #category_orders={\"Speaker\":[\"Music\",\"T-Speech\",\"S-Speech\"]},\n",
    "                 color=\"label(大)\", color_discrete_map={'(a)楽曲の音楽様式':'green',\n",
    "                                                      '(b)意図的に用いる音楽表現':'orange',\n",
    "                                                      '(c)身体的なテクニック':'red',\n",
    "                                                      '(d)その他':'gray',\n",
    "                                                      '-':'blue'})#大分類で色分け\n",
    "                            #color_discrete_map={'A':'rgb(255,50,50)',\n",
    "                                                                   #'B':'rgb(255,153,50)',\n",
    "                                                                   #'C':'rgb(0,203,152)',\n",
    "                                                                   #'D':'rgb(127,0,255)',\n",
    "                                                                   #'E':'rgb(101,140,255)'},\n",
    "                            #title=f\"教師の発話時間:{round(t_time, 1)}min,割合:{round(t_ratio, 1)}%,生徒の発話時間:{round(s_time, 1)}min,割合:{round(s_ratio, 1)}%,演奏時間:{round(m_time, 1)}min,割合:{round(m_ratio, 1)}%\")\n",
    "                  \n",
    "fig.update_traces(textposition=\"inside\", orientation=\"h\", showlegend=False)\n",
    "fig.update_xaxes(linecolor='black', gridcolor='white',mirror=False, ticks='inside',\n",
    "                 tickfont=dict(size=16), title='Time')\n",
    "fig.update_yaxes(categoryorder='total ascending', linecolor='black', gridcolor='lightgray',\n",
    "                 mirror=False, tickfont=dict(size=16), title_font_size=16)\n",
    "fig.update_layout(plot_bgcolor=\"white\", width=700, height=450)\n",
    "fig.update_xaxes(rangeslider_visible=True)\n",
    "fig.show()\n",
    "#print(fig)\n",
    "#st.plotly_chart(fig)"
   ]
  },
  {
   "cell_type": "code",
   "execution_count": 3,
   "metadata": {
    "scrolled": true
   },
   "outputs": [
    {
     "ename": "ValueError",
     "evalue": "Value of 'y' is not the name of a column in 'data_frame'. Expected one of ['Speaker', 'start', 'end', 'time', 'text', 'label(大)', 'label(中)', 'label(中).1', 'Tag', 'Unnamed: 9', '分類', 'Unnamed: 11', '行ラベル', '個数 / time', '合計 / time', '平均 / time2', '分散 / time2', 'Unnamed: 17', 'inaSpeechSegmenterの結果', 'Unnamed: 19', 'Unnamed: 20', 'Unnamed: 21', 'Unnamed: 22', 'Unnamed: 23'] but received: labels",
     "output_type": "error",
     "traceback": [
      "\u001b[0;31m---------------------------------------------------------------------------\u001b[0m",
      "\u001b[0;31mValueError\u001b[0m                                Traceback (most recent call last)",
      "Cell \u001b[0;32mIn[3], line 3\u001b[0m\n\u001b[1;32m      1\u001b[0m \u001b[38;5;66;03m#中分類1で色分け\u001b[39;00m\n\u001b[0;32m----> 3\u001b[0m fig\u001b[38;5;241m=\u001b[39m px\u001b[38;5;241m.\u001b[39mtimeline(df, x_start\u001b[38;5;241m=\u001b[39m\u001b[38;5;124m\"\u001b[39m\u001b[38;5;124mstart\u001b[39m\u001b[38;5;124m\"\u001b[39m, x_end\u001b[38;5;241m=\u001b[39m\u001b[38;5;124m\"\u001b[39m\u001b[38;5;124mend\u001b[39m\u001b[38;5;124m\"\u001b[39m, y\u001b[38;5;241m=\u001b[39m\u001b[38;5;124m\"\u001b[39m\u001b[38;5;124mlabels\u001b[39m\u001b[38;5;124m\"\u001b[39m,\n\u001b[1;32m      4\u001b[0m                             color\u001b[38;5;241m=\u001b[39m\u001b[38;5;124m\"\u001b[39m\u001b[38;5;124m中分類2\u001b[39m\u001b[38;5;124m\"\u001b[39m,\n\u001b[1;32m      5\u001b[0m                             color_discrete_map\u001b[38;5;241m=\u001b[39m{\u001b[38;5;124m'\u001b[39m\u001b[38;5;124mー\u001b[39m\u001b[38;5;124m'\u001b[39m:\u001b[38;5;124m'\u001b[39m\u001b[38;5;124m#E6EBF7\u001b[39m\u001b[38;5;124m'\u001b[39m, \u001b[38;5;124m'\u001b[39m\u001b[38;5;124mテンポ\u001b[39m\u001b[38;5;124m'\u001b[39m:\u001b[38;5;124m'\u001b[39m\u001b[38;5;124m#FF9999\u001b[39m\u001b[38;5;124m'\u001b[39m,\u001b[38;5;124m'\u001b[39m\u001b[38;5;124mリズム\u001b[39m\u001b[38;5;124m'\u001b[39m:\u001b[38;5;124m'\u001b[39m\u001b[38;5;124m#FFCC99\u001b[39m\u001b[38;5;124m'\u001b[39m,\u001b[38;5;124m'\u001b[39m\u001b[38;5;124m拍子\u001b[39m\u001b[38;5;124m'\u001b[39m:\u001b[38;5;124m'\u001b[39m\u001b[38;5;124m#FFFF99\u001b[39m\u001b[38;5;124m'\u001b[39m,\u001b[38;5;124m'\u001b[39m\u001b[38;5;124m強弱\u001b[39m\u001b[38;5;124m'\u001b[39m:\u001b[38;5;124m'\u001b[39m\u001b[38;5;124m#CCFF99\u001b[39m\u001b[38;5;124m'\u001b[39m,\n\u001b[1;32m      6\u001b[0m                                                                    \u001b[38;5;124m'\u001b[39m\u001b[38;5;124m音価\u001b[39m\u001b[38;5;124m'\u001b[39m:\u001b[38;5;124m'\u001b[39m\u001b[38;5;124m#99FF99\u001b[39m\u001b[38;5;124m'\u001b[39m,\u001b[38;5;124m'\u001b[39m\u001b[38;5;124m奏法\u001b[39m\u001b[38;5;124m'\u001b[39m:\u001b[38;5;124m'\u001b[39m\u001b[38;5;124m#99FFCC\u001b[39m\u001b[38;5;124m'\u001b[39m,\u001b[38;5;124m'\u001b[39m\u001b[38;5;124m音色\u001b[39m\u001b[38;5;124m'\u001b[39m:\u001b[38;5;124m'\u001b[39m\u001b[38;5;124m#99FFFF\u001b[39m\u001b[38;5;124m'\u001b[39m, \u001b[38;5;124m'\u001b[39m\u001b[38;5;124m音調\u001b[39m\u001b[38;5;124m'\u001b[39m:\u001b[38;5;124m'\u001b[39m\u001b[38;5;124m#99CCFF\u001b[39m\u001b[38;5;124m'\u001b[39m, \u001b[38;5;124m'\u001b[39m\u001b[38;5;124mアーティキュレーション\u001b[39m\u001b[38;5;124m'\u001b[39m:\u001b[38;5;124m'\u001b[39m\u001b[38;5;124m#9999FF\u001b[39m\u001b[38;5;124m'\u001b[39m,\n\u001b[1;32m      7\u001b[0m                                                                    \u001b[38;5;124m'\u001b[39m\u001b[38;5;124m音楽理論\u001b[39m\u001b[38;5;124m'\u001b[39m:\u001b[38;5;124m'\u001b[39m\u001b[38;5;124m#CC99FF\u001b[39m\u001b[38;5;124m'\u001b[39m, \u001b[38;5;124m'\u001b[39m\u001b[38;5;124m音楽的なまとまり\u001b[39m\u001b[38;5;124m'\u001b[39m:\u001b[38;5;124m'\u001b[39m\u001b[38;5;124m#FF99FF\u001b[39m\u001b[38;5;124m'\u001b[39m, \u001b[38;5;124m'\u001b[39m\u001b[38;5;124m運指\u001b[39m\u001b[38;5;124m'\u001b[39m:\u001b[38;5;124m'\u001b[39m\u001b[38;5;124m#FF99CC\u001b[39m\u001b[38;5;124m'\u001b[39m, \u001b[38;5;124m'\u001b[39m\u001b[38;5;124m姿勢\u001b[39m\u001b[38;5;124m'\u001b[39m:\u001b[38;5;124m'\u001b[39m\u001b[38;5;124m#E0E0E0\u001b[39m\u001b[38;5;124m'\u001b[39m,\n\u001b[1;32m      8\u001b[0m                                                                    \u001b[38;5;124m'\u001b[39m\u001b[38;5;124m爪\u001b[39m\u001b[38;5;124m'\u001b[39m:\u001b[38;5;124m'\u001b[39m\u001b[38;5;124m#FF6666\u001b[39m\u001b[38;5;124m'\u001b[39m, \u001b[38;5;124m'\u001b[39m\u001b[38;5;124m難所\u001b[39m\u001b[38;5;124m'\u001b[39m:\u001b[38;5;124m'\u001b[39m\u001b[38;5;124m#FFFF66\u001b[39m\u001b[38;5;124m'\u001b[39m, \u001b[38;5;124m'\u001b[39m\u001b[38;5;124m表現\u001b[39m\u001b[38;5;124m'\u001b[39m:\u001b[38;5;124m'\u001b[39m\u001b[38;5;124m#66FF66\u001b[39m\u001b[38;5;124m'\u001b[39m, \u001b[38;5;124m'\u001b[39m\u001b[38;5;124m呼吸\u001b[39m\u001b[38;5;124m'\u001b[39m:\u001b[38;5;124m'\u001b[39m\u001b[38;5;124m#66FFFF\u001b[39m\u001b[38;5;124m'\u001b[39m, \u001b[38;5;124m'\u001b[39m\u001b[38;5;124mその他\u001b[39m\u001b[38;5;124m'\u001b[39m:\u001b[38;5;124m'\u001b[39m\u001b[38;5;124m#6666FF\u001b[39m\u001b[38;5;124m'\u001b[39m},\n\u001b[1;32m      9\u001b[0m                             category_orders\u001b[38;5;241m=\u001b[39m{\u001b[38;5;124m\"\u001b[39m\u001b[38;5;124mlabels\u001b[39m\u001b[38;5;124m\"\u001b[39m:[\u001b[38;5;124m'\u001b[39m\u001b[38;5;124mT_Speech\u001b[39m\u001b[38;5;124m'\u001b[39m,\u001b[38;5;124m'\u001b[39m\u001b[38;5;124mS_Speech\u001b[39m\u001b[38;5;124m'\u001b[39m,\u001b[38;5;124m'\u001b[39m\u001b[38;5;124mmusic\u001b[39m\u001b[38;5;124m'\u001b[39m]})\n\u001b[1;32m     10\u001b[0m fig\u001b[38;5;241m.\u001b[39mupdate_traces(orientation\u001b[38;5;241m=\u001b[39m\u001b[38;5;124m\"\u001b[39m\u001b[38;5;124mh\u001b[39m\u001b[38;5;124m\"\u001b[39m)\n\u001b[1;32m     11\u001b[0m fig\u001b[38;5;241m.\u001b[39mshow()\n",
      "File \u001b[0;32m~/anaconda3/lib/python3.11/site-packages/plotly/express/_chart_types.py:423\u001b[0m, in \u001b[0;36mtimeline\u001b[0;34m(data_frame, x_start, x_end, y, color, pattern_shape, facet_row, facet_col, facet_col_wrap, facet_row_spacing, facet_col_spacing, hover_name, hover_data, custom_data, text, animation_frame, animation_group, category_orders, labels, color_discrete_sequence, color_discrete_map, pattern_shape_sequence, pattern_shape_map, color_continuous_scale, range_color, color_continuous_midpoint, opacity, range_x, range_y, title, template, width, height)\u001b[0m\n\u001b[1;32m    384\u001b[0m \u001b[38;5;28;01mdef\u001b[39;00m \u001b[38;5;21mtimeline\u001b[39m(\n\u001b[1;32m    385\u001b[0m     data_frame\u001b[38;5;241m=\u001b[39m\u001b[38;5;28;01mNone\u001b[39;00m,\n\u001b[1;32m    386\u001b[0m     x_start\u001b[38;5;241m=\u001b[39m\u001b[38;5;28;01mNone\u001b[39;00m,\n\u001b[0;32m   (...)\u001b[0m\n\u001b[1;32m    417\u001b[0m     height\u001b[38;5;241m=\u001b[39m\u001b[38;5;28;01mNone\u001b[39;00m,\n\u001b[1;32m    418\u001b[0m ) \u001b[38;5;241m-\u001b[39m\u001b[38;5;241m>\u001b[39m go\u001b[38;5;241m.\u001b[39mFigure:\n\u001b[1;32m    419\u001b[0m \u001b[38;5;250m    \u001b[39m\u001b[38;5;124;03m\"\"\"\u001b[39;00m\n\u001b[1;32m    420\u001b[0m \u001b[38;5;124;03m    In a timeline plot, each row of `data_frame` is represented as a rectangular\u001b[39;00m\n\u001b[1;32m    421\u001b[0m \u001b[38;5;124;03m    mark on an x axis of type `date`, spanning from `x_start` to `x_end`.\u001b[39;00m\n\u001b[1;32m    422\u001b[0m \u001b[38;5;124;03m    \"\"\"\u001b[39;00m\n\u001b[0;32m--> 423\u001b[0m     \u001b[38;5;28;01mreturn\u001b[39;00m make_figure(\n\u001b[1;32m    424\u001b[0m         args\u001b[38;5;241m=\u001b[39m\u001b[38;5;28mlocals\u001b[39m(),\n\u001b[1;32m    425\u001b[0m         constructor\u001b[38;5;241m=\u001b[39m\u001b[38;5;124m\"\u001b[39m\u001b[38;5;124mtimeline\u001b[39m\u001b[38;5;124m\"\u001b[39m,\n\u001b[1;32m    426\u001b[0m         trace_patch\u001b[38;5;241m=\u001b[39m\u001b[38;5;28mdict\u001b[39m(textposition\u001b[38;5;241m=\u001b[39m\u001b[38;5;124m\"\u001b[39m\u001b[38;5;124mauto\u001b[39m\u001b[38;5;124m\"\u001b[39m, orientation\u001b[38;5;241m=\u001b[39m\u001b[38;5;124m\"\u001b[39m\u001b[38;5;124mh\u001b[39m\u001b[38;5;124m\"\u001b[39m),\n\u001b[1;32m    427\u001b[0m         layout_patch\u001b[38;5;241m=\u001b[39m\u001b[38;5;28mdict\u001b[39m(barmode\u001b[38;5;241m=\u001b[39m\u001b[38;5;124m\"\u001b[39m\u001b[38;5;124moverlay\u001b[39m\u001b[38;5;124m\"\u001b[39m),\n\u001b[1;32m    428\u001b[0m     )\n",
      "File \u001b[0;32m~/anaconda3/lib/python3.11/site-packages/plotly/express/_core.py:1990\u001b[0m, in \u001b[0;36mmake_figure\u001b[0;34m(args, constructor, trace_patch, layout_patch)\u001b[0m\n\u001b[1;32m   1987\u001b[0m layout_patch \u001b[38;5;241m=\u001b[39m layout_patch \u001b[38;5;129;01mor\u001b[39;00m {}\n\u001b[1;32m   1988\u001b[0m apply_default_cascade(args)\n\u001b[0;32m-> 1990\u001b[0m args \u001b[38;5;241m=\u001b[39m build_dataframe(args, constructor)\n\u001b[1;32m   1991\u001b[0m \u001b[38;5;28;01mif\u001b[39;00m constructor \u001b[38;5;129;01min\u001b[39;00m [go\u001b[38;5;241m.\u001b[39mTreemap, go\u001b[38;5;241m.\u001b[39mSunburst, go\u001b[38;5;241m.\u001b[39mIcicle] \u001b[38;5;129;01mand\u001b[39;00m args[\u001b[38;5;124m\"\u001b[39m\u001b[38;5;124mpath\u001b[39m\u001b[38;5;124m\"\u001b[39m] \u001b[38;5;129;01mis\u001b[39;00m \u001b[38;5;129;01mnot\u001b[39;00m \u001b[38;5;28;01mNone\u001b[39;00m:\n\u001b[1;32m   1992\u001b[0m     args \u001b[38;5;241m=\u001b[39m process_dataframe_hierarchy(args)\n",
      "File \u001b[0;32m~/anaconda3/lib/python3.11/site-packages/plotly/express/_core.py:1405\u001b[0m, in \u001b[0;36mbuild_dataframe\u001b[0;34m(args, constructor)\u001b[0m\n\u001b[1;32m   1402\u001b[0m     args[\u001b[38;5;124m\"\u001b[39m\u001b[38;5;124mcolor\u001b[39m\u001b[38;5;124m\"\u001b[39m] \u001b[38;5;241m=\u001b[39m \u001b[38;5;28;01mNone\u001b[39;00m\n\u001b[1;32m   1403\u001b[0m \u001b[38;5;66;03m# now that things have been prepped, we do the systematic rewriting of `args`\u001b[39;00m\n\u001b[0;32m-> 1405\u001b[0m df_output, wide_id_vars \u001b[38;5;241m=\u001b[39m process_args_into_dataframe(\n\u001b[1;32m   1406\u001b[0m     args, wide_mode, var_name, value_name\n\u001b[1;32m   1407\u001b[0m )\n\u001b[1;32m   1409\u001b[0m \u001b[38;5;66;03m# now that `df_output` exists and `args` contains only references, we complete\u001b[39;00m\n\u001b[1;32m   1410\u001b[0m \u001b[38;5;66;03m# the special-case and wide-mode handling by further rewriting args and/or mutating\u001b[39;00m\n\u001b[1;32m   1411\u001b[0m \u001b[38;5;66;03m# df_output\u001b[39;00m\n\u001b[1;32m   1413\u001b[0m count_name \u001b[38;5;241m=\u001b[39m _escape_col_name(df_output, \u001b[38;5;124m\"\u001b[39m\u001b[38;5;124mcount\u001b[39m\u001b[38;5;124m\"\u001b[39m, [var_name, value_name])\n",
      "File \u001b[0;32m~/anaconda3/lib/python3.11/site-packages/plotly/express/_core.py:1207\u001b[0m, in \u001b[0;36mprocess_args_into_dataframe\u001b[0;34m(args, wide_mode, var_name, value_name)\u001b[0m\n\u001b[1;32m   1205\u001b[0m         \u001b[38;5;28;01mif\u001b[39;00m argument \u001b[38;5;241m==\u001b[39m \u001b[38;5;124m\"\u001b[39m\u001b[38;5;124mindex\u001b[39m\u001b[38;5;124m\"\u001b[39m:\n\u001b[1;32m   1206\u001b[0m             err_msg \u001b[38;5;241m+\u001b[39m\u001b[38;5;241m=\u001b[39m \u001b[38;5;124m\"\u001b[39m\u001b[38;5;130;01m\\n\u001b[39;00m\u001b[38;5;124m To use the index, pass it in directly as `df.index`.\u001b[39m\u001b[38;5;124m\"\u001b[39m\n\u001b[0;32m-> 1207\u001b[0m         \u001b[38;5;28;01mraise\u001b[39;00m \u001b[38;5;167;01mValueError\u001b[39;00m(err_msg)\n\u001b[1;32m   1208\u001b[0m \u001b[38;5;28;01melif\u001b[39;00m length \u001b[38;5;129;01mand\u001b[39;00m \u001b[38;5;28mlen\u001b[39m(df_input[argument]) \u001b[38;5;241m!=\u001b[39m length:\n\u001b[1;32m   1209\u001b[0m     \u001b[38;5;28;01mraise\u001b[39;00m \u001b[38;5;167;01mValueError\u001b[39;00m(\n\u001b[1;32m   1210\u001b[0m         \u001b[38;5;124m\"\u001b[39m\u001b[38;5;124mAll arguments should have the same length. \u001b[39m\u001b[38;5;124m\"\u001b[39m\n\u001b[1;32m   1211\u001b[0m         \u001b[38;5;124m\"\u001b[39m\u001b[38;5;124mThe length of column argument `df[\u001b[39m\u001b[38;5;132;01m%s\u001b[39;00m\u001b[38;5;124m]` is \u001b[39m\u001b[38;5;132;01m%d\u001b[39;00m\u001b[38;5;124m, whereas the \u001b[39m\u001b[38;5;124m\"\u001b[39m\n\u001b[0;32m   (...)\u001b[0m\n\u001b[1;32m   1218\u001b[0m         )\n\u001b[1;32m   1219\u001b[0m     )\n",
      "\u001b[0;31mValueError\u001b[0m: Value of 'y' is not the name of a column in 'data_frame'. Expected one of ['Speaker', 'start', 'end', 'time', 'text', 'label(大)', 'label(中)', 'label(中).1', 'Tag', 'Unnamed: 9', '分類', 'Unnamed: 11', '行ラベル', '個数 / time', '合計 / time', '平均 / time2', '分散 / time2', 'Unnamed: 17', 'inaSpeechSegmenterの結果', 'Unnamed: 19', 'Unnamed: 20', 'Unnamed: 21', 'Unnamed: 22', 'Unnamed: 23'] but received: labels"
     ]
    }
   ],
   "source": [
    "#中分類1で色分け\n",
    "\n",
    "fig= px.timeline(df, x_start=\"start\", x_end=\"end\", y=\"labels\",\n",
    "                            color=\"中分類2\",\n",
    "                            color_discrete_map={'ー':'#E6EBF7', 'テンポ':'#FF9999','リズム':'#FFCC99','拍子':'#FFFF99','強弱':'#CCFF99',\n",
    "                                                                   '音価':'#99FF99','奏法':'#99FFCC','音色':'#99FFFF', '音調':'#99CCFF', 'アーティキュレーション':'#9999FF',\n",
    "                                                                   '音楽理論':'#CC99FF', '音楽的なまとまり':'#FF99FF', '運指':'#FF99CC', '姿勢':'#E0E0E0',\n",
    "                                                                   '爪':'#FF6666', '難所':'#FFFF66', '表現':'#66FF66', '呼吸':'#66FFFF', 'その他':'#6666FF'},\n",
    "                            category_orders={\"labels\":['T_Speech','S_Speech','music']})\n",
    "fig.update_traces(orientation=\"h\")\n",
    "fig.show()"
   ]
  },
  {
   "cell_type": "code",
   "execution_count": 17,
   "metadata": {
    "scrolled": true
   },
   "outputs": [
    {
     "ename": "TypeError",
     "evalue": "Object of type timedelta is not JSON serializable",
     "output_type": "error",
     "traceback": [
      "\u001b[0;31m---------------------------------------------------------------------------\u001b[0m",
      "\u001b[0;31mTypeError\u001b[0m                                 Traceback (most recent call last)",
      "Cell \u001b[0;32mIn[17], line 22\u001b[0m\n\u001b[1;32m     14\u001b[0m fig\u001b[38;5;241m=\u001b[39m px\u001b[38;5;241m.\u001b[39mtimeline(df, x_start\u001b[38;5;241m=\u001b[39m\u001b[38;5;124m\"\u001b[39m\u001b[38;5;124mstart\u001b[39m\u001b[38;5;124m\"\u001b[39m, x_end\u001b[38;5;241m=\u001b[39m\u001b[38;5;124m\"\u001b[39m\u001b[38;5;124mend\u001b[39m\u001b[38;5;124m\"\u001b[39m,text\u001b[38;5;241m=\u001b[39m\u001b[38;5;124m\"\u001b[39m\u001b[38;5;124mlabel(大)\u001b[39m\u001b[38;5;124m\"\u001b[39m, y\u001b[38;5;241m=\u001b[39m\u001b[38;5;124m\"\u001b[39m\u001b[38;5;124mSpeaker\u001b[39m\u001b[38;5;124m\"\u001b[39m,\n\u001b[1;32m     15\u001b[0m                             color\u001b[38;5;241m=\u001b[39m\u001b[38;5;124m\"\u001b[39m\u001b[38;5;124mSpeaker\u001b[39m\u001b[38;5;124m\"\u001b[39m, \u001b[38;5;66;03m#ラベルで色分け\u001b[39;00m\n\u001b[1;32m     16\u001b[0m                             color_discrete_map\u001b[38;5;241m=\u001b[39m{\u001b[38;5;124m'\u001b[39m\u001b[38;5;124mT_Speech\u001b[39m\u001b[38;5;124m'\u001b[39m:\u001b[38;5;124m'\u001b[39m\u001b[38;5;124mrgb(0,225,0)\u001b[39m\u001b[38;5;124m'\u001b[39m,\n\u001b[0;32m   (...)\u001b[0m\n\u001b[1;32m     19\u001b[0m                             category_orders\u001b[38;5;241m=\u001b[39m{\u001b[38;5;124m\"\u001b[39m\u001b[38;5;124mlabels\u001b[39m\u001b[38;5;124m\"\u001b[39m:[\u001b[38;5;124m'\u001b[39m\u001b[38;5;124mT_Speech\u001b[39m\u001b[38;5;124m'\u001b[39m,\u001b[38;5;124m'\u001b[39m\u001b[38;5;124mS_Speech\u001b[39m\u001b[38;5;124m'\u001b[39m,\u001b[38;5;124m'\u001b[39m\u001b[38;5;124mmusic\u001b[39m\u001b[38;5;124m'\u001b[39m]},\n\u001b[1;32m     20\u001b[0m                             title\u001b[38;5;241m=\u001b[39m\u001b[38;5;124mf\u001b[39m\u001b[38;5;124m\"\u001b[39m\u001b[38;5;124m教師の発話時間:\u001b[39m\u001b[38;5;132;01m{\u001b[39;00m\u001b[38;5;28mround\u001b[39m(t_time,\u001b[38;5;250m \u001b[39m\u001b[38;5;241m1\u001b[39m)\u001b[38;5;132;01m}\u001b[39;00m\u001b[38;5;124mmin,割合:\u001b[39m\u001b[38;5;132;01m{\u001b[39;00m\u001b[38;5;28mround\u001b[39m(t_ratio,\u001b[38;5;250m \u001b[39m\u001b[38;5;241m1\u001b[39m)\u001b[38;5;132;01m}\u001b[39;00m\u001b[38;5;124m%,生徒の発話時間:\u001b[39m\u001b[38;5;132;01m{\u001b[39;00m\u001b[38;5;28mround\u001b[39m(s_time,\u001b[38;5;250m \u001b[39m\u001b[38;5;241m1\u001b[39m)\u001b[38;5;132;01m}\u001b[39;00m\u001b[38;5;124mmin,割合:\u001b[39m\u001b[38;5;132;01m{\u001b[39;00m\u001b[38;5;28mround\u001b[39m(s_ratio,\u001b[38;5;250m \u001b[39m\u001b[38;5;241m1\u001b[39m)\u001b[38;5;132;01m}\u001b[39;00m\u001b[38;5;124m%,演奏時間:\u001b[39m\u001b[38;5;132;01m{\u001b[39;00m\u001b[38;5;28mround\u001b[39m(m_time,\u001b[38;5;250m \u001b[39m\u001b[38;5;241m1\u001b[39m)\u001b[38;5;132;01m}\u001b[39;00m\u001b[38;5;124mmin,割合:\u001b[39m\u001b[38;5;132;01m{\u001b[39;00m\u001b[38;5;28mround\u001b[39m(m_ratio,\u001b[38;5;250m \u001b[39m\u001b[38;5;241m1\u001b[39m)\u001b[38;5;132;01m}\u001b[39;00m\u001b[38;5;124m%\u001b[39m\u001b[38;5;124m\"\u001b[39m)\n\u001b[1;32m     21\u001b[0m fig\u001b[38;5;241m.\u001b[39mupdate_traces(textposition\u001b[38;5;241m=\u001b[39m\u001b[38;5;124m'\u001b[39m\u001b[38;5;124minside\u001b[39m\u001b[38;5;124m'\u001b[39m, orientation\u001b[38;5;241m=\u001b[39m\u001b[38;5;124m\"\u001b[39m\u001b[38;5;124mh\u001b[39m\u001b[38;5;124m\"\u001b[39m)\n\u001b[0;32m---> 22\u001b[0m fig\u001b[38;5;241m.\u001b[39mshow()\n",
      "File \u001b[0;32m~/anaconda3/lib/python3.11/site-packages/plotly/basedatatypes.py:3398\u001b[0m, in \u001b[0;36mBaseFigure.show\u001b[0;34m(self, *args, **kwargs)\u001b[0m\n\u001b[1;32m   3365\u001b[0m \u001b[38;5;250m\u001b[39m\u001b[38;5;124;03m\"\"\"\u001b[39;00m\n\u001b[1;32m   3366\u001b[0m \u001b[38;5;124;03mShow a figure using either the default renderer(s) or the renderer(s)\u001b[39;00m\n\u001b[1;32m   3367\u001b[0m \u001b[38;5;124;03mspecified by the renderer argument\u001b[39;00m\n\u001b[0;32m   (...)\u001b[0m\n\u001b[1;32m   3394\u001b[0m \u001b[38;5;124;03mNone\u001b[39;00m\n\u001b[1;32m   3395\u001b[0m \u001b[38;5;124;03m\"\"\"\u001b[39;00m\n\u001b[1;32m   3396\u001b[0m \u001b[38;5;28;01mimport\u001b[39;00m \u001b[38;5;21;01mplotly\u001b[39;00m\u001b[38;5;21;01m.\u001b[39;00m\u001b[38;5;21;01mio\u001b[39;00m \u001b[38;5;28;01mas\u001b[39;00m \u001b[38;5;21;01mpio\u001b[39;00m\n\u001b[0;32m-> 3398\u001b[0m \u001b[38;5;28;01mreturn\u001b[39;00m pio\u001b[38;5;241m.\u001b[39mshow(\u001b[38;5;28mself\u001b[39m, \u001b[38;5;241m*\u001b[39margs, \u001b[38;5;241m*\u001b[39m\u001b[38;5;241m*\u001b[39mkwargs)\n",
      "File \u001b[0;32m~/anaconda3/lib/python3.11/site-packages/plotly/io/_renderers.py:388\u001b[0m, in \u001b[0;36mshow\u001b[0;34m(fig, renderer, validate, **kwargs)\u001b[0m\n\u001b[1;32m    385\u001b[0m fig_dict \u001b[38;5;241m=\u001b[39m validate_coerce_fig_to_dict(fig, validate)\n\u001b[1;32m    387\u001b[0m \u001b[38;5;66;03m# Mimetype renderers\u001b[39;00m\n\u001b[0;32m--> 388\u001b[0m bundle \u001b[38;5;241m=\u001b[39m renderers\u001b[38;5;241m.\u001b[39m_build_mime_bundle(fig_dict, renderers_string\u001b[38;5;241m=\u001b[39mrenderer, \u001b[38;5;241m*\u001b[39m\u001b[38;5;241m*\u001b[39mkwargs)\n\u001b[1;32m    389\u001b[0m \u001b[38;5;28;01mif\u001b[39;00m bundle:\n\u001b[1;32m    390\u001b[0m     \u001b[38;5;28;01mif\u001b[39;00m \u001b[38;5;129;01mnot\u001b[39;00m ipython_display:\n",
      "File \u001b[0;32m~/anaconda3/lib/python3.11/site-packages/plotly/io/_renderers.py:296\u001b[0m, in \u001b[0;36mRenderersConfig._build_mime_bundle\u001b[0;34m(self, fig_dict, renderers_string, **kwargs)\u001b[0m\n\u001b[1;32m    293\u001b[0m             \u001b[38;5;28;01mif\u001b[39;00m \u001b[38;5;28mhasattr\u001b[39m(renderer, k):\n\u001b[1;32m    294\u001b[0m                 \u001b[38;5;28msetattr\u001b[39m(renderer, k, v)\n\u001b[0;32m--> 296\u001b[0m         bundle\u001b[38;5;241m.\u001b[39mupdate(renderer\u001b[38;5;241m.\u001b[39mto_mimebundle(fig_dict))\n\u001b[1;32m    298\u001b[0m \u001b[38;5;28;01mreturn\u001b[39;00m bundle\n",
      "File \u001b[0;32m~/anaconda3/lib/python3.11/site-packages/plotly/io/_base_renderers.py:95\u001b[0m, in \u001b[0;36mPlotlyRenderer.to_mimebundle\u001b[0;34m(self, fig_dict)\u001b[0m\n\u001b[1;32m     91\u001b[0m \u001b[38;5;28;01mif\u001b[39;00m config:\n\u001b[1;32m     92\u001b[0m     fig_dict[\u001b[38;5;124m\"\u001b[39m\u001b[38;5;124mconfig\u001b[39m\u001b[38;5;124m\"\u001b[39m] \u001b[38;5;241m=\u001b[39m config\n\u001b[1;32m     94\u001b[0m json_compatible_fig_dict \u001b[38;5;241m=\u001b[39m json\u001b[38;5;241m.\u001b[39mloads(\n\u001b[0;32m---> 95\u001b[0m     to_json(fig_dict, validate\u001b[38;5;241m=\u001b[39m\u001b[38;5;28;01mFalse\u001b[39;00m, remove_uids\u001b[38;5;241m=\u001b[39m\u001b[38;5;28;01mFalse\u001b[39;00m)\n\u001b[1;32m     96\u001b[0m )\n\u001b[1;32m     98\u001b[0m \u001b[38;5;28;01mreturn\u001b[39;00m {\u001b[38;5;124m\"\u001b[39m\u001b[38;5;124mapplication/vnd.plotly.v1+json\u001b[39m\u001b[38;5;124m\"\u001b[39m: json_compatible_fig_dict}\n",
      "File \u001b[0;32m~/anaconda3/lib/python3.11/site-packages/plotly/io/_json.py:199\u001b[0m, in \u001b[0;36mto_json\u001b[0;34m(fig, validate, pretty, remove_uids, engine)\u001b[0m\n\u001b[1;32m    196\u001b[0m     \u001b[38;5;28;01mfor\u001b[39;00m trace \u001b[38;5;129;01min\u001b[39;00m fig_dict\u001b[38;5;241m.\u001b[39mget(\u001b[38;5;124m\"\u001b[39m\u001b[38;5;124mdata\u001b[39m\u001b[38;5;124m\"\u001b[39m, []):\n\u001b[1;32m    197\u001b[0m         trace\u001b[38;5;241m.\u001b[39mpop(\u001b[38;5;124m\"\u001b[39m\u001b[38;5;124muid\u001b[39m\u001b[38;5;124m\"\u001b[39m, \u001b[38;5;28;01mNone\u001b[39;00m)\n\u001b[0;32m--> 199\u001b[0m \u001b[38;5;28;01mreturn\u001b[39;00m to_json_plotly(fig_dict, pretty\u001b[38;5;241m=\u001b[39mpretty, engine\u001b[38;5;241m=\u001b[39mengine)\n",
      "File \u001b[0;32m~/anaconda3/lib/python3.11/site-packages/plotly/io/_json.py:123\u001b[0m, in \u001b[0;36mto_json_plotly\u001b[0;34m(plotly_object, pretty, engine)\u001b[0m\n\u001b[1;32m    119\u001b[0m         opts[\u001b[38;5;124m\"\u001b[39m\u001b[38;5;124mseparators\u001b[39m\u001b[38;5;124m\"\u001b[39m] \u001b[38;5;241m=\u001b[39m (\u001b[38;5;124m\"\u001b[39m\u001b[38;5;124m,\u001b[39m\u001b[38;5;124m\"\u001b[39m, \u001b[38;5;124m\"\u001b[39m\u001b[38;5;124m:\u001b[39m\u001b[38;5;124m\"\u001b[39m)\n\u001b[1;32m    121\u001b[0m     \u001b[38;5;28;01mfrom\u001b[39;00m \u001b[38;5;21;01m_plotly_utils\u001b[39;00m\u001b[38;5;21;01m.\u001b[39;00m\u001b[38;5;21;01mutils\u001b[39;00m \u001b[38;5;28;01mimport\u001b[39;00m PlotlyJSONEncoder\n\u001b[0;32m--> 123\u001b[0m     \u001b[38;5;28;01mreturn\u001b[39;00m json\u001b[38;5;241m.\u001b[39mdumps(plotly_object, \u001b[38;5;28mcls\u001b[39m\u001b[38;5;241m=\u001b[39mPlotlyJSONEncoder, \u001b[38;5;241m*\u001b[39m\u001b[38;5;241m*\u001b[39mopts)\n\u001b[1;32m    124\u001b[0m \u001b[38;5;28;01melif\u001b[39;00m engine \u001b[38;5;241m==\u001b[39m \u001b[38;5;124m\"\u001b[39m\u001b[38;5;124morjson\u001b[39m\u001b[38;5;124m\"\u001b[39m:\n\u001b[1;32m    125\u001b[0m     JsonConfig\u001b[38;5;241m.\u001b[39mvalidate_orjson()\n",
      "File \u001b[0;32m~/anaconda3/lib/python3.11/json/__init__.py:238\u001b[0m, in \u001b[0;36mdumps\u001b[0;34m(obj, skipkeys, ensure_ascii, check_circular, allow_nan, cls, indent, separators, default, sort_keys, **kw)\u001b[0m\n\u001b[1;32m    232\u001b[0m \u001b[38;5;28;01mif\u001b[39;00m \u001b[38;5;28mcls\u001b[39m \u001b[38;5;129;01mis\u001b[39;00m \u001b[38;5;28;01mNone\u001b[39;00m:\n\u001b[1;32m    233\u001b[0m     \u001b[38;5;28mcls\u001b[39m \u001b[38;5;241m=\u001b[39m JSONEncoder\n\u001b[1;32m    234\u001b[0m \u001b[38;5;28;01mreturn\u001b[39;00m \u001b[38;5;28mcls\u001b[39m(\n\u001b[1;32m    235\u001b[0m     skipkeys\u001b[38;5;241m=\u001b[39mskipkeys, ensure_ascii\u001b[38;5;241m=\u001b[39mensure_ascii,\n\u001b[1;32m    236\u001b[0m     check_circular\u001b[38;5;241m=\u001b[39mcheck_circular, allow_nan\u001b[38;5;241m=\u001b[39mallow_nan, indent\u001b[38;5;241m=\u001b[39mindent,\n\u001b[1;32m    237\u001b[0m     separators\u001b[38;5;241m=\u001b[39mseparators, default\u001b[38;5;241m=\u001b[39mdefault, sort_keys\u001b[38;5;241m=\u001b[39msort_keys,\n\u001b[0;32m--> 238\u001b[0m     \u001b[38;5;241m*\u001b[39m\u001b[38;5;241m*\u001b[39mkw)\u001b[38;5;241m.\u001b[39mencode(obj)\n",
      "File \u001b[0;32m~/anaconda3/lib/python3.11/site-packages/_plotly_utils/utils.py:59\u001b[0m, in \u001b[0;36mPlotlyJSONEncoder.encode\u001b[0;34m(self, o)\u001b[0m\n\u001b[1;32m     52\u001b[0m \u001b[38;5;250m\u001b[39m\u001b[38;5;124;03m\"\"\"\u001b[39;00m\n\u001b[1;32m     53\u001b[0m \u001b[38;5;124;03mLoad and then dump the result using parse_constant kwarg\u001b[39;00m\n\u001b[1;32m     54\u001b[0m \n\u001b[1;32m     55\u001b[0m \u001b[38;5;124;03mNote that setting invalid separators will cause a failure at this step.\u001b[39;00m\n\u001b[1;32m     56\u001b[0m \n\u001b[1;32m     57\u001b[0m \u001b[38;5;124;03m\"\"\"\u001b[39;00m\n\u001b[1;32m     58\u001b[0m \u001b[38;5;66;03m# this will raise errors in a normal-expected way\u001b[39;00m\n\u001b[0;32m---> 59\u001b[0m encoded_o \u001b[38;5;241m=\u001b[39m \u001b[38;5;28msuper\u001b[39m(PlotlyJSONEncoder, \u001b[38;5;28mself\u001b[39m)\u001b[38;5;241m.\u001b[39mencode(o)\n\u001b[1;32m     60\u001b[0m \u001b[38;5;66;03m# Brute force guessing whether NaN or Infinity values are in the string\u001b[39;00m\n\u001b[1;32m     61\u001b[0m \u001b[38;5;66;03m# We catch false positive cases (e.g. strings such as titles, labels etc.)\u001b[39;00m\n\u001b[1;32m     62\u001b[0m \u001b[38;5;66;03m# but this is ok since the intention is to skip the decoding / reencoding\u001b[39;00m\n\u001b[1;32m     63\u001b[0m \u001b[38;5;66;03m# step when it's completely safe\u001b[39;00m\n\u001b[1;32m     65\u001b[0m \u001b[38;5;28;01mif\u001b[39;00m \u001b[38;5;129;01mnot\u001b[39;00m (\u001b[38;5;124m\"\u001b[39m\u001b[38;5;124mNaN\u001b[39m\u001b[38;5;124m\"\u001b[39m \u001b[38;5;129;01min\u001b[39;00m encoded_o \u001b[38;5;129;01mor\u001b[39;00m \u001b[38;5;124m\"\u001b[39m\u001b[38;5;124mInfinity\u001b[39m\u001b[38;5;124m\"\u001b[39m \u001b[38;5;129;01min\u001b[39;00m encoded_o):\n",
      "File \u001b[0;32m~/anaconda3/lib/python3.11/json/encoder.py:200\u001b[0m, in \u001b[0;36mJSONEncoder.encode\u001b[0;34m(self, o)\u001b[0m\n\u001b[1;32m    196\u001b[0m         \u001b[38;5;28;01mreturn\u001b[39;00m encode_basestring(o)\n\u001b[1;32m    197\u001b[0m \u001b[38;5;66;03m# This doesn't pass the iterator directly to ''.join() because the\u001b[39;00m\n\u001b[1;32m    198\u001b[0m \u001b[38;5;66;03m# exceptions aren't as detailed.  The list call should be roughly\u001b[39;00m\n\u001b[1;32m    199\u001b[0m \u001b[38;5;66;03m# equivalent to the PySequence_Fast that ''.join() would do.\u001b[39;00m\n\u001b[0;32m--> 200\u001b[0m chunks \u001b[38;5;241m=\u001b[39m \u001b[38;5;28mself\u001b[39m\u001b[38;5;241m.\u001b[39miterencode(o, _one_shot\u001b[38;5;241m=\u001b[39m\u001b[38;5;28;01mTrue\u001b[39;00m)\n\u001b[1;32m    201\u001b[0m \u001b[38;5;28;01mif\u001b[39;00m \u001b[38;5;129;01mnot\u001b[39;00m \u001b[38;5;28misinstance\u001b[39m(chunks, (\u001b[38;5;28mlist\u001b[39m, \u001b[38;5;28mtuple\u001b[39m)):\n\u001b[1;32m    202\u001b[0m     chunks \u001b[38;5;241m=\u001b[39m \u001b[38;5;28mlist\u001b[39m(chunks)\n",
      "File \u001b[0;32m~/anaconda3/lib/python3.11/json/encoder.py:258\u001b[0m, in \u001b[0;36mJSONEncoder.iterencode\u001b[0;34m(self, o, _one_shot)\u001b[0m\n\u001b[1;32m    253\u001b[0m \u001b[38;5;28;01melse\u001b[39;00m:\n\u001b[1;32m    254\u001b[0m     _iterencode \u001b[38;5;241m=\u001b[39m _make_iterencode(\n\u001b[1;32m    255\u001b[0m         markers, \u001b[38;5;28mself\u001b[39m\u001b[38;5;241m.\u001b[39mdefault, _encoder, \u001b[38;5;28mself\u001b[39m\u001b[38;5;241m.\u001b[39mindent, floatstr,\n\u001b[1;32m    256\u001b[0m         \u001b[38;5;28mself\u001b[39m\u001b[38;5;241m.\u001b[39mkey_separator, \u001b[38;5;28mself\u001b[39m\u001b[38;5;241m.\u001b[39mitem_separator, \u001b[38;5;28mself\u001b[39m\u001b[38;5;241m.\u001b[39msort_keys,\n\u001b[1;32m    257\u001b[0m         \u001b[38;5;28mself\u001b[39m\u001b[38;5;241m.\u001b[39mskipkeys, _one_shot)\n\u001b[0;32m--> 258\u001b[0m \u001b[38;5;28;01mreturn\u001b[39;00m _iterencode(o, \u001b[38;5;241m0\u001b[39m)\n",
      "File \u001b[0;32m~/anaconda3/lib/python3.11/site-packages/_plotly_utils/utils.py:136\u001b[0m, in \u001b[0;36mPlotlyJSONEncoder.default\u001b[0;34m(self, obj)\u001b[0m\n\u001b[1;32m    134\u001b[0m     \u001b[38;5;28;01mexcept\u001b[39;00m NotEncodable:\n\u001b[1;32m    135\u001b[0m         \u001b[38;5;28;01mpass\u001b[39;00m\n\u001b[0;32m--> 136\u001b[0m \u001b[38;5;28;01mreturn\u001b[39;00m _json\u001b[38;5;241m.\u001b[39mJSONEncoder\u001b[38;5;241m.\u001b[39mdefault(\u001b[38;5;28mself\u001b[39m, obj)\n",
      "File \u001b[0;32m~/anaconda3/lib/python3.11/json/encoder.py:180\u001b[0m, in \u001b[0;36mJSONEncoder.default\u001b[0;34m(self, o)\u001b[0m\n\u001b[1;32m    161\u001b[0m \u001b[38;5;28;01mdef\u001b[39;00m \u001b[38;5;21mdefault\u001b[39m(\u001b[38;5;28mself\u001b[39m, o):\n\u001b[1;32m    162\u001b[0m \u001b[38;5;250m    \u001b[39m\u001b[38;5;124;03m\"\"\"Implement this method in a subclass such that it returns\u001b[39;00m\n\u001b[1;32m    163\u001b[0m \u001b[38;5;124;03m    a serializable object for ``o``, or calls the base implementation\u001b[39;00m\n\u001b[1;32m    164\u001b[0m \u001b[38;5;124;03m    (to raise a ``TypeError``).\u001b[39;00m\n\u001b[0;32m   (...)\u001b[0m\n\u001b[1;32m    178\u001b[0m \n\u001b[1;32m    179\u001b[0m \u001b[38;5;124;03m    \"\"\"\u001b[39;00m\n\u001b[0;32m--> 180\u001b[0m     \u001b[38;5;28;01mraise\u001b[39;00m \u001b[38;5;167;01mTypeError\u001b[39;00m(\u001b[38;5;124mf\u001b[39m\u001b[38;5;124m'\u001b[39m\u001b[38;5;124mObject of type \u001b[39m\u001b[38;5;132;01m{\u001b[39;00mo\u001b[38;5;241m.\u001b[39m\u001b[38;5;18m__class__\u001b[39m\u001b[38;5;241m.\u001b[39m\u001b[38;5;18m__name__\u001b[39m\u001b[38;5;132;01m}\u001b[39;00m\u001b[38;5;124m \u001b[39m\u001b[38;5;124m'\u001b[39m\n\u001b[1;32m    181\u001b[0m                     \u001b[38;5;124mf\u001b[39m\u001b[38;5;124m'\u001b[39m\u001b[38;5;124mis not JSON serializable\u001b[39m\u001b[38;5;124m'\u001b[39m)\n",
      "\u001b[0;31mTypeError\u001b[0m: Object of type timedelta is not JSON serializable"
     ]
    }
   ],
   "source": [
    "from datetime import timedelta\n",
    "\n",
    "total_time=sum((df['end']-df['start']).dt.total_seconds()/60) #合計時間\n",
    "df_t=df[(df['Speaker']=='T_Speech')]\n",
    "df_s=df[(df['Speaker']=='S_Speech')]   \n",
    "df_m=df[(df['Speaker']=='music')]   \n",
    "t_time=sum((df_t['end']-df_t['start']).dt.total_seconds()/60) #教師の発話時間\n",
    "s_time=sum((df_s['end']-df_s['start']).dt.total_seconds()/60) #生徒の発話時間\n",
    "m_time=sum((df_m['end']-df_m['start']).dt.total_seconds()/60) #演奏時間\n",
    "t_ratio=(t_time/total_time)*100 #稼働率\n",
    "s_ratio=(s_time/total_time)*100 #稼働率\n",
    "m_ratio=(m_time/total_time)*100 #稼働率\n",
    "\n",
    "fig= px.timeline(df, x_start=\"start\", x_end=\"end\",text=\"label(大)\", y=\"Speaker\",\n",
    "                            color=\"Speaker\", #ラベルで色分け\n",
    "                            color_discrete_map={'T_Speech':'rgb(0,225,0)',\n",
    "                                                                   'S_Speech':'rgb(255,0,0)',\n",
    "                                                                   'music':'rgb(0,0,225)'},\n",
    "                            category_orders={\"labels\":['T_Speech','S_Speech','music']},\n",
    "                            title=f\"教師の発話時間:{round(t_time, 1)}min,割合:{round(t_ratio, 1)}%,生徒の発話時間:{round(s_time, 1)}min,割合:{round(s_ratio, 1)}%,演奏時間:{round(m_time, 1)}min,割合:{round(m_ratio, 1)}%\")\n",
    "fig.update_traces(textposition='inside', orientation=\"h\")\n",
    "fig.show()\n"
   ]
  },
  {
   "cell_type": "code",
   "execution_count": 2,
   "metadata": {},
   "outputs": [
    {
     "ename": "TypeError",
     "evalue": "Object of type timedelta is not JSON serializable",
     "output_type": "error",
     "traceback": [
      "\u001b[0;31m---------------------------------------------------------------------------\u001b[0m",
      "\u001b[0;31mTypeError\u001b[0m                                 Traceback (most recent call last)",
      "Cell \u001b[0;32mIn[2], line 12\u001b[0m\n\u001b[1;32m     10\u001b[0m fig \u001b[38;5;241m=\u001b[39m px\u001b[38;5;241m.\u001b[39mtimeline(df, x_start\u001b[38;5;241m=\u001b[39m\u001b[38;5;124m\"\u001b[39m\u001b[38;5;124mStart\u001b[39m\u001b[38;5;124m\"\u001b[39m, x_end\u001b[38;5;241m=\u001b[39m\u001b[38;5;124m\"\u001b[39m\u001b[38;5;124mFinish\u001b[39m\u001b[38;5;124m\"\u001b[39m, y\u001b[38;5;241m=\u001b[39m\u001b[38;5;124m\"\u001b[39m\u001b[38;5;124mTask\u001b[39m\u001b[38;5;124m\"\u001b[39m, color\u001b[38;5;241m=\u001b[39m\u001b[38;5;124m\"\u001b[39m\u001b[38;5;124mResource\u001b[39m\u001b[38;5;124m\"\u001b[39m, title\u001b[38;5;241m=\u001b[39m\u001b[38;5;124m\"\u001b[39m\u001b[38;5;124mGantt chart\u001b[39m\u001b[38;5;124m\"\u001b[39m)\n\u001b[1;32m     11\u001b[0m fig\u001b[38;5;241m.\u001b[39mupdate_yaxes(autorange\u001b[38;5;241m=\u001b[39m\u001b[38;5;124m\"\u001b[39m\u001b[38;5;124mreversed\u001b[39m\u001b[38;5;124m\"\u001b[39m)\n\u001b[0;32m---> 12\u001b[0m fig\u001b[38;5;241m.\u001b[39mshow()\n",
      "File \u001b[0;32m~/anaconda3/lib/python3.11/site-packages/plotly/basedatatypes.py:3398\u001b[0m, in \u001b[0;36mBaseFigure.show\u001b[0;34m(self, *args, **kwargs)\u001b[0m\n\u001b[1;32m   3365\u001b[0m \u001b[38;5;250m\u001b[39m\u001b[38;5;124;03m\"\"\"\u001b[39;00m\n\u001b[1;32m   3366\u001b[0m \u001b[38;5;124;03mShow a figure using either the default renderer(s) or the renderer(s)\u001b[39;00m\n\u001b[1;32m   3367\u001b[0m \u001b[38;5;124;03mspecified by the renderer argument\u001b[39;00m\n\u001b[0;32m   (...)\u001b[0m\n\u001b[1;32m   3394\u001b[0m \u001b[38;5;124;03mNone\u001b[39;00m\n\u001b[1;32m   3395\u001b[0m \u001b[38;5;124;03m\"\"\"\u001b[39;00m\n\u001b[1;32m   3396\u001b[0m \u001b[38;5;28;01mimport\u001b[39;00m \u001b[38;5;21;01mplotly\u001b[39;00m\u001b[38;5;21;01m.\u001b[39;00m\u001b[38;5;21;01mio\u001b[39;00m \u001b[38;5;28;01mas\u001b[39;00m \u001b[38;5;21;01mpio\u001b[39;00m\n\u001b[0;32m-> 3398\u001b[0m \u001b[38;5;28;01mreturn\u001b[39;00m pio\u001b[38;5;241m.\u001b[39mshow(\u001b[38;5;28mself\u001b[39m, \u001b[38;5;241m*\u001b[39margs, \u001b[38;5;241m*\u001b[39m\u001b[38;5;241m*\u001b[39mkwargs)\n",
      "File \u001b[0;32m~/anaconda3/lib/python3.11/site-packages/plotly/io/_renderers.py:388\u001b[0m, in \u001b[0;36mshow\u001b[0;34m(fig, renderer, validate, **kwargs)\u001b[0m\n\u001b[1;32m    385\u001b[0m fig_dict \u001b[38;5;241m=\u001b[39m validate_coerce_fig_to_dict(fig, validate)\n\u001b[1;32m    387\u001b[0m \u001b[38;5;66;03m# Mimetype renderers\u001b[39;00m\n\u001b[0;32m--> 388\u001b[0m bundle \u001b[38;5;241m=\u001b[39m renderers\u001b[38;5;241m.\u001b[39m_build_mime_bundle(fig_dict, renderers_string\u001b[38;5;241m=\u001b[39mrenderer, \u001b[38;5;241m*\u001b[39m\u001b[38;5;241m*\u001b[39mkwargs)\n\u001b[1;32m    389\u001b[0m \u001b[38;5;28;01mif\u001b[39;00m bundle:\n\u001b[1;32m    390\u001b[0m     \u001b[38;5;28;01mif\u001b[39;00m \u001b[38;5;129;01mnot\u001b[39;00m ipython_display:\n",
      "File \u001b[0;32m~/anaconda3/lib/python3.11/site-packages/plotly/io/_renderers.py:296\u001b[0m, in \u001b[0;36mRenderersConfig._build_mime_bundle\u001b[0;34m(self, fig_dict, renderers_string, **kwargs)\u001b[0m\n\u001b[1;32m    293\u001b[0m             \u001b[38;5;28;01mif\u001b[39;00m \u001b[38;5;28mhasattr\u001b[39m(renderer, k):\n\u001b[1;32m    294\u001b[0m                 \u001b[38;5;28msetattr\u001b[39m(renderer, k, v)\n\u001b[0;32m--> 296\u001b[0m         bundle\u001b[38;5;241m.\u001b[39mupdate(renderer\u001b[38;5;241m.\u001b[39mto_mimebundle(fig_dict))\n\u001b[1;32m    298\u001b[0m \u001b[38;5;28;01mreturn\u001b[39;00m bundle\n",
      "File \u001b[0;32m~/anaconda3/lib/python3.11/site-packages/plotly/io/_base_renderers.py:95\u001b[0m, in \u001b[0;36mPlotlyRenderer.to_mimebundle\u001b[0;34m(self, fig_dict)\u001b[0m\n\u001b[1;32m     91\u001b[0m \u001b[38;5;28;01mif\u001b[39;00m config:\n\u001b[1;32m     92\u001b[0m     fig_dict[\u001b[38;5;124m\"\u001b[39m\u001b[38;5;124mconfig\u001b[39m\u001b[38;5;124m\"\u001b[39m] \u001b[38;5;241m=\u001b[39m config\n\u001b[1;32m     94\u001b[0m json_compatible_fig_dict \u001b[38;5;241m=\u001b[39m json\u001b[38;5;241m.\u001b[39mloads(\n\u001b[0;32m---> 95\u001b[0m     to_json(fig_dict, validate\u001b[38;5;241m=\u001b[39m\u001b[38;5;28;01mFalse\u001b[39;00m, remove_uids\u001b[38;5;241m=\u001b[39m\u001b[38;5;28;01mFalse\u001b[39;00m)\n\u001b[1;32m     96\u001b[0m )\n\u001b[1;32m     98\u001b[0m \u001b[38;5;28;01mreturn\u001b[39;00m {\u001b[38;5;124m\"\u001b[39m\u001b[38;5;124mapplication/vnd.plotly.v1+json\u001b[39m\u001b[38;5;124m\"\u001b[39m: json_compatible_fig_dict}\n",
      "File \u001b[0;32m~/anaconda3/lib/python3.11/site-packages/plotly/io/_json.py:199\u001b[0m, in \u001b[0;36mto_json\u001b[0;34m(fig, validate, pretty, remove_uids, engine)\u001b[0m\n\u001b[1;32m    196\u001b[0m     \u001b[38;5;28;01mfor\u001b[39;00m trace \u001b[38;5;129;01min\u001b[39;00m fig_dict\u001b[38;5;241m.\u001b[39mget(\u001b[38;5;124m\"\u001b[39m\u001b[38;5;124mdata\u001b[39m\u001b[38;5;124m\"\u001b[39m, []):\n\u001b[1;32m    197\u001b[0m         trace\u001b[38;5;241m.\u001b[39mpop(\u001b[38;5;124m\"\u001b[39m\u001b[38;5;124muid\u001b[39m\u001b[38;5;124m\"\u001b[39m, \u001b[38;5;28;01mNone\u001b[39;00m)\n\u001b[0;32m--> 199\u001b[0m \u001b[38;5;28;01mreturn\u001b[39;00m to_json_plotly(fig_dict, pretty\u001b[38;5;241m=\u001b[39mpretty, engine\u001b[38;5;241m=\u001b[39mengine)\n",
      "File \u001b[0;32m~/anaconda3/lib/python3.11/site-packages/plotly/io/_json.py:123\u001b[0m, in \u001b[0;36mto_json_plotly\u001b[0;34m(plotly_object, pretty, engine)\u001b[0m\n\u001b[1;32m    119\u001b[0m         opts[\u001b[38;5;124m\"\u001b[39m\u001b[38;5;124mseparators\u001b[39m\u001b[38;5;124m\"\u001b[39m] \u001b[38;5;241m=\u001b[39m (\u001b[38;5;124m\"\u001b[39m\u001b[38;5;124m,\u001b[39m\u001b[38;5;124m\"\u001b[39m, \u001b[38;5;124m\"\u001b[39m\u001b[38;5;124m:\u001b[39m\u001b[38;5;124m\"\u001b[39m)\n\u001b[1;32m    121\u001b[0m     \u001b[38;5;28;01mfrom\u001b[39;00m \u001b[38;5;21;01m_plotly_utils\u001b[39;00m\u001b[38;5;21;01m.\u001b[39;00m\u001b[38;5;21;01mutils\u001b[39;00m \u001b[38;5;28;01mimport\u001b[39;00m PlotlyJSONEncoder\n\u001b[0;32m--> 123\u001b[0m     \u001b[38;5;28;01mreturn\u001b[39;00m json\u001b[38;5;241m.\u001b[39mdumps(plotly_object, \u001b[38;5;28mcls\u001b[39m\u001b[38;5;241m=\u001b[39mPlotlyJSONEncoder, \u001b[38;5;241m*\u001b[39m\u001b[38;5;241m*\u001b[39mopts)\n\u001b[1;32m    124\u001b[0m \u001b[38;5;28;01melif\u001b[39;00m engine \u001b[38;5;241m==\u001b[39m \u001b[38;5;124m\"\u001b[39m\u001b[38;5;124morjson\u001b[39m\u001b[38;5;124m\"\u001b[39m:\n\u001b[1;32m    125\u001b[0m     JsonConfig\u001b[38;5;241m.\u001b[39mvalidate_orjson()\n",
      "File \u001b[0;32m~/anaconda3/lib/python3.11/json/__init__.py:238\u001b[0m, in \u001b[0;36mdumps\u001b[0;34m(obj, skipkeys, ensure_ascii, check_circular, allow_nan, cls, indent, separators, default, sort_keys, **kw)\u001b[0m\n\u001b[1;32m    232\u001b[0m \u001b[38;5;28;01mif\u001b[39;00m \u001b[38;5;28mcls\u001b[39m \u001b[38;5;129;01mis\u001b[39;00m \u001b[38;5;28;01mNone\u001b[39;00m:\n\u001b[1;32m    233\u001b[0m     \u001b[38;5;28mcls\u001b[39m \u001b[38;5;241m=\u001b[39m JSONEncoder\n\u001b[1;32m    234\u001b[0m \u001b[38;5;28;01mreturn\u001b[39;00m \u001b[38;5;28mcls\u001b[39m(\n\u001b[1;32m    235\u001b[0m     skipkeys\u001b[38;5;241m=\u001b[39mskipkeys, ensure_ascii\u001b[38;5;241m=\u001b[39mensure_ascii,\n\u001b[1;32m    236\u001b[0m     check_circular\u001b[38;5;241m=\u001b[39mcheck_circular, allow_nan\u001b[38;5;241m=\u001b[39mallow_nan, indent\u001b[38;5;241m=\u001b[39mindent,\n\u001b[1;32m    237\u001b[0m     separators\u001b[38;5;241m=\u001b[39mseparators, default\u001b[38;5;241m=\u001b[39mdefault, sort_keys\u001b[38;5;241m=\u001b[39msort_keys,\n\u001b[0;32m--> 238\u001b[0m     \u001b[38;5;241m*\u001b[39m\u001b[38;5;241m*\u001b[39mkw)\u001b[38;5;241m.\u001b[39mencode(obj)\n",
      "File \u001b[0;32m~/anaconda3/lib/python3.11/site-packages/_plotly_utils/utils.py:59\u001b[0m, in \u001b[0;36mPlotlyJSONEncoder.encode\u001b[0;34m(self, o)\u001b[0m\n\u001b[1;32m     52\u001b[0m \u001b[38;5;250m\u001b[39m\u001b[38;5;124;03m\"\"\"\u001b[39;00m\n\u001b[1;32m     53\u001b[0m \u001b[38;5;124;03mLoad and then dump the result using parse_constant kwarg\u001b[39;00m\n\u001b[1;32m     54\u001b[0m \n\u001b[1;32m     55\u001b[0m \u001b[38;5;124;03mNote that setting invalid separators will cause a failure at this step.\u001b[39;00m\n\u001b[1;32m     56\u001b[0m \n\u001b[1;32m     57\u001b[0m \u001b[38;5;124;03m\"\"\"\u001b[39;00m\n\u001b[1;32m     58\u001b[0m \u001b[38;5;66;03m# this will raise errors in a normal-expected way\u001b[39;00m\n\u001b[0;32m---> 59\u001b[0m encoded_o \u001b[38;5;241m=\u001b[39m \u001b[38;5;28msuper\u001b[39m(PlotlyJSONEncoder, \u001b[38;5;28mself\u001b[39m)\u001b[38;5;241m.\u001b[39mencode(o)\n\u001b[1;32m     60\u001b[0m \u001b[38;5;66;03m# Brute force guessing whether NaN or Infinity values are in the string\u001b[39;00m\n\u001b[1;32m     61\u001b[0m \u001b[38;5;66;03m# We catch false positive cases (e.g. strings such as titles, labels etc.)\u001b[39;00m\n\u001b[1;32m     62\u001b[0m \u001b[38;5;66;03m# but this is ok since the intention is to skip the decoding / reencoding\u001b[39;00m\n\u001b[1;32m     63\u001b[0m \u001b[38;5;66;03m# step when it's completely safe\u001b[39;00m\n\u001b[1;32m     65\u001b[0m \u001b[38;5;28;01mif\u001b[39;00m \u001b[38;5;129;01mnot\u001b[39;00m (\u001b[38;5;124m\"\u001b[39m\u001b[38;5;124mNaN\u001b[39m\u001b[38;5;124m\"\u001b[39m \u001b[38;5;129;01min\u001b[39;00m encoded_o \u001b[38;5;129;01mor\u001b[39;00m \u001b[38;5;124m\"\u001b[39m\u001b[38;5;124mInfinity\u001b[39m\u001b[38;5;124m\"\u001b[39m \u001b[38;5;129;01min\u001b[39;00m encoded_o):\n",
      "File \u001b[0;32m~/anaconda3/lib/python3.11/json/encoder.py:200\u001b[0m, in \u001b[0;36mJSONEncoder.encode\u001b[0;34m(self, o)\u001b[0m\n\u001b[1;32m    196\u001b[0m         \u001b[38;5;28;01mreturn\u001b[39;00m encode_basestring(o)\n\u001b[1;32m    197\u001b[0m \u001b[38;5;66;03m# This doesn't pass the iterator directly to ''.join() because the\u001b[39;00m\n\u001b[1;32m    198\u001b[0m \u001b[38;5;66;03m# exceptions aren't as detailed.  The list call should be roughly\u001b[39;00m\n\u001b[1;32m    199\u001b[0m \u001b[38;5;66;03m# equivalent to the PySequence_Fast that ''.join() would do.\u001b[39;00m\n\u001b[0;32m--> 200\u001b[0m chunks \u001b[38;5;241m=\u001b[39m \u001b[38;5;28mself\u001b[39m\u001b[38;5;241m.\u001b[39miterencode(o, _one_shot\u001b[38;5;241m=\u001b[39m\u001b[38;5;28;01mTrue\u001b[39;00m)\n\u001b[1;32m    201\u001b[0m \u001b[38;5;28;01mif\u001b[39;00m \u001b[38;5;129;01mnot\u001b[39;00m \u001b[38;5;28misinstance\u001b[39m(chunks, (\u001b[38;5;28mlist\u001b[39m, \u001b[38;5;28mtuple\u001b[39m)):\n\u001b[1;32m    202\u001b[0m     chunks \u001b[38;5;241m=\u001b[39m \u001b[38;5;28mlist\u001b[39m(chunks)\n",
      "File \u001b[0;32m~/anaconda3/lib/python3.11/json/encoder.py:258\u001b[0m, in \u001b[0;36mJSONEncoder.iterencode\u001b[0;34m(self, o, _one_shot)\u001b[0m\n\u001b[1;32m    253\u001b[0m \u001b[38;5;28;01melse\u001b[39;00m:\n\u001b[1;32m    254\u001b[0m     _iterencode \u001b[38;5;241m=\u001b[39m _make_iterencode(\n\u001b[1;32m    255\u001b[0m         markers, \u001b[38;5;28mself\u001b[39m\u001b[38;5;241m.\u001b[39mdefault, _encoder, \u001b[38;5;28mself\u001b[39m\u001b[38;5;241m.\u001b[39mindent, floatstr,\n\u001b[1;32m    256\u001b[0m         \u001b[38;5;28mself\u001b[39m\u001b[38;5;241m.\u001b[39mkey_separator, \u001b[38;5;28mself\u001b[39m\u001b[38;5;241m.\u001b[39mitem_separator, \u001b[38;5;28mself\u001b[39m\u001b[38;5;241m.\u001b[39msort_keys,\n\u001b[1;32m    257\u001b[0m         \u001b[38;5;28mself\u001b[39m\u001b[38;5;241m.\u001b[39mskipkeys, _one_shot)\n\u001b[0;32m--> 258\u001b[0m \u001b[38;5;28;01mreturn\u001b[39;00m _iterencode(o, \u001b[38;5;241m0\u001b[39m)\n",
      "File \u001b[0;32m~/anaconda3/lib/python3.11/site-packages/_plotly_utils/utils.py:136\u001b[0m, in \u001b[0;36mPlotlyJSONEncoder.default\u001b[0;34m(self, obj)\u001b[0m\n\u001b[1;32m    134\u001b[0m     \u001b[38;5;28;01mexcept\u001b[39;00m NotEncodable:\n\u001b[1;32m    135\u001b[0m         \u001b[38;5;28;01mpass\u001b[39;00m\n\u001b[0;32m--> 136\u001b[0m \u001b[38;5;28;01mreturn\u001b[39;00m _json\u001b[38;5;241m.\u001b[39mJSONEncoder\u001b[38;5;241m.\u001b[39mdefault(\u001b[38;5;28mself\u001b[39m, obj)\n",
      "File \u001b[0;32m~/anaconda3/lib/python3.11/json/encoder.py:180\u001b[0m, in \u001b[0;36mJSONEncoder.default\u001b[0;34m(self, o)\u001b[0m\n\u001b[1;32m    161\u001b[0m \u001b[38;5;28;01mdef\u001b[39;00m \u001b[38;5;21mdefault\u001b[39m(\u001b[38;5;28mself\u001b[39m, o):\n\u001b[1;32m    162\u001b[0m \u001b[38;5;250m    \u001b[39m\u001b[38;5;124;03m\"\"\"Implement this method in a subclass such that it returns\u001b[39;00m\n\u001b[1;32m    163\u001b[0m \u001b[38;5;124;03m    a serializable object for ``o``, or calls the base implementation\u001b[39;00m\n\u001b[1;32m    164\u001b[0m \u001b[38;5;124;03m    (to raise a ``TypeError``).\u001b[39;00m\n\u001b[0;32m   (...)\u001b[0m\n\u001b[1;32m    178\u001b[0m \n\u001b[1;32m    179\u001b[0m \u001b[38;5;124;03m    \"\"\"\u001b[39;00m\n\u001b[0;32m--> 180\u001b[0m     \u001b[38;5;28;01mraise\u001b[39;00m \u001b[38;5;167;01mTypeError\u001b[39;00m(\u001b[38;5;124mf\u001b[39m\u001b[38;5;124m'\u001b[39m\u001b[38;5;124mObject of type \u001b[39m\u001b[38;5;132;01m{\u001b[39;00mo\u001b[38;5;241m.\u001b[39m\u001b[38;5;18m__class__\u001b[39m\u001b[38;5;241m.\u001b[39m\u001b[38;5;18m__name__\u001b[39m\u001b[38;5;132;01m}\u001b[39;00m\u001b[38;5;124m \u001b[39m\u001b[38;5;124m'\u001b[39m\n\u001b[1;32m    181\u001b[0m                     \u001b[38;5;124mf\u001b[39m\u001b[38;5;124m'\u001b[39m\u001b[38;5;124mis not JSON serializable\u001b[39m\u001b[38;5;124m'\u001b[39m)\n",
      "\u001b[0;31mTypeError\u001b[0m: Object of type timedelta is not JSON serializable"
     ]
    }
   ],
   "source": [
    "import plotly.express as px\n",
    "import pandas as pd\n",
    "\n",
    "df = pd.DataFrame([\n",
    "    dict(Task=\"Job A\", Start='2009-01-01', Finish='2009-02-28', Resource=\"Alex\"),\n",
    "    dict(Task=\"Job B\", Start='2009-03-05', Finish='2009-04-15', Resource=\"Alex\"),\n",
    "    dict(Task=\"Job C\", Start='2009-02-20', Finish='2009-05-30', Resource=\"Max\")\n",
    "])\n",
    "\n",
    "fig = px.timeline(df, x_start=\"Start\", x_end=\"Finish\", y=\"Task\", color=\"Resource\", title=\"Gantt chart\")\n",
    "fig.update_yaxes(autorange=\"reversed\")\n",
    "fig.show()"
   ]
  },
  {
   "cell_type": "code",
   "execution_count": null,
   "metadata": {},
   "outputs": [],
   "source": []
  }
 ],
 "metadata": {
  "kernelspec": {
   "display_name": "Python 3 (ipykernel)",
   "language": "python",
   "name": "python3"
  },
  "language_info": {
   "codemirror_mode": {
    "name": "ipython",
    "version": 3
   },
   "file_extension": ".py",
   "mimetype": "text/x-python",
   "name": "python",
   "nbconvert_exporter": "python",
   "pygments_lexer": "ipython3",
   "version": "3.9.13"
  }
 },
 "nbformat": 4,
 "nbformat_minor": 4
}
